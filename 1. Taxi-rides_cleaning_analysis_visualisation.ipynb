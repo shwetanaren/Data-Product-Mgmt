{
 "cells": [
  {
   "cell_type": "markdown",
   "id": "938e4a1e",
   "metadata": {},
   "source": [
    "# Flyber - Midterm - Data Exploration"
   ]
  },
  {
   "cell_type": "code",
   "execution_count": 1,
   "id": "192c9b4e",
   "metadata": {},
   "outputs": [
    {
     "name": "stdout",
     "output_type": "stream",
     "text": [
      "3.7.7 (default, Mar 23 2020, 17:31:31) \n",
      "[Clang 4.0.1 (tags/RELEASE_401/final)]\n",
      "Numpy version: 1.19.2\n",
      "Pandas version: 1.2.4\n",
      "Matplotlib version: 3.3.4\n",
      "Seaborn version: 0.11.1\n"
     ]
    }
   ],
   "source": [
    "import sys\n",
    "print(sys.version)\n",
    "\n",
    "#array and vector processing \n",
    "import numpy as np\n",
    "print(f'Numpy version:', np.__version__)\n",
    "\n",
    "import pandas as pd\n",
    "print(f'Pandas version:', pd.__version__)\n",
    "\n",
    "# Visualisation\n",
    "import matplotlib as mpl\n",
    "import matplotlib.pyplot as plt\n",
    "print(f'Matplotlib version:', mpl.__version__)\n",
    "%matplotlib inline\n",
    "\n",
    "import seaborn as sns\n",
    "print(f'Seaborn version:', sns.__version__)\n",
    "\n",
    "#using the datetime object properties in pandas\n",
    "import datetime as dt\n",
    "from datetime import timedelta"
   ]
  },
  {
   "cell_type": "markdown",
   "id": "9fd3de99",
   "metadata": {},
   "source": [
    "# Data Preprocessing\n",
    "### Reading the data"
   ]
  },
  {
   "cell_type": "code",
   "execution_count": 2,
   "id": "4733d2e5",
   "metadata": {},
   "outputs": [],
   "source": [
    "# Loading the taxi_rides data into the pandas Dataframe\n",
    "df = pd.read_csv('../taxi-rides.csv')"
   ]
  },
  {
   "cell_type": "code",
   "execution_count": 3,
   "id": "7a16280a",
   "metadata": {},
   "outputs": [
    {
     "name": "stdout",
     "output_type": "stream",
     "text": [
      "Unnamed: 12\n",
      "Unnamed: 13\n",
      "Unnamed: 14\n",
      "distance\n",
      "dropoff_datetime\n",
      "dropoff_latitude\n",
      "dropoff_longitude\n",
      "duration\n",
      "id\n",
      "passenger_count\n",
      "pickup_datetime\n",
      "pickup_latitude\n",
      "pickup_longitude\n",
      "store_and_fwd_flag\n",
      "vendor_id\n"
     ]
    }
   ],
   "source": [
    "#listing the columns pertaining to the rides table:\n",
    "for col in sorted(df.columns):\n",
    "    print(col)"
   ]
  },
  {
   "cell_type": "markdown",
   "id": "540298bc",
   "metadata": {},
   "source": [
    "### Removing the empty columns"
   ]
  },
  {
   "cell_type": "code",
   "execution_count": 4,
   "id": "f11a2e12",
   "metadata": {},
   "outputs": [],
   "source": [
    "df = df.drop(columns=[col for col in df.columns if 'Unnamed' in col])"
   ]
  },
  {
   "cell_type": "code",
   "execution_count": 5,
   "id": "a353ade3",
   "metadata": {},
   "outputs": [
    {
     "name": "stdout",
     "output_type": "stream",
     "text": [
      "<class 'pandas.core.frame.DataFrame'>\n",
      "RangeIndex: 1048468 entries, 0 to 1048467\n",
      "Data columns (total 12 columns):\n",
      " #   Column              Non-Null Count    Dtype  \n",
      "---  ------              --------------    -----  \n",
      " 0   id                  1048468 non-null  object \n",
      " 1   vendor_id           1048468 non-null  int64  \n",
      " 2   pickup_datetime     1048468 non-null  object \n",
      " 3   dropoff_datetime    1048468 non-null  object \n",
      " 4   passenger_count     1048468 non-null  int64  \n",
      " 5   pickup_longitude    1048468 non-null  float64\n",
      " 6   pickup_latitude     1048468 non-null  float64\n",
      " 7   dropoff_longitude   1048468 non-null  float64\n",
      " 8   dropoff_latitude    1048468 non-null  float64\n",
      " 9   store_and_fwd_flag  1048468 non-null  object \n",
      " 10  duration            1048468 non-null  int64  \n",
      " 11  distance            1048468 non-null  float64\n",
      "dtypes: float64(5), int64(3), object(4)\n",
      "memory usage: 96.0+ MB\n"
     ]
    }
   ],
   "source": [
    "df.info() # 1.05 Million observations."
   ]
  },
  {
   "cell_type": "markdown",
   "id": "9e7e087c",
   "metadata": {},
   "source": [
    "### Converting columns to the right datatypes"
   ]
  },
  {
   "cell_type": "code",
   "execution_count": 6,
   "id": "0fcb8ee6",
   "metadata": {},
   "outputs": [],
   "source": [
    "# Converting the data type for `pickup and dropoff` columns to datetimeIndex\n",
    "\n",
    "df['pickup_datetime']= pd.to_datetime(df['pickup_datetime'])\n",
    "df['dropoff_datetime']= pd.to_datetime(df['dropoff_datetime'])\n",
    "\n",
    "#converting vendor_id to type category\n",
    "df['vendor_id'] = df['vendor_id'].astype('category') \n",
    "\n",
    "#converting object to boolean for the 'store_and_fwd_flag'\n",
    "df['store_and_fwd_flag'] = df['store_and_fwd_flag'].map({'N': False, 'Y': True})"
   ]
  },
  {
   "cell_type": "code",
   "execution_count": 7,
   "id": "b25155b3",
   "metadata": {},
   "outputs": [
    {
     "data": {
      "text/plain": [
       "id                            object\n",
       "vendor_id                   category\n",
       "pickup_datetime       datetime64[ns]\n",
       "dropoff_datetime      datetime64[ns]\n",
       "passenger_count                int64\n",
       "pickup_longitude             float64\n",
       "pickup_latitude              float64\n",
       "dropoff_longitude            float64\n",
       "dropoff_latitude             float64\n",
       "store_and_fwd_flag              bool\n",
       "duration                       int64\n",
       "distance                     float64\n",
       "dtype: object"
      ]
     },
     "execution_count": 7,
     "metadata": {},
     "output_type": "execute_result"
    }
   ],
   "source": [
    "#verifying the datatimes for each of the columns\n",
    "df.dtypes"
   ]
  },
  {
   "cell_type": "markdown",
   "id": "a2b86cc5",
   "metadata": {},
   "source": [
    "### Checking for missing values"
   ]
  },
  {
   "cell_type": "code",
   "execution_count": 8,
   "id": "296f78ed",
   "metadata": {},
   "outputs": [
    {
     "data": {
      "text/plain": [
       "id                    0\n",
       "vendor_id             0\n",
       "pickup_datetime       0\n",
       "dropoff_datetime      0\n",
       "passenger_count       0\n",
       "pickup_longitude      0\n",
       "pickup_latitude       0\n",
       "dropoff_longitude     0\n",
       "dropoff_latitude      0\n",
       "store_and_fwd_flag    0\n",
       "duration              0\n",
       "distance              0\n",
       "dtype: int64"
      ]
     },
     "execution_count": 8,
     "metadata": {},
     "output_type": "execute_result"
    }
   ],
   "source": [
    "df.isnull().sum()"
   ]
  },
  {
   "cell_type": "code",
   "execution_count": 9,
   "id": "a8ed41b0",
   "metadata": {},
   "outputs": [
    {
     "data": {
      "text/html": [
       "<div>\n",
       "<style scoped>\n",
       "    .dataframe tbody tr th:only-of-type {\n",
       "        vertical-align: middle;\n",
       "    }\n",
       "\n",
       "    .dataframe tbody tr th {\n",
       "        vertical-align: top;\n",
       "    }\n",
       "\n",
       "    .dataframe thead th {\n",
       "        text-align: right;\n",
       "    }\n",
       "</style>\n",
       "<table border=\"1\" class=\"dataframe\">\n",
       "  <thead>\n",
       "    <tr style=\"text-align: right;\">\n",
       "      <th></th>\n",
       "      <th>id</th>\n",
       "      <th>vendor_id</th>\n",
       "      <th>pickup_datetime</th>\n",
       "      <th>dropoff_datetime</th>\n",
       "      <th>passenger_count</th>\n",
       "      <th>pickup_longitude</th>\n",
       "      <th>pickup_latitude</th>\n",
       "      <th>dropoff_longitude</th>\n",
       "      <th>dropoff_latitude</th>\n",
       "      <th>store_and_fwd_flag</th>\n",
       "      <th>duration</th>\n",
       "      <th>distance</th>\n",
       "    </tr>\n",
       "  </thead>\n",
       "  <tbody>\n",
       "    <tr>\n",
       "      <th>0</th>\n",
       "      <td>id3487442</td>\n",
       "      <td>2</td>\n",
       "      <td>2016-02-29 18:39:00</td>\n",
       "      <td>2016-02-29 18:42:00</td>\n",
       "      <td>1</td>\n",
       "      <td>-73.981819</td>\n",
       "      <td>40.768963</td>\n",
       "      <td>-73.981819</td>\n",
       "      <td>40.768963</td>\n",
       "      <td>False</td>\n",
       "      <td>227</td>\n",
       "      <td>0.0</td>\n",
       "    </tr>\n",
       "    <tr>\n",
       "      <th>1</th>\n",
       "      <td>id1145809</td>\n",
       "      <td>2</td>\n",
       "      <td>2016-05-16 23:15:00</td>\n",
       "      <td>2016-05-16 23:31:00</td>\n",
       "      <td>6</td>\n",
       "      <td>-73.808487</td>\n",
       "      <td>40.687336</td>\n",
       "      <td>-73.808487</td>\n",
       "      <td>40.687336</td>\n",
       "      <td>False</td>\n",
       "      <td>947</td>\n",
       "      <td>0.0</td>\n",
       "    </tr>\n",
       "    <tr>\n",
       "      <th>2</th>\n",
       "      <td>id3499387</td>\n",
       "      <td>1</td>\n",
       "      <td>2016-01-25 19:45:00</td>\n",
       "      <td>2016-01-25 19:54:00</td>\n",
       "      <td>1</td>\n",
       "      <td>-73.786720</td>\n",
       "      <td>40.647041</td>\n",
       "      <td>-73.786720</td>\n",
       "      <td>40.647041</td>\n",
       "      <td>False</td>\n",
       "      <td>580</td>\n",
       "      <td>0.0</td>\n",
       "    </tr>\n",
       "    <tr>\n",
       "      <th>3</th>\n",
       "      <td>id0753277</td>\n",
       "      <td>1</td>\n",
       "      <td>2016-01-27 22:29:00</td>\n",
       "      <td>2016-01-27 22:29:00</td>\n",
       "      <td>1</td>\n",
       "      <td>-74.209854</td>\n",
       "      <td>40.816853</td>\n",
       "      <td>-74.209854</td>\n",
       "      <td>40.816853</td>\n",
       "      <td>False</td>\n",
       "      <td>27</td>\n",
       "      <td>0.0</td>\n",
       "    </tr>\n",
       "    <tr>\n",
       "      <th>4</th>\n",
       "      <td>id2134482</td>\n",
       "      <td>1</td>\n",
       "      <td>2016-01-22 16:13:00</td>\n",
       "      <td>2016-01-22 16:13:00</td>\n",
       "      <td>1</td>\n",
       "      <td>-73.776314</td>\n",
       "      <td>40.645454</td>\n",
       "      <td>-73.776314</td>\n",
       "      <td>40.645454</td>\n",
       "      <td>False</td>\n",
       "      <td>19</td>\n",
       "      <td>0.0</td>\n",
       "    </tr>\n",
       "  </tbody>\n",
       "</table>\n",
       "</div>"
      ],
      "text/plain": [
       "          id vendor_id     pickup_datetime    dropoff_datetime  \\\n",
       "0  id3487442         2 2016-02-29 18:39:00 2016-02-29 18:42:00   \n",
       "1  id1145809         2 2016-05-16 23:15:00 2016-05-16 23:31:00   \n",
       "2  id3499387         1 2016-01-25 19:45:00 2016-01-25 19:54:00   \n",
       "3  id0753277         1 2016-01-27 22:29:00 2016-01-27 22:29:00   \n",
       "4  id2134482         1 2016-01-22 16:13:00 2016-01-22 16:13:00   \n",
       "\n",
       "   passenger_count  pickup_longitude  pickup_latitude  dropoff_longitude  \\\n",
       "0                1        -73.981819        40.768963         -73.981819   \n",
       "1                6        -73.808487        40.687336         -73.808487   \n",
       "2                1        -73.786720        40.647041         -73.786720   \n",
       "3                1        -74.209854        40.816853         -74.209854   \n",
       "4                1        -73.776314        40.645454         -73.776314   \n",
       "\n",
       "   dropoff_latitude  store_and_fwd_flag  duration  distance  \n",
       "0         40.768963               False       227       0.0  \n",
       "1         40.687336               False       947       0.0  \n",
       "2         40.647041               False       580       0.0  \n",
       "3         40.816853               False        27       0.0  \n",
       "4         40.645454               False        19       0.0  "
      ]
     },
     "execution_count": 9,
     "metadata": {},
     "output_type": "execute_result"
    }
   ],
   "source": [
    "df.head()"
   ]
  },
  {
   "cell_type": "markdown",
   "id": "6784f8a5",
   "metadata": {},
   "source": [
    "### Saving the dataset"
   ]
  },
  {
   "cell_type": "code",
   "execution_count": 10,
   "id": "744c3061",
   "metadata": {},
   "outputs": [],
   "source": [
    "### Saving the dataframe \n",
    "\n",
    "df.to_csv('./data/1_preprocessed_set.csv')"
   ]
  },
  {
   "cell_type": "markdown",
   "id": "6fff9ace",
   "metadata": {},
   "source": [
    "# Exploring the Data "
   ]
  },
  {
   "cell_type": "markdown",
   "id": "4da186d2",
   "metadata": {},
   "source": [
    "##  High-level understanding of the granularity and scope of the dataset.\n",
    "\n",
    "### Q1. How many records are in the dataset?\n"
   ]
  },
  {
   "cell_type": "code",
   "execution_count": 11,
   "id": "054c7046",
   "metadata": {},
   "outputs": [
    {
     "data": {
      "text/plain": [
       "(1048468, 12)"
      ]
     },
     "execution_count": 11,
     "metadata": {},
     "output_type": "execute_result"
    }
   ],
   "source": [
    "df.shape"
   ]
  },
  {
   "cell_type": "markdown",
   "id": "79816d25",
   "metadata": {},
   "source": [
    "### Q2. What does each record represent?\n",
    "\n",
    "1. `id` = Trip ID allocated to each complete taxi ride\n",
    "    \n",
    "2. `vendor_id` = This field corresponds to two categories of taxi services in NYC. Yello taxi and Private taxi.\n",
    "    \n",
    "3. `pickup_datetime` = This is the timestamp of the pickup time for the associated trip id.\n",
    "    \n",
    "4. `dropoff_datetime` = This is the timestamp of the dropoff time for the associated trip id.\n",
    "\n",
    "5. `passenger_count` = This corresponds to the number of passengers taking the taxiride for correponding trip id.\n",
    "\n",
    "6. `pickup_latitude` = This is the GPS coordinates in DMS(Degrees, Minutes and Seconds unit system) corresponding to the pickup_latitude.\n",
    "\n",
    "7. `pickup_longitude` = This is the GPS coordinates in DMS(Degrees, Minutes and Seconds unit system) corresponding to the pickup_longitude.\n",
    "\n",
    "8. `dropoff_latitude` = This is the GPS coordinates in DMS(Degrees, Minutes and Seconds unit system) corresponding to the dropoff_latitude.\n",
    "\n",
    "9. `dropoff_longitude` = This is the GPS coordinates in DMS(Degrees, Minutes and Seconds unit system) corresponding to the dropoff_longitude.\n",
    "\n",
    "10. `store_and_fwd_flag` = \n",
    "\n",
    "11. `duration` = This column presents the duration of each trip in seconds.\n",
    "\n",
    "12. `distance` = This column presents the distance in km travelled on each of the trips. The unit of this dimension is confirmed by verifying with computed 'great circle' and manhattan distance' to confirm the units of measure.\n"
   ]
  },
  {
   "cell_type": "markdown",
   "id": "3a466d1d",
   "metadata": {},
   "source": [
    "### 3. What is the primary key?\n",
    "\n",
    "The `id` column is the primary key for this dataframe. Let's verify"
   ]
  },
  {
   "cell_type": "code",
   "execution_count": 12,
   "id": "72cd3668",
   "metadata": {},
   "outputs": [
    {
     "name": "stdout",
     "output_type": "stream",
     "text": [
      "<class 'pandas.core.frame.DataFrame'>\n",
      "RangeIndex: 1048468 entries, 0 to 1048467\n",
      "Data columns (total 12 columns):\n",
      " #   Column              Non-Null Count    Dtype         \n",
      "---  ------              --------------    -----         \n",
      " 0   id                  1048468 non-null  object        \n",
      " 1   vendor_id           1048468 non-null  category      \n",
      " 2   pickup_datetime     1048468 non-null  datetime64[ns]\n",
      " 3   dropoff_datetime    1048468 non-null  datetime64[ns]\n",
      " 4   passenger_count     1048468 non-null  int64         \n",
      " 5   pickup_longitude    1048468 non-null  float64       \n",
      " 6   pickup_latitude     1048468 non-null  float64       \n",
      " 7   dropoff_longitude   1048468 non-null  float64       \n",
      " 8   dropoff_latitude    1048468 non-null  float64       \n",
      " 9   store_and_fwd_flag  1048468 non-null  bool          \n",
      " 10  duration            1048468 non-null  int64         \n",
      " 11  distance            1048468 non-null  float64       \n",
      "dtypes: bool(1), category(1), datetime64[ns](2), float64(5), int64(2), object(1)\n",
      "memory usage: 82.0+ MB\n"
     ]
    }
   ],
   "source": [
    "df.info() # the count of observations correspond to 1048468."
   ]
  },
  {
   "cell_type": "code",
   "execution_count": 13,
   "id": "51b1e8ca",
   "metadata": {},
   "outputs": [
    {
     "data": {
      "text/plain": [
       "id                    1048468\n",
       "vendor_id                   2\n",
       "pickup_datetime        237124\n",
       "dropoff_datetime       237437\n",
       "passenger_count            10\n",
       "pickup_longitude        21368\n",
       "pickup_latitude         42575\n",
       "dropoff_longitude       30913\n",
       "dropoff_latitude        58283\n",
       "store_and_fwd_flag          2\n",
       "duration                 6883\n",
       "distance              1042359\n",
       "dtype: int64"
      ]
     },
     "execution_count": 13,
     "metadata": {},
     "output_type": "execute_result"
    }
   ],
   "source": [
    "df.nunique() # the unique count of id's is 1048468 and is the primary key for our dataset"
   ]
  },
  {
   "cell_type": "markdown",
   "id": "7ac5d596",
   "metadata": {},
   "source": [
    "### 4. What date range is your dataset bound to?"
   ]
  },
  {
   "cell_type": "code",
   "execution_count": 14,
   "id": "eb47ff29",
   "metadata": {},
   "outputs": [
    {
     "name": "stdout",
     "output_type": "stream",
     "text": [
      "2016-01-01 00:00:00 , 2016-07-01 23:02:00 , 182 days 23:02:00\n"
     ]
    }
   ],
   "source": [
    "start = df.pickup_datetime.min()\n",
    "end = df.dropoff_datetime.max()\n",
    "print(start,\",\", end,\",\", end-start)"
   ]
  },
  {
   "cell_type": "markdown",
   "id": "2bf128a3",
   "metadata": {},
   "source": [
    "The range of observations start at 1st January 2016 to midnight of 1st July 2016\n",
    "The total time window constitutes 182 days and 23 hours and 2 minutes."
   ]
  },
  {
   "cell_type": "markdown",
   "id": "541e1f57",
   "metadata": {},
   "source": [
    "### 5. What are the geographical bounds of this dataset? Is it limited to Manhattan, or is Brooklyn, Queens, Staten Island, the Bronx, and New Jersey included? Where are most of the data points centralized at? Are there outliers?"
   ]
  },
  {
   "cell_type": "markdown",
   "id": "9e576464",
   "metadata": {},
   "source": [
    "This details of this question are in the Map Analysis notebook."
   ]
  },
  {
   "cell_type": "markdown",
   "id": "379826f2",
   "metadata": {},
   "source": [
    "--------------------"
   ]
  },
  {
   "cell_type": "markdown",
   "id": "a5a492c6",
   "metadata": {},
   "source": [
    "# Data Analysis & Data Visualisation"
   ]
  },
  {
   "cell_type": "markdown",
   "id": "d412c1e5",
   "metadata": {},
   "source": [
    "\n",
    "For getting hang of the data distributions - let's first create additional datafields. \n",
    "\n",
    "Additonal columns we need to create are `price` `distance` `manhattan_dist` `dur_to_dist` `dur_to_dist_m` `dist_to_dur` and for further analysis down the road we require parsing of `datetimeIndex`.\n",
    "    "
   ]
  },
  {
   "cell_type": "markdown",
   "id": "a1ac4956",
   "metadata": {},
   "source": [
    "## Deriving Additional columns - `Distance`"
   ]
  },
  {
   "cell_type": "markdown",
   "id": "077dcd2b",
   "metadata": {},
   "source": [
    "### Computing Manhattan distance. \n",
    "\n",
    "After much research and even working on computing distance from the geodesic-circle functions available on geopandas library. I figured to make use of the Manhattan distance to perform the computation. I used this open-source-code available at this location to compute the 'manhattan' distance as the computation procedure aptly applies to manhattan location area owing to the perpendicular street ways. \n",
    "\n",
    "Ref: https://medium.com/@simplyjk/why-manhattan-distance-formula-doesnt-apply-to-manhattan-7db0ebb1c5f6"
   ]
  },
  {
   "cell_type": "code",
   "execution_count": 15,
   "id": "949c9896",
   "metadata": {},
   "outputs": [],
   "source": [
    "def haversine(lat1, lon1, lat2, lon2):     \n",
    "    # R = 3958.76 # Earth radius in miles    \n",
    "    R = 6371 # Earth radisu in KM\n",
    "    dLat, dLon, lat1, lat2 = np.radians(lat2 - lat1), np.radians(lon2 - lon1), np.radians(lat1), np.radians(lat2)     \n",
    "    \n",
    "    a =  np.sin(dLat/2) ** 2 + np.cos(lat1) * np.cos(lat2) * np.sin(dLon/2) ** 2     \n",
    "\n",
    "    c = 2 * np.arcsin(np.sqrt(a))          \n",
    "    \n",
    "    return R * c\n",
    "  \n",
    "def manhattan_dist(lat1, lon1, lat2, lon2):\n",
    "    \n",
    "    # Pickup coordinates\n",
    "    p = np.stack([lat1, lon1], axis = 1)\n",
    "    \n",
    "    # Dropoff coordinates\n",
    "    d = np.stack([lat2, lon2], axis = 1)\n",
    "    \n",
    "    theta1 = np.radians(-28.904)\n",
    "    theta2 = np.radians(28.904)\n",
    "    \n",
    "    ## Rotation matrix\n",
    "    R1 = np.array([[np.cos(theta1), np.sin(theta1)], \n",
    "                   [-np.sin(theta1), np.cos(theta1)]]\n",
    "                 )\n",
    "    R2 = np.array([[np.cos(theta2), np.sin(theta2)], \n",
    "                   [-np.sin(theta2), np.cos(theta2)]]\n",
    "                 )\n",
    "    \n",
    "    # Rotate Pickup and Dropoff coordinates by -29 degress in World2\n",
    "    pT = R1 @ p.T  \n",
    "    dT = R1 @ d.T  \n",
    "    \n",
    "    # Coordinates of Hinge point in the rotated world \n",
    "    vT = np.stack((pT[0,:], dT[1,:]))\n",
    "    # Coordinates of Hinge point in the real world \n",
    "    v = R2 @ vT\n",
    "\n",
    "    \n",
    "    return (haversine(p.T[0], p.T[1], v[0], v[1]) + \n",
    "            haversine(v[0], v[1], d.T[0], d.T[1])\n",
    "           )\n",
    "  "
   ]
  },
  {
   "cell_type": "code",
   "execution_count": 16,
   "id": "f166a066",
   "metadata": {},
   "outputs": [],
   "source": [
    "#passing the parameters to the manhattan_dist function defined in the above cell\n",
    "\n",
    "df[\"manhattan_dist\"] = manhattan_dist(df[\"pickup_latitude\"], df[\"pickup_longitude\"], df[\"dropoff_latitude\"], df[\"dropoff_longitude\"] )\n",
    "\n"
   ]
  },
  {
   "cell_type": "markdown",
   "id": "85ca2fda",
   "metadata": {},
   "source": [
    "### Replacing 'zero' `distance` values with mean distance"
   ]
  },
  {
   "cell_type": "code",
   "execution_count": 17,
   "id": "234fa18c",
   "metadata": {},
   "outputs": [
    {
     "data": {
      "text/plain": [
       "(3573, 4)"
      ]
     },
     "execution_count": 17,
     "metadata": {},
     "output_type": "execute_result"
    }
   ],
   "source": [
    "## calculating number of observations where distance = 0\n",
    "\n",
    "(df[df.distance== 0][['id','distance','duration','manhattan_dist']]).shape\n",
    "\n"
   ]
  },
  {
   "cell_type": "code",
   "execution_count": 18,
   "id": "bf7f815b",
   "metadata": {},
   "outputs": [
    {
     "name": "stdout",
     "output_type": "stream",
     "text": [
      "          id vendor_id     pickup_datetime    dropoff_datetime  \\\n",
      "0  id3487442         2 2016-02-29 18:39:00 2016-02-29 18:42:00   \n",
      "1  id1145809         2 2016-05-16 23:15:00 2016-05-16 23:31:00   \n",
      "2  id3499387         1 2016-01-25 19:45:00 2016-01-25 19:54:00   \n",
      "3  id0753277         1 2016-01-27 22:29:00 2016-01-27 22:29:00   \n",
      "4  id2134482         1 2016-01-22 16:13:00 2016-01-22 16:13:00   \n",
      "\n",
      "   passenger_count  pickup_longitude  pickup_latitude  dropoff_longitude  \\\n",
      "0                1        -73.981819        40.768963         -73.981819   \n",
      "1                6        -73.808487        40.687336         -73.808487   \n",
      "2                1        -73.786720        40.647041         -73.786720   \n",
      "3                1        -74.209854        40.816853         -74.209854   \n",
      "4                1        -73.776314        40.645454         -73.776314   \n",
      "\n",
      "   dropoff_latitude  store_and_fwd_flag  duration  distance  manhattan_dist  \n",
      "0         40.768963               False       227       0.0    0.000000e+00  \n",
      "1         40.687336               False       947       0.0    0.000000e+00  \n",
      "2         40.647041               False       580       0.0    0.000000e+00  \n",
      "3         40.816853               False        27       0.0    2.866614e-12  \n",
      "4         40.645454               False        19       0.0    2.397931e-12  \n"
     ]
    },
    {
     "data": {
      "text/plain": [
       "(862, 4)"
      ]
     },
     "execution_count": 18,
     "metadata": {},
     "output_type": "execute_result"
    }
   ],
   "source": [
    "# calculating number of observations where manhattan_dist = 0\n",
    "#subset view\n",
    "\n",
    "print(df.head(5))\n",
    "\n",
    "(df[df.manhattan_dist == 0][['id','distance','duration','manhattan_dist']]).shape\n",
    "\n"
   ]
  },
  {
   "cell_type": "markdown",
   "id": "8d591703",
   "metadata": {},
   "source": [
    "**Note:**\n",
    "\n",
    "The computed distance based on all reasoning above, has been able to reduce the 'errors' in analysis and reporting and a **75% reduction** in zeros is great for imputing for zero's occurring in the `manhattan_distance` column alone\n",
    "\n",
    "Moving the computation of all additional columns to after adding a random number from 0.1KM to 0.322 KM for 862 observations of where manhattan_dist values are '0'."
   ]
  },
  {
   "cell_type": "code",
   "execution_count": 19,
   "id": "cf47e33a",
   "metadata": {},
   "outputs": [
    {
     "data": {
      "text/plain": [
       "0.19992031701023075"
      ]
     },
     "execution_count": 19,
     "metadata": {},
     "output_type": "execute_result"
    }
   ],
   "source": [
    "#calculating the mean and assigning that value for the 0.0 value cells in `manhattan_dist`\n",
    "\n",
    "range = np.random.uniform(0.1, 0.3, 862)\n",
    "range.mean() # 0.201529.\n",
    "# the mean keeps varying for now however - I am sticking with the above computation."
   ]
  },
  {
   "cell_type": "code",
   "execution_count": 20,
   "id": "95a26592",
   "metadata": {},
   "outputs": [],
   "source": [
    "# adding the corrected dataset for each of the 862 observations.\n",
    "# reference https://stackoverflow.com/questions/37506488/python-pandas-dataframe-replace-0-with-median-value\n",
    "df = df.replace({'manhattan_dist': {0: 0.201529}})\n"
   ]
  },
  {
   "cell_type": "code",
   "execution_count": 21,
   "id": "a6719851",
   "metadata": {},
   "outputs": [
    {
     "name": "stdout",
     "output_type": "stream",
     "text": [
      "205038      1.372800\n",
      "524841      2.475106\n",
      "1035974    28.886648\n",
      "Name: manhattan_dist, dtype: float64\n"
     ]
    },
    {
     "data": {
      "text/plain": [
       "(0, 4)"
      ]
     },
     "execution_count": 21,
     "metadata": {},
     "output_type": "execute_result"
    }
   ],
   "source": [
    "#verifying if all zero cells are imputed with the mean calculated above.\n",
    "print(df['manhattan_dist'].sample(3))\n",
    "(df[df.manhattan_dist == 0][['id','distance','duration','manhattan_dist']]).shape"
   ]
  },
  {
   "cell_type": "markdown",
   "id": "0210406d",
   "metadata": {},
   "source": [
    "### Creating additional analytic columns"
   ]
  },
  {
   "cell_type": "code",
   "execution_count": 22,
   "id": "972dc51d",
   "metadata": {},
   "outputs": [],
   "source": [
    "#converting duration to hours \n",
    "\n",
    "df['duration_hours'] = df[\"duration\"]/3600\n",
    "df['duration_min'] = df[\"duration\"]/60\n",
    "\n",
    "# computing additional duration to distance column \n",
    "\n",
    "df['dur_to_dist'] = df['duration_hours']/df['distance']\n",
    "df['dur_to_dist_m'] = df['duration_hours']/df['manhattan_dist']\n",
    "\n",
    "# computing additional distance to duration column \n",
    "df['speed_kmph'] = df['distance'] /df['duration_hours']\n",
    "df['speed_kmph_m'] = df['manhattan_dist'] /df['duration_hours']"
   ]
  },
  {
   "cell_type": "markdown",
   "id": "8144de09",
   "metadata": {},
   "source": [
    "## Deriving Additional columns - `Price`"
   ]
  },
  {
   "cell_type": "markdown",
   "id": "6ce3687c",
   "metadata": {},
   "source": [
    "As the taxt ride price is a 'derived column' I am using the inputs available on the NYC webpage to arrive at the price for each of the 1m+ rides present in the dataset. Firstly, planning out the conditional criterion that help derive the price function are presented and grouped below.\n",
    "\n",
    "\n",
    "### Fare calculation formula is derived from here: ( https://www.estimate.taxi/rates/united-states/new-york)\n",
    "\n",
    "`Price` is computed as below:\n",
    "\n",
    "C1. Base price is **$2.50** for first **0.322km**\n",
    "\n",
    "     Additional price for every **0.322km** is **$0.50**\n",
    "\n",
    "\n",
    "C2. Waiting time is **$30.00/hour**\n",
    "\n",
    "\n",
    "C3. Additional Peak rate for (**16:00 - 19:59** on Monday, Tuesday, Wednesday, Thursday, Friday only) of **$1.00**\n",
    "\n",
    "\n",
    "       Additional night fee of **$0.50**\n",
    "\n",
    "\n",
    "C4. Including another criterion to passenger count. If passenger count is > 2, price billed is 1.2 times the price computed based on all criterion put together\n",
    "\n",
    "\n",
    "C5. Further, taxi rates go the highest peak To/From JFK and any location in Manhattan. **$52.00** plus tolls + many surcharges...\n",
    "\n"
   ]
  },
  {
   "cell_type": "markdown",
   "id": "8e596cf1",
   "metadata": {},
   "source": [
    "###  Defining the `price` function per above criterion"
   ]
  },
  {
   "cell_type": "code",
   "execution_count": 23,
   "id": "84866bc9",
   "metadata": {},
   "outputs": [],
   "source": [
    "# writing a function dependent on the distance variable - based on C1 condition.\n",
    "\n",
    "def criterion_1(row):\n",
    "    if row['distance'] < 0.322:\n",
    "        return 2.5\n",
    "    else:\n",
    "        return 0.5 * (row['distance']-0.322)/0.322\n",
    "    \n",
    "df['criterion_1'] = df.apply(criterion_1, axis=1)   \n",
    "    \n",
    "# writing a function dependent on the duration variable - based on C2 condition.\n",
    "\n",
    "def criterion_2(row):\n",
    "    if row['duration'] > 3600 and row ['duration'] < 7200:\n",
    "        return 30\n",
    "    else:\n",
    "        return 30 * (row['duration']/3600)\n",
    "    \n",
    "df['criterion_2'] = df.apply(criterion_2, axis=1)  \n",
    "\n",
    "# Before applying the C3 bove to the dataframe - we require the columns of hour and day_name for deriving the \n",
    "#price based of C3.\n",
    "\n",
    "# obtaining columns of hour and day_name utilizing the datetime pandas indexing\n",
    "\n",
    "df[\"day_name\"] = df['pickup_datetime'].dt.day_name()\n",
    "df[\"hour\"] = df['pickup_datetime'].dt.hour\n",
    "\n",
    "def criterion_3(row):\n",
    "    if row['hour'] > 16 and row ['hour'] < 20 and row['day_name'] == ['Monday', 'Tuesday', 'Wednesday', 'Thursday', 'Friday']:\n",
    "        return 1\n",
    "    elif row['hour'] > 20 and row['hour'] < 6: \n",
    "        return 0.5\n",
    "    else: \n",
    "        return 0\n",
    "    \n",
    "df['criterion_3'] = df.apply(criterion_3, axis=1) "
   ]
  },
  {
   "cell_type": "code",
   "execution_count": 24,
   "id": "6343fc60",
   "metadata": {},
   "outputs": [],
   "source": [
    "# deriving the price as a sum of the 3 conditional functions\n",
    "\n",
    "df['price']= df['criterion_1']+df['criterion_2']+df['criterion_3']"
   ]
  },
  {
   "cell_type": "code",
   "execution_count": 25,
   "id": "9c26f5c1",
   "metadata": {},
   "outputs": [],
   "source": [
    "# writing a function for the duration based conditional based on C4 above.\n",
    "\n",
    "def criterion_4(row):\n",
    "    if row['passenger_count'] <= 2 :\n",
    "        return (row['price'] * 1)\n",
    "    else:\n",
    "        return (row['price'] * 1.2 )\n",
    "    \n",
    "df['criterion_4'] = df.apply(criterion_4, axis=1)  \n"
   ]
  },
  {
   "cell_type": "code",
   "execution_count": 26,
   "id": "79a4c908",
   "metadata": {},
   "outputs": [],
   "source": [
    "# deriving the price as a sum of all **4 conditional functions**\n",
    "\n",
    "df['price']= df['criterion_1']+df['criterion_2']+df['criterion_3']+df['criterion_4']"
   ]
  },
  {
   "cell_type": "code",
   "execution_count": 27,
   "id": "7f748c25",
   "metadata": {},
   "outputs": [
    {
     "data": {
      "text/plain": [
       "count    1.048468e+06\n",
       "mean     2.613925e+01\n",
       "std      1.003303e+02\n",
       "min      9.031562e-02\n",
       "25%      1.013871e+01\n",
       "50%      1.725429e+01\n",
       "75%      2.961762e+01\n",
       "max      5.883217e+04\n",
       "Name: price, dtype: float64"
      ]
     },
     "execution_count": 27,
     "metadata": {},
     "output_type": "execute_result"
    }
   ],
   "source": [
    "df['price'].describe().T #Mean price $ 26.14 and Standard Deviation $ 100.33. \n"
   ]
  },
  {
   "cell_type": "markdown",
   "id": "11409d15",
   "metadata": {},
   "source": [
    "The Dataset above has all of the outliers included, which are falling outside of the bounds of NYC. A better estimate would be to exclude outliers and then computing the descriptive stats of `price` variable."
   ]
  },
  {
   "cell_type": "markdown",
   "id": "9b61e7d0",
   "metadata": {},
   "source": [
    "## Datetime column parsing "
   ]
  },
  {
   "cell_type": "code",
   "execution_count": 28,
   "id": "987ffe04",
   "metadata": {},
   "outputs": [],
   "source": [
    "# categories as default are unordered, setting the order of category for month and day names\n",
    "from pandas.api.types import CategoricalDtype\n",
    "\n",
    "month_cat = CategoricalDtype(categories=[\"January\", \"February\",\"March\",\"April\",\"May\",\"June\"], ordered = True)\n",
    "day_cat = CategoricalDtype(categories=[\"Monday\",\"Tuesday\",\"Wednesday\",\"Thursday\",\"Friday\",\"Saturday\",\"Sunday\"], ordered = True)\n"
   ]
  },
  {
   "cell_type": "code",
   "execution_count": 29,
   "id": "0a53ac8f",
   "metadata": {},
   "outputs": [],
   "source": [
    "# additional columns being parsed.\n",
    "df[\"day_name\"] = df['pickup_datetime'].dt.day_name().astype(day_cat)\n",
    "df[\"month_name\"] = df['pickup_datetime'].dt.month_name().astype(month_cat)\n",
    "df[\"day\"] = df['pickup_datetime'].dt.day"
   ]
  },
  {
   "cell_type": "code",
   "execution_count": 30,
   "id": "70482f61",
   "metadata": {},
   "outputs": [
    {
     "data": {
      "text/plain": [
       "pandas.core.indexes.range.RangeIndex"
      ]
     },
     "execution_count": 30,
     "metadata": {},
     "output_type": "execute_result"
    }
   ],
   "source": [
    "type(df.index)"
   ]
  },
  {
   "cell_type": "code",
   "execution_count": 31,
   "id": "cdd2a6ef",
   "metadata": {},
   "outputs": [
    {
     "name": "stdout",
     "output_type": "stream",
     "text": [
      "<class 'pandas.core.frame.DataFrame'>\n",
      "RangeIndex: 1048468 entries, 0 to 1048467\n",
      "Data columns (total 28 columns):\n",
      " #   Column              Non-Null Count    Dtype         \n",
      "---  ------              --------------    -----         \n",
      " 0   id                  1048468 non-null  object        \n",
      " 1   vendor_id           1048468 non-null  category      \n",
      " 2   pickup_datetime     1048468 non-null  datetime64[ns]\n",
      " 3   dropoff_datetime    1048468 non-null  datetime64[ns]\n",
      " 4   passenger_count     1048468 non-null  int64         \n",
      " 5   pickup_longitude    1048468 non-null  float64       \n",
      " 6   pickup_latitude     1048468 non-null  float64       \n",
      " 7   dropoff_longitude   1048468 non-null  float64       \n",
      " 8   dropoff_latitude    1048468 non-null  float64       \n",
      " 9   store_and_fwd_flag  1048468 non-null  bool          \n",
      " 10  duration            1048468 non-null  int64         \n",
      " 11  distance            1048468 non-null  float64       \n",
      " 12  manhattan_dist      1048468 non-null  float64       \n",
      " 13  duration_hours      1048468 non-null  float64       \n",
      " 14  duration_min        1048468 non-null  float64       \n",
      " 15  dur_to_dist         1048468 non-null  float64       \n",
      " 16  dur_to_dist_m       1048468 non-null  float64       \n",
      " 17  speed_kmph          1048468 non-null  float64       \n",
      " 18  speed_kmph_m        1048468 non-null  float64       \n",
      " 19  criterion_1         1048468 non-null  float64       \n",
      " 20  criterion_2         1048468 non-null  float64       \n",
      " 21  day_name            1048468 non-null  category      \n",
      " 22  hour                1048468 non-null  int64         \n",
      " 23  criterion_3         1048468 non-null  int64         \n",
      " 24  price               1048468 non-null  float64       \n",
      " 25  criterion_4         1048468 non-null  float64       \n",
      " 26  month_name          1048468 non-null  category      \n",
      " 27  day                 1048468 non-null  int64         \n",
      "dtypes: bool(1), category(3), datetime64[ns](2), float64(16), int64(5), object(1)\n",
      "memory usage: 196.0+ MB\n"
     ]
    }
   ],
   "source": [
    "df.info() # 1.05 Million observations "
   ]
  },
  {
   "cell_type": "markdown",
   "id": "fbb3ca4e",
   "metadata": {},
   "source": [
    "### Saving the dataset with additional columns and date time features"
   ]
  },
  {
   "cell_type": "code",
   "execution_count": 32,
   "id": "1db88095",
   "metadata": {},
   "outputs": [
    {
     "name": "stdout",
     "output_type": "stream",
     "text": [
      "(1048468, 24)\n",
      "<class 'pandas.core.frame.DataFrame'>\n",
      "RangeIndex: 1048468 entries, 0 to 1048467\n",
      "Data columns (total 24 columns):\n",
      " #   Column              Non-Null Count    Dtype         \n",
      "---  ------              --------------    -----         \n",
      " 0   id                  1048468 non-null  object        \n",
      " 1   vendor_id           1048468 non-null  category      \n",
      " 2   pickup_datetime     1048468 non-null  datetime64[ns]\n",
      " 3   dropoff_datetime    1048468 non-null  datetime64[ns]\n",
      " 4   passenger_count     1048468 non-null  int64         \n",
      " 5   pickup_longitude    1048468 non-null  float64       \n",
      " 6   pickup_latitude     1048468 non-null  float64       \n",
      " 7   dropoff_longitude   1048468 non-null  float64       \n",
      " 8   dropoff_latitude    1048468 non-null  float64       \n",
      " 9   store_and_fwd_flag  1048468 non-null  bool          \n",
      " 10  duration            1048468 non-null  int64         \n",
      " 11  distance            1048468 non-null  float64       \n",
      " 12  manhattan_dist      1048468 non-null  float64       \n",
      " 13  duration_hours      1048468 non-null  float64       \n",
      " 14  duration_min        1048468 non-null  float64       \n",
      " 15  dur_to_dist         1048468 non-null  float64       \n",
      " 16  dur_to_dist_m       1048468 non-null  float64       \n",
      " 17  speed_kmph          1048468 non-null  float64       \n",
      " 18  speed_kmph_m        1048468 non-null  float64       \n",
      " 19  day_name            1048468 non-null  category      \n",
      " 20  hour                1048468 non-null  int64         \n",
      " 21  price               1048468 non-null  float64       \n",
      " 22  month_name          1048468 non-null  category      \n",
      " 23  day                 1048468 non-null  int64         \n",
      "dtypes: bool(1), category(3), datetime64[ns](2), float64(13), int64(4), object(1)\n",
      "memory usage: 164.0+ MB\n",
      "None\n"
     ]
    }
   ],
   "source": [
    "df = df.drop(columns=[col for col in df.columns if 'criterion' in col])\n",
    "print(df.shape)\n",
    "print(df.info())"
   ]
  },
  {
   "cell_type": "code",
   "execution_count": 33,
   "id": "3d756fb7",
   "metadata": {},
   "outputs": [],
   "source": [
    "### Saving the dataframe \n",
    "\n",
    "df.to_csv('./data/2_additional_col_set.csv')"
   ]
  },
  {
   "cell_type": "markdown",
   "id": "6a2baa3b",
   "metadata": {},
   "source": [
    "--------------------"
   ]
  },
  {
   "cell_type": "markdown",
   "id": "8b405c00",
   "metadata": {},
   "source": [
    "# Descriptive Statistics\n"
   ]
  },
  {
   "cell_type": "markdown",
   "id": "f784c40c",
   "metadata": {},
   "source": [
    "### Exploring `passenger_count` `distance`  and `duration` columns"
   ]
  },
  {
   "cell_type": "code",
   "execution_count": 34,
   "id": "d98f4f7a",
   "metadata": {},
   "outputs": [
    {
     "data": {
      "text/plain": [
       "<AxesSubplot:xlabel='passenger_count', ylabel='count'>"
      ]
     },
     "execution_count": 34,
     "metadata": {},
     "output_type": "execute_result"
    },
    {
     "data": {
      "image/png": "[encoded data removed]",
      "text/plain": [
       "<Figure size 720x576 with 1 Axes>"
      ]
     },
     "metadata": {
      "needs_background": "light"
     },
     "output_type": "display_data"
    }
   ],
   "source": [
    "fig,ax = plt.subplots(1,figsize =(10,8))\n",
    "\n",
    "sns.countplot(ax=ax, data=df, x ='passenger_count', color='C0' )\n"
   ]
  },
  {
   "cell_type": "markdown",
   "id": "2dbee944",
   "metadata": {},
   "source": [
    "Low Volume picks ups that constitute **(1-2 passengers) comprise 85%** of the entire dataset ~ 895K riders.\n"
   ]
  },
  {
   "cell_type": "code",
   "execution_count": 35,
   "id": "7fceedbd",
   "metadata": {},
   "outputs": [
    {
     "name": "stdout",
     "output_type": "stream",
     "text": [
      "(1048468, 24)\n"
     ]
    },
    {
     "data": {
      "text/html": [
       "<div>\n",
       "<style scoped>\n",
       "    .dataframe tbody tr th:only-of-type {\n",
       "        vertical-align: middle;\n",
       "    }\n",
       "\n",
       "    .dataframe tbody tr th {\n",
       "        vertical-align: top;\n",
       "    }\n",
       "\n",
       "    .dataframe thead th {\n",
       "        text-align: right;\n",
       "    }\n",
       "</style>\n",
       "<table border=\"1\" class=\"dataframe\">\n",
       "  <thead>\n",
       "    <tr style=\"text-align: right;\">\n",
       "      <th></th>\n",
       "      <th>id</th>\n",
       "      <th>vendor_id</th>\n",
       "      <th>pickup_datetime</th>\n",
       "      <th>dropoff_datetime</th>\n",
       "      <th>passenger_count</th>\n",
       "      <th>pickup_longitude</th>\n",
       "      <th>pickup_latitude</th>\n",
       "      <th>dropoff_longitude</th>\n",
       "      <th>dropoff_latitude</th>\n",
       "      <th>store_and_fwd_flag</th>\n",
       "      <th>...</th>\n",
       "      <th>duration_min</th>\n",
       "      <th>dur_to_dist</th>\n",
       "      <th>dur_to_dist_m</th>\n",
       "      <th>speed_kmph</th>\n",
       "      <th>speed_kmph_m</th>\n",
       "      <th>day_name</th>\n",
       "      <th>hour</th>\n",
       "      <th>price</th>\n",
       "      <th>month_name</th>\n",
       "      <th>day</th>\n",
       "    </tr>\n",
       "  </thead>\n",
       "  <tbody>\n",
       "    <tr>\n",
       "      <th>0</th>\n",
       "      <td>id3487442</td>\n",
       "      <td>2</td>\n",
       "      <td>2016-02-29 18:39:00</td>\n",
       "      <td>2016-02-29 18:42:00</td>\n",
       "      <td>1</td>\n",
       "      <td>-73.981819</td>\n",
       "      <td>40.768963</td>\n",
       "      <td>-73.981819</td>\n",
       "      <td>40.768963</td>\n",
       "      <td>False</td>\n",
       "      <td>...</td>\n",
       "      <td>3.783333</td>\n",
       "      <td>inf</td>\n",
       "      <td>3.128858e-01</td>\n",
       "      <td>0.0</td>\n",
       "      <td>3.196055e+00</td>\n",
       "      <td>Monday</td>\n",
       "      <td>18</td>\n",
       "      <td>8.783333</td>\n",
       "      <td>February</td>\n",
       "      <td>29</td>\n",
       "    </tr>\n",
       "    <tr>\n",
       "      <th>1</th>\n",
       "      <td>id1145809</td>\n",
       "      <td>2</td>\n",
       "      <td>2016-05-16 23:15:00</td>\n",
       "      <td>2016-05-16 23:31:00</td>\n",
       "      <td>6</td>\n",
       "      <td>-73.808487</td>\n",
       "      <td>40.687336</td>\n",
       "      <td>-73.808487</td>\n",
       "      <td>40.687336</td>\n",
       "      <td>False</td>\n",
       "      <td>...</td>\n",
       "      <td>15.783333</td>\n",
       "      <td>inf</td>\n",
       "      <td>1.305299e+00</td>\n",
       "      <td>0.0</td>\n",
       "      <td>7.661081e-01</td>\n",
       "      <td>Monday</td>\n",
       "      <td>23</td>\n",
       "      <td>22.861667</td>\n",
       "      <td>May</td>\n",
       "      <td>16</td>\n",
       "    </tr>\n",
       "    <tr>\n",
       "      <th>2</th>\n",
       "      <td>id3499387</td>\n",
       "      <td>1</td>\n",
       "      <td>2016-01-25 19:45:00</td>\n",
       "      <td>2016-01-25 19:54:00</td>\n",
       "      <td>1</td>\n",
       "      <td>-73.786720</td>\n",
       "      <td>40.647041</td>\n",
       "      <td>-73.786720</td>\n",
       "      <td>40.647041</td>\n",
       "      <td>False</td>\n",
       "      <td>...</td>\n",
       "      <td>9.666667</td>\n",
       "      <td>inf</td>\n",
       "      <td>7.994438e-01</td>\n",
       "      <td>0.0</td>\n",
       "      <td>1.250870e+00</td>\n",
       "      <td>Monday</td>\n",
       "      <td>19</td>\n",
       "      <td>14.666667</td>\n",
       "      <td>January</td>\n",
       "      <td>25</td>\n",
       "    </tr>\n",
       "    <tr>\n",
       "      <th>3</th>\n",
       "      <td>id0753277</td>\n",
       "      <td>1</td>\n",
       "      <td>2016-01-27 22:29:00</td>\n",
       "      <td>2016-01-27 22:29:00</td>\n",
       "      <td>1</td>\n",
       "      <td>-74.209854</td>\n",
       "      <td>40.816853</td>\n",
       "      <td>-74.209854</td>\n",
       "      <td>40.816853</td>\n",
       "      <td>False</td>\n",
       "      <td>...</td>\n",
       "      <td>0.450000</td>\n",
       "      <td>inf</td>\n",
       "      <td>2.616327e+09</td>\n",
       "      <td>0.0</td>\n",
       "      <td>3.822152e-10</td>\n",
       "      <td>Wednesday</td>\n",
       "      <td>22</td>\n",
       "      <td>5.450000</td>\n",
       "      <td>January</td>\n",
       "      <td>27</td>\n",
       "    </tr>\n",
       "    <tr>\n",
       "      <th>4</th>\n",
       "      <td>id2134482</td>\n",
       "      <td>1</td>\n",
       "      <td>2016-01-22 16:13:00</td>\n",
       "      <td>2016-01-22 16:13:00</td>\n",
       "      <td>1</td>\n",
       "      <td>-73.776314</td>\n",
       "      <td>40.645454</td>\n",
       "      <td>-73.776314</td>\n",
       "      <td>40.645454</td>\n",
       "      <td>False</td>\n",
       "      <td>...</td>\n",
       "      <td>0.316667</td>\n",
       "      <td>inf</td>\n",
       "      <td>2.200972e+09</td>\n",
       "      <td>0.0</td>\n",
       "      <td>4.543447e-10</td>\n",
       "      <td>Friday</td>\n",
       "      <td>16</td>\n",
       "      <td>5.316667</td>\n",
       "      <td>January</td>\n",
       "      <td>22</td>\n",
       "    </tr>\n",
       "  </tbody>\n",
       "</table>\n",
       "<p>5 rows × 24 columns</p>\n",
       "</div>"
      ],
      "text/plain": [
       "          id vendor_id     pickup_datetime    dropoff_datetime  \\\n",
       "0  id3487442         2 2016-02-29 18:39:00 2016-02-29 18:42:00   \n",
       "1  id1145809         2 2016-05-16 23:15:00 2016-05-16 23:31:00   \n",
       "2  id3499387         1 2016-01-25 19:45:00 2016-01-25 19:54:00   \n",
       "3  id0753277         1 2016-01-27 22:29:00 2016-01-27 22:29:00   \n",
       "4  id2134482         1 2016-01-22 16:13:00 2016-01-22 16:13:00   \n",
       "\n",
       "   passenger_count  pickup_longitude  pickup_latitude  dropoff_longitude  \\\n",
       "0                1        -73.981819        40.768963         -73.981819   \n",
       "1                6        -73.808487        40.687336         -73.808487   \n",
       "2                1        -73.786720        40.647041         -73.786720   \n",
       "3                1        -74.209854        40.816853         -74.209854   \n",
       "4                1        -73.776314        40.645454         -73.776314   \n",
       "\n",
       "   dropoff_latitude  store_and_fwd_flag  ...  duration_min  dur_to_dist  \\\n",
       "0         40.768963               False  ...      3.783333          inf   \n",
       "1         40.687336               False  ...     15.783333          inf   \n",
       "2         40.647041               False  ...      9.666667          inf   \n",
       "3         40.816853               False  ...      0.450000          inf   \n",
       "4         40.645454               False  ...      0.316667          inf   \n",
       "\n",
       "   dur_to_dist_m  speed_kmph  speed_kmph_m   day_name  hour      price  \\\n",
       "0   3.128858e-01         0.0  3.196055e+00     Monday    18   8.783333   \n",
       "1   1.305299e+00         0.0  7.661081e-01     Monday    23  22.861667   \n",
       "2   7.994438e-01         0.0  1.250870e+00     Monday    19  14.666667   \n",
       "3   2.616327e+09         0.0  3.822152e-10  Wednesday    22   5.450000   \n",
       "4   2.200972e+09         0.0  4.543447e-10     Friday    16   5.316667   \n",
       "\n",
       "   month_name day  \n",
       "0    February  29  \n",
       "1         May  16  \n",
       "2     January  25  \n",
       "3     January  27  \n",
       "4     January  22  \n",
       "\n",
       "[5 rows x 24 columns]"
      ]
     },
     "execution_count": 35,
     "metadata": {},
     "output_type": "execute_result"
    }
   ],
   "source": [
    "print(df.shape)\n",
    "df.head()"
   ]
  },
  {
   "cell_type": "markdown",
   "id": "1c9f54f6",
   "metadata": {},
   "source": [
    "##  Let’s understand the scope and distribution various dimensions within the dataset. \n",
    "\n",
    "Calculate the average, median, and the first & second standard deviation of the mean for the following measures:\n",
    "1. duration\n",
    "2. distance ",
    "\n",
    "3. passenger counts ",
    "\n",
    "4. duration-to-distance ratio ",
    "\n",
    "5. price\n"
   ]
  },
  {
   "cell_type": "code",
   "execution_count": 57,
   "id": "24b7e077",
   "metadata": {},
   "outputs": [
    {
     "data": {
      "text/html": [
       "<div>\n",
       "<style scoped>\n",
       "    .dataframe tbody tr th:only-of-type {\n",
       "        vertical-align: middle;\n",
       "    }\n",
       "\n",
       "    .dataframe tbody tr th {\n",
       "        vertical-align: top;\n",
       "    }\n",
       "\n",
       "    .dataframe thead th {\n",
       "        text-align: right;\n",
       "    }\n",
       "</style>\n",
       "<table border=\"1\" class=\"dataframe\">\n",
       "  <thead>\n",
       "    <tr style=\"text-align: right;\">\n",
       "      <th></th>\n",
       "      <th>count</th>\n",
       "      <th>mean</th>\n",
       "      <th>std</th>\n",
       "      <th>min</th>\n",
       "      <th>25%</th>\n",
       "      <th>50%</th>\n",
       "      <th>75%</th>\n",
       "      <th>max</th>\n",
       "    </tr>\n",
       "  </thead>\n",
       "  <tbody>\n",
       "    <tr>\n",
       "      <th>duration</th>\n",
       "      <td>1048468.00000</td>\n",
       "      <td>962.19563</td>\n",
       "      <td>5853.29685</td>\n",
       "      <td>1.00000</td>\n",
       "      <td>397.00000</td>\n",
       "      <td>662.00000</td>\n",
       "      <td>1075.00000</td>\n",
       "      <td>3526282.00000</td>\n",
       "    </tr>\n",
       "    <tr>\n",
       "      <th>duration_hours</th>\n",
       "      <td>1048468.00000</td>\n",
       "      <td>0.26728</td>\n",
       "      <td>1.62592</td>\n",
       "      <td>0.00028</td>\n",
       "      <td>0.11028</td>\n",
       "      <td>0.18389</td>\n",
       "      <td>0.29861</td>\n",
       "      <td>979.52278</td>\n",
       "    </tr>\n",
       "    <tr>\n",
       "      <th>passenger_count</th>\n",
       "      <td>1048468.00000</td>\n",
       "      <td>1.66438</td>\n",
       "      <td>1.31424</td>\n",
       "      <td>0.00000</td>\n",
       "      <td>1.00000</td>\n",
       "      <td>1.00000</td>\n",
       "      <td>2.00000</td>\n",
       "      <td>9.00000</td>\n",
       "    </tr>\n",
       "    <tr>\n",
       "      <th>price</th>\n",
       "      <td>1048468.00000</td>\n",
       "      <td>26.13925</td>\n",
       "      <td>100.33031</td>\n",
       "      <td>0.09032</td>\n",
       "      <td>10.13871</td>\n",
       "      <td>17.25429</td>\n",
       "      <td>29.61762</td>\n",
       "      <td>58832.16996</td>\n",
       "    </tr>\n",
       "    <tr>\n",
       "      <th>distance</th>\n",
       "      <td>1048468.00000</td>\n",
       "      <td>3.44228</td>\n",
       "      <td>4.38206</td>\n",
       "      <td>0.00000</td>\n",
       "      <td>1.23223</td>\n",
       "      <td>2.09464</td>\n",
       "      <td>3.87690</td>\n",
       "      <td>1240.90868</td>\n",
       "    </tr>\n",
       "    <tr>\n",
       "      <th>manhattan_dist</th>\n",
       "      <td>1048468.00000</td>\n",
       "      <td>4.47743</td>\n",
       "      <td>6.10515</td>\n",
       "      <td>0.00000</td>\n",
       "      <td>1.55843</td>\n",
       "      <td>2.62660</td>\n",
       "      <td>4.77034</td>\n",
       "      <td>1485.25957</td>\n",
       "    </tr>\n",
       "    <tr>\n",
       "      <th>speed_kmph_m</th>\n",
       "      <td>1048468.00000</td>\n",
       "      <td>18.43069</td>\n",
       "      <td>18.40331</td>\n",
       "      <td>0.00000</td>\n",
       "      <td>11.37285</td>\n",
       "      <td>16.08565</td>\n",
       "      <td>22.71542</td>\n",
       "      <td>8191.34609</td>\n",
       "    </tr>\n",
       "  </tbody>\n",
       "</table>\n",
       "</div>"
      ],
      "text/plain": [
       "                        count      mean        std     min       25%  \\\n",
       "duration        1048468.00000 962.19563 5853.29685 1.00000 397.00000   \n",
       "duration_hours  1048468.00000   0.26728    1.62592 0.00028   0.11028   \n",
       "passenger_count 1048468.00000   1.66438    1.31424 0.00000   1.00000   \n",
       "price           1048468.00000  26.13925  100.33031 0.09032  10.13871   \n",
       "distance        1048468.00000   3.44228    4.38206 0.00000   1.23223   \n",
       "manhattan_dist  1048468.00000   4.47743    6.10515 0.00000   1.55843   \n",
       "speed_kmph_m    1048468.00000  18.43069   18.40331 0.00000  11.37285   \n",
       "\n",
       "                      50%        75%           max  \n",
       "duration        662.00000 1075.00000 3526282.00000  \n",
       "duration_hours    0.18389    0.29861     979.52278  \n",
       "passenger_count   1.00000    2.00000       9.00000  \n",
       "price            17.25429   29.61762   58832.16996  \n",
       "distance          2.09464    3.87690    1240.90868  \n",
       "manhattan_dist    2.62660    4.77034    1485.25957  \n",
       "speed_kmph_m     16.08565   22.71542    8191.34609  "
      ]
     },
     "execution_count": 57,
     "metadata": {},
     "output_type": "execute_result"
    }
   ],
   "source": [
    "\n",
    "df[[\"duration\",\"duration_hours\", \"passenger_count\",'price','distance','manhattan_dist','speed_kmph_m']].describe().T\n"
   ]
  },
  {
   "cell_type": "code",
   "execution_count": 66,
   "id": "faab7eb7",
   "metadata": {},
   "outputs": [
    {
     "data": {
      "text/html": [
       "<style  type=\"text/css\" >\n",
       "#T_cfcb2_row0_col0,#T_cfcb2_row0_col1,#T_cfcb2_row1_col0,#T_cfcb2_row1_col1,#T_cfcb2_row2_col2,#T_cfcb2_row3_col3,#T_cfcb2_row4_col4,#T_cfcb2_row5_col5,#T_cfcb2_row6_col6{\n",
       "            background-color:  #081d58;\n",
       "            color:  #f1f1f1;\n",
       "        }#T_cfcb2_row0_col2,#T_cfcb2_row1_col2{\n",
       "            background-color:  #fcfed3;\n",
       "            color:  #000000;\n",
       "        }#T_cfcb2_row0_col3,#T_cfcb2_row1_col3,#T_cfcb2_row3_col0,#T_cfcb2_row3_col1,#T_cfcb2_row4_col5,#T_cfcb2_row5_col4{\n",
       "            background-color:  #0a1e5c;\n",
       "            color:  #f1f1f1;\n",
       "        }#T_cfcb2_row0_col4,#T_cfcb2_row1_col4{\n",
       "            background-color:  #f1fabb;\n",
       "            color:  #000000;\n",
       "        }#T_cfcb2_row0_col5,#T_cfcb2_row1_col5{\n",
       "            background-color:  #f1faba;\n",
       "            color:  #000000;\n",
       "        }#T_cfcb2_row0_col6,#T_cfcb2_row1_col6,#T_cfcb2_row2_col6,#T_cfcb2_row3_col2,#T_cfcb2_row4_col2,#T_cfcb2_row5_col2,#T_cfcb2_row6_col0,#T_cfcb2_row6_col1{\n",
       "            background-color:  #ffffd9;\n",
       "            color:  #000000;\n",
       "        }#T_cfcb2_row2_col0,#T_cfcb2_row2_col1,#T_cfcb2_row2_col4,#T_cfcb2_row2_col5{\n",
       "            background-color:  #feffd6;\n",
       "            color:  #000000;\n",
       "        }#T_cfcb2_row2_col3{\n",
       "            background-color:  #fdfed4;\n",
       "            color:  #000000;\n",
       "        }#T_cfcb2_row3_col4{\n",
       "            background-color:  #d5efb3;\n",
       "            color:  #000000;\n",
       "        }#T_cfcb2_row3_col5{\n",
       "            background-color:  #d6efb3;\n",
       "            color:  #000000;\n",
       "        }#T_cfcb2_row3_col6{\n",
       "            background-color:  #f8fcc9;\n",
       "            color:  #000000;\n",
       "        }#T_cfcb2_row4_col0,#T_cfcb2_row4_col1,#T_cfcb2_row5_col0,#T_cfcb2_row5_col1{\n",
       "            background-color:  #f4fbc1;\n",
       "            color:  #000000;\n",
       "        }#T_cfcb2_row4_col3,#T_cfcb2_row5_col3{\n",
       "            background-color:  #d4eeb3;\n",
       "            color:  #000000;\n",
       "        }#T_cfcb2_row4_col6{\n",
       "            background-color:  #2498c1;\n",
       "            color:  #000000;\n",
       "        }#T_cfcb2_row5_col6{\n",
       "            background-color:  #299dc1;\n",
       "            color:  #000000;\n",
       "        }#T_cfcb2_row6_col2{\n",
       "            background-color:  #fdfed5;\n",
       "            color:  #000000;\n",
       "        }#T_cfcb2_row6_col3{\n",
       "            background-color:  #f4fbc0;\n",
       "            color:  #000000;\n",
       "        }#T_cfcb2_row6_col4{\n",
       "            background-color:  #2195c0;\n",
       "            color:  #000000;\n",
       "        }#T_cfcb2_row6_col5{\n",
       "            background-color:  #259ac1;\n",
       "            color:  #000000;\n",
       "        }</style><table id=\"T_cfcb2_\" ><thead>    <tr>        <th class=\"blank level0\" ></th>        <th class=\"col_heading level0 col0\" >duration</th>        <th class=\"col_heading level0 col1\" >duration_hours</th>        <th class=\"col_heading level0 col2\" >passenger_count</th>        <th class=\"col_heading level0 col3\" >price</th>        <th class=\"col_heading level0 col4\" >distance</th>        <th class=\"col_heading level0 col5\" >manhattan_dist</th>        <th class=\"col_heading level0 col6\" >speed_kmph_m</th>    </tr></thead><tbody>\n",
       "                <tr>\n",
       "                        <th id=\"T_cfcb2_level0_row0\" class=\"row_heading level0 row0\" >duration</th>\n",
       "                        <td id=\"T_cfcb2_row0_col0\" class=\"data row0 col0\" >1.0</td>\n",
       "                        <td id=\"T_cfcb2_row0_col1\" class=\"data row0 col1\" >1.0</td>\n",
       "                        <td id=\"T_cfcb2_row0_col2\" class=\"data row0 col2\" >0.0072</td>\n",
       "                        <td id=\"T_cfcb2_row0_col3\" class=\"data row0 col3\" >0.99</td>\n",
       "                        <td id=\"T_cfcb2_row0_col4\" class=\"data row0 col4\" >0.084</td>\n",
       "                        <td id=\"T_cfcb2_row0_col5\" class=\"data row0 col5\" >0.084</td>\n",
       "                        <td id=\"T_cfcb2_row0_col6\" class=\"data row0 col6\" >-0.015</td>\n",
       "            </tr>\n",
       "            <tr>\n",
       "                        <th id=\"T_cfcb2_level0_row1\" class=\"row_heading level0 row1\" >duration_hours</th>\n",
       "                        <td id=\"T_cfcb2_row1_col0\" class=\"data row1 col0\" >1.0</td>\n",
       "                        <td id=\"T_cfcb2_row1_col1\" class=\"data row1 col1\" >1.0</td>\n",
       "                        <td id=\"T_cfcb2_row1_col2\" class=\"data row1 col2\" >0.0072</td>\n",
       "                        <td id=\"T_cfcb2_row1_col3\" class=\"data row1 col3\" >0.99</td>\n",
       "                        <td id=\"T_cfcb2_row1_col4\" class=\"data row1 col4\" >0.084</td>\n",
       "                        <td id=\"T_cfcb2_row1_col5\" class=\"data row1 col5\" >0.084</td>\n",
       "                        <td id=\"T_cfcb2_row1_col6\" class=\"data row1 col6\" >-0.015</td>\n",
       "            </tr>\n",
       "            <tr>\n",
       "                        <th id=\"T_cfcb2_level0_row2\" class=\"row_heading level0 row2\" >passenger_count</th>\n",
       "                        <td id=\"T_cfcb2_row2_col0\" class=\"data row2 col0\" >0.0072</td>\n",
       "                        <td id=\"T_cfcb2_row2_col1\" class=\"data row2 col1\" >0.0072</td>\n",
       "                        <td id=\"T_cfcb2_row2_col2\" class=\"data row2 col2\" >1.0</td>\n",
       "                        <td id=\"T_cfcb2_row2_col3\" class=\"data row2 col3\" >0.017</td>\n",
       "                        <td id=\"T_cfcb2_row2_col4\" class=\"data row2 col4\" >0.0097</td>\n",
       "                        <td id=\"T_cfcb2_row2_col5\" class=\"data row2 col5\" >0.01</td>\n",
       "                        <td id=\"T_cfcb2_row2_col6\" class=\"data row2 col6\" >-0.0012</td>\n",
       "            </tr>\n",
       "            <tr>\n",
       "                        <th id=\"T_cfcb2_level0_row3\" class=\"row_heading level0 row3\" >price</th>\n",
       "                        <td id=\"T_cfcb2_row3_col0\" class=\"data row3 col0\" >0.99</td>\n",
       "                        <td id=\"T_cfcb2_row3_col1\" class=\"data row3 col1\" >0.99</td>\n",
       "                        <td id=\"T_cfcb2_row3_col2\" class=\"data row3 col2\" >0.017</td>\n",
       "                        <td id=\"T_cfcb2_row3_col3\" class=\"data row3 col3\" >1.0</td>\n",
       "                        <td id=\"T_cfcb2_row3_col4\" class=\"data row3 col4\" >0.22</td>\n",
       "                        <td id=\"T_cfcb2_row3_col5\" class=\"data row3 col5\" >0.22</td>\n",
       "                        <td id=\"T_cfcb2_row3_col6\" class=\"data row3 col6\" >0.068</td>\n",
       "            </tr>\n",
       "            <tr>\n",
       "                        <th id=\"T_cfcb2_level0_row4\" class=\"row_heading level0 row4\" >distance</th>\n",
       "                        <td id=\"T_cfcb2_row4_col0\" class=\"data row4 col0\" >0.084</td>\n",
       "                        <td id=\"T_cfcb2_row4_col1\" class=\"data row4 col1\" >0.084</td>\n",
       "                        <td id=\"T_cfcb2_row4_col2\" class=\"data row4 col2\" >0.0097</td>\n",
       "                        <td id=\"T_cfcb2_row4_col3\" class=\"data row4 col3\" >0.22</td>\n",
       "                        <td id=\"T_cfcb2_row4_col4\" class=\"data row4 col4\" >1.0</td>\n",
       "                        <td id=\"T_cfcb2_row4_col5\" class=\"data row4 col5\" >0.99</td>\n",
       "                        <td id=\"T_cfcb2_row4_col6\" class=\"data row4 col6\" >0.6</td>\n",
       "            </tr>\n",
       "            <tr>\n",
       "                        <th id=\"T_cfcb2_level0_row5\" class=\"row_heading level0 row5\" >manhattan_dist</th>\n",
       "                        <td id=\"T_cfcb2_row5_col0\" class=\"data row5 col0\" >0.084</td>\n",
       "                        <td id=\"T_cfcb2_row5_col1\" class=\"data row5 col1\" >0.084</td>\n",
       "                        <td id=\"T_cfcb2_row5_col2\" class=\"data row5 col2\" >0.01</td>\n",
       "                        <td id=\"T_cfcb2_row5_col3\" class=\"data row5 col3\" >0.22</td>\n",
       "                        <td id=\"T_cfcb2_row5_col4\" class=\"data row5 col4\" >0.99</td>\n",
       "                        <td id=\"T_cfcb2_row5_col5\" class=\"data row5 col5\" >1.0</td>\n",
       "                        <td id=\"T_cfcb2_row5_col6\" class=\"data row5 col6\" >0.59</td>\n",
       "            </tr>\n",
       "            <tr>\n",
       "                        <th id=\"T_cfcb2_level0_row6\" class=\"row_heading level0 row6\" >speed_kmph_m</th>\n",
       "                        <td id=\"T_cfcb2_row6_col0\" class=\"data row6 col0\" >-0.015</td>\n",
       "                        <td id=\"T_cfcb2_row6_col1\" class=\"data row6 col1\" >-0.015</td>\n",
       "                        <td id=\"T_cfcb2_row6_col2\" class=\"data row6 col2\" >-0.0012</td>\n",
       "                        <td id=\"T_cfcb2_row6_col3\" class=\"data row6 col3\" >0.068</td>\n",
       "                        <td id=\"T_cfcb2_row6_col4\" class=\"data row6 col4\" >0.6</td>\n",
       "                        <td id=\"T_cfcb2_row6_col5\" class=\"data row6 col5\" >0.59</td>\n",
       "                        <td id=\"T_cfcb2_row6_col6\" class=\"data row6 col6\" >1.0</td>\n",
       "            </tr>\n",
       "    </tbody></table>"
      ],
      "text/plain": [
       "<pandas.io.formats.style.Styler at 0x7fdd75a65850>"
      ]
     },
     "execution_count": 66,
     "metadata": {},
     "output_type": "execute_result"
    }
   ],
   "source": [
    "df[[\"duration\",\"duration_hours\",\"passenger_count\",'price','distance','manhattan_dist','speed_kmph_m']].corr().style.format(\"{:.2}\").background_gradient(cmap=plt.get_cmap('YlGnBu'),axis=1)\n",
    "\n",
    "#this correlation matrix shows a high +ve of price to duration"
   ]
  },
  {
   "cell_type": "markdown",
   "id": "32fe8bd0",
   "metadata": {},
   "source": [
    "***Note:**\n",
    "    \n",
    "    "
   ]
  },
  {
   "cell_type": "markdown",
   "id": "8b086705",
   "metadata": {},
   "source": [
    "### Distance and Duration viz - entire taxi dataset"
   ]
  },
  {
   "cell_type": "code",
   "execution_count": 38,
   "id": "b2fb4b9d",
   "metadata": {},
   "outputs": [
    {
     "name": "stderr",
     "output_type": "stream",
     "text": [
      "/usr/local/anaconda3/envs/newenv/lib/python3.7/site-packages/seaborn/distributions.py:2557: FutureWarning: `distplot` is a deprecated function and will be removed in a future version. Please adapt your code to use either `displot` (a figure-level function with similar flexibility) or `histplot` (an axes-level function for histograms).\n",
      "  warnings.warn(msg, FutureWarning)\n",
      "/usr/local/anaconda3/envs/newenv/lib/python3.7/site-packages/seaborn/distributions.py:2056: FutureWarning: The `axis` variable is no longer used and will be removed. Instead, assign variables directly to `x` or `y`.\n",
      "  warnings.warn(msg, FutureWarning)\n",
      "/usr/local/anaconda3/envs/newenv/lib/python3.7/site-packages/seaborn/distributions.py:2557: FutureWarning: `distplot` is a deprecated function and will be removed in a future version. Please adapt your code to use either `displot` (a figure-level function with similar flexibility) or `histplot` (an axes-level function for histograms).\n",
      "  warnings.warn(msg, FutureWarning)\n",
      "/usr/local/anaconda3/envs/newenv/lib/python3.7/site-packages/seaborn/distributions.py:2056: FutureWarning: The `axis` variable is no longer used and will be removed. Instead, assign variables directly to `x` or `y`.\n",
      "  warnings.warn(msg, FutureWarning)\n"
     ]
    },
    {
     "data": {
      "text/plain": [
       "<AxesSubplot:title={'center':'Distribution of Trip `Duration`'}, xlabel='duration_hours', ylabel='Counts'>"
      ]
     },
     "execution_count": 38,
     "metadata": {},
     "output_type": "execute_result"
    },
    {
     "data": {
      "image/png": "[encoded data removed]",
      "text/plain": [
       "<Figure size 1152x576 with 2 Axes>"
      ]
     },
     "metadata": {
      "needs_background": "light"
     },
     "output_type": "display_data"
    }
   ],
   "source": [
    "fig = plt.figure(figsize=(16,8))\n",
    "\n",
    "# Plot 1\n",
    "ax1 = plt.subplot(121)\n",
    "\n",
    "plt.xlabel('Distance (KM)', fontsize=14)\n",
    "plt.ylabel('Counts', fontsize=14, weight='bold')\n",
    "plt.tick_params(labelsize=14)\n",
    "plt.title('Distribution of Trip `Distance`', color='navy', fontsize=16,  weight='bold')\n",
    "\n",
    "sns.distplot(df.manhattan_dist, ax=ax1, kde=True, rug=True, )\n",
    "\n",
    "# Plot 2\n",
    "ax2 = plt.subplot(122)\n",
    "\n",
    "plt.xlabel('Duration (seconds)', fontsize=14)\n",
    "plt.ylabel('Counts')\n",
    "plt.tick_params(labelsize=14)\n",
    "plt.title('Distribution of Trip `Duration`', color='navy', fontsize=16,  weight='bold')\n",
    "\n",
    "sns.distplot(df.duration_hours, kde=True, rug=True, ax=ax2)\n"
   ]
  },
  {
   "cell_type": "markdown",
   "id": "86c13285",
   "metadata": {},
   "source": [
    "### Trend line of taxi rides data "
   ]
  },
  {
   "cell_type": "code",
   "execution_count": 39,
   "id": "07347327",
   "metadata": {},
   "outputs": [
    {
     "data": {
      "text/plain": [
       "<AxesSubplot:title={'center':'Trip Duration and Distance plot per pickup-dropoff pair'}, xlabel='manhattan_dist', ylabel='duration'>"
      ]
     },
     "execution_count": 39,
     "metadata": {},
     "output_type": "execute_result"
    },
    {
     "data": {
      "text/plain": [
       "<Figure size 432x288 with 0 Axes>"
      ]
     },
     "metadata": {},
     "output_type": "display_data"
    },
    {
     "data": {
      "image/png": "[encoded data removed]",
      "text/plain": [
       "<Figure size 1440x720 with 1 Axes>"
      ]
     },
     "metadata": {},
     "output_type": "display_data"
    }
   ],
   "source": [
    "from matplotlib import style\n",
    "plt.style.use('ggplot')\n",
    "sns.set_theme(style=\"whitegrid\")\n",
    "sns.despine()\n",
    "sns.set_style(\"ticks\")\n",
    "\n",
    "fig,ax = plt.subplots(1, figsize=(20,10))\n",
    "\n",
    "ax.set_xlabel('hour')\n",
    "ax.set_title('Trip Duration and Distance plot per pickup-dropoff pair')\n",
    "\n",
    "sns.regplot(x=\"manhattan_dist\", y=\"duration\", data=df, ax=ax)"
   ]
  },
  {
   "cell_type": "markdown",
   "id": "09f7204e",
   "metadata": {},
   "source": [
    "### Distance and Duration viz - inliers \n",
    "Output loaded from the geographical analysis of pickup points - book 2"
   ]
  },
  {
   "cell_type": "code",
   "execution_count": 40,
   "id": "084f4142",
   "metadata": {},
   "outputs": [],
   "source": [
    "inp_df = pd.read_csv('./data/joined_inliers_p.csv')"
   ]
  },
  {
   "cell_type": "code",
   "execution_count": 41,
   "id": "c800d597",
   "metadata": {},
   "outputs": [
    {
     "name": "stdout",
     "output_type": "stream",
     "text": [
      "<class 'pandas.core.frame.DataFrame'>\n",
      "RangeIndex: 1032162 entries, 0 to 1032161\n",
      "Data columns (total 30 columns):\n",
      " #   Column              Non-Null Count    Dtype  \n",
      "---  ------              --------------    -----  \n",
      " 0   Unnamed: 0          1032162 non-null  int64  \n",
      " 1   id                  1032162 non-null  object \n",
      " 2   vendor_id           1032162 non-null  int64  \n",
      " 3   pickup_datetime     1032162 non-null  object \n",
      " 4   dropoff_datetime    1032162 non-null  object \n",
      " 5   passenger_count     1032162 non-null  int64  \n",
      " 6   pickup_longitude    1032162 non-null  float64\n",
      " 7   pickup_latitude     1032162 non-null  float64\n",
      " 8   dropoff_longitude   1032162 non-null  float64\n",
      " 9   dropoff_latitude    1032162 non-null  float64\n",
      " 10  store_and_fwd_flag  1032162 non-null  bool   \n",
      " 11  duration            1032162 non-null  int64  \n",
      " 12  distance            1032162 non-null  float64\n",
      " 13  manhattan_dist      1032162 non-null  float64\n",
      " 14  duration_hours      1032162 non-null  float64\n",
      " 15  duration_min        1032162 non-null  float64\n",
      " 16  dur_to_dist         1032162 non-null  float64\n",
      " 17  dur_to_dist_m       1032162 non-null  float64\n",
      " 18  speed_kmph          1032162 non-null  float64\n",
      " 19  speed_kmph_m        1032162 non-null  float64\n",
      " 20  day_name            1032162 non-null  object \n",
      " 21  hour                1032162 non-null  int64  \n",
      " 22  price               1032162 non-null  float64\n",
      " 23  month_name          1032162 non-null  object \n",
      " 24  day                 1032162 non-null  int64  \n",
      " 25  geometry            1032162 non-null  object \n",
      " 26  index_right         1032162 non-null  float64\n",
      " 27  zcta                1032162 non-null  int64  \n",
      " 28  bcode               1032162 non-null  int64  \n",
      " 29  note                341 non-null      object \n",
      "dtypes: bool(1), float64(14), int64(8), object(7)\n",
      "memory usage: 229.4+ MB\n",
      "None\n"
     ]
    },
    {
     "data": {
      "text/html": [
       "<div>\n",
       "<style scoped>\n",
       "    .dataframe tbody tr th:only-of-type {\n",
       "        vertical-align: middle;\n",
       "    }\n",
       "\n",
       "    .dataframe tbody tr th {\n",
       "        vertical-align: top;\n",
       "    }\n",
       "\n",
       "    .dataframe thead th {\n",
       "        text-align: right;\n",
       "    }\n",
       "</style>\n",
       "<table border=\"1\" class=\"dataframe\">\n",
       "  <thead>\n",
       "    <tr style=\"text-align: right;\">\n",
       "      <th></th>\n",
       "      <th>Unnamed: 0</th>\n",
       "      <th>id</th>\n",
       "      <th>vendor_id</th>\n",
       "      <th>pickup_datetime</th>\n",
       "      <th>dropoff_datetime</th>\n",
       "      <th>passenger_count</th>\n",
       "      <th>pickup_longitude</th>\n",
       "      <th>pickup_latitude</th>\n",
       "      <th>dropoff_longitude</th>\n",
       "      <th>dropoff_latitude</th>\n",
       "      <th>...</th>\n",
       "      <th>day_name</th>\n",
       "      <th>hour</th>\n",
       "      <th>price</th>\n",
       "      <th>month_name</th>\n",
       "      <th>day</th>\n",
       "      <th>geometry</th>\n",
       "      <th>index_right</th>\n",
       "      <th>zcta</th>\n",
       "      <th>bcode</th>\n",
       "      <th>note</th>\n",
       "    </tr>\n",
       "  </thead>\n",
       "  <tbody>\n",
       "    <tr>\n",
       "      <th>0</th>\n",
       "      <td>0</td>\n",
       "      <td>id3487442</td>\n",
       "      <td>2</td>\n",
       "      <td>2016-02-29 18:39:00</td>\n",
       "      <td>2016-02-29 18:42:00</td>\n",
       "      <td>1</td>\n",
       "      <td>-73.981819</td>\n",
       "      <td>40.768963</td>\n",
       "      <td>-73.981819</td>\n",
       "      <td>40.768963</td>\n",
       "      <td>...</td>\n",
       "      <td>Monday</td>\n",
       "      <td>18</td>\n",
       "      <td>8.783333</td>\n",
       "      <td>February</td>\n",
       "      <td>29</td>\n",
       "      <td>POINT (-73.98181915000001 40.76896286)</td>\n",
       "      <td>23.0</td>\n",
       "      <td>10023</td>\n",
       "      <td>36061</td>\n",
       "      <td>NaN</td>\n",
       "    </tr>\n",
       "    <tr>\n",
       "      <th>1</th>\n",
       "      <td>1</td>\n",
       "      <td>id1145809</td>\n",
       "      <td>2</td>\n",
       "      <td>2016-05-16 23:15:00</td>\n",
       "      <td>2016-05-16 23:31:00</td>\n",
       "      <td>6</td>\n",
       "      <td>-73.808487</td>\n",
       "      <td>40.687336</td>\n",
       "      <td>-73.808487</td>\n",
       "      <td>40.687336</td>\n",
       "      <td>...</td>\n",
       "      <td>Monday</td>\n",
       "      <td>23</td>\n",
       "      <td>22.861667</td>\n",
       "      <td>May</td>\n",
       "      <td>16</td>\n",
       "      <td>POINT (-73.80848693999999 40.68733597)</td>\n",
       "      <td>191.0</td>\n",
       "      <td>11419</td>\n",
       "      <td>36081</td>\n",
       "      <td>NaN</td>\n",
       "    </tr>\n",
       "    <tr>\n",
       "      <th>2</th>\n",
       "      <td>2</td>\n",
       "      <td>id3499387</td>\n",
       "      <td>1</td>\n",
       "      <td>2016-01-25 19:45:00</td>\n",
       "      <td>2016-01-25 19:54:00</td>\n",
       "      <td>1</td>\n",
       "      <td>-73.786720</td>\n",
       "      <td>40.647041</td>\n",
       "      <td>-73.786720</td>\n",
       "      <td>40.647041</td>\n",
       "      <td>...</td>\n",
       "      <td>Monday</td>\n",
       "      <td>19</td>\n",
       "      <td>14.666667</td>\n",
       "      <td>January</td>\n",
       "      <td>25</td>\n",
       "      <td>POINT (-73.78672028 40.64704132)</td>\n",
       "      <td>202.0</td>\n",
       "      <td>11430</td>\n",
       "      <td>36081</td>\n",
       "      <td>NaN</td>\n",
       "    </tr>\n",
       "    <tr>\n",
       "      <th>3</th>\n",
       "      <td>4</td>\n",
       "      <td>id2134482</td>\n",
       "      <td>1</td>\n",
       "      <td>2016-01-22 16:13:00</td>\n",
       "      <td>2016-01-22 16:13:00</td>\n",
       "      <td>1</td>\n",
       "      <td>-73.776314</td>\n",
       "      <td>40.645454</td>\n",
       "      <td>-73.776314</td>\n",
       "      <td>40.645454</td>\n",
       "      <td>...</td>\n",
       "      <td>Friday</td>\n",
       "      <td>16</td>\n",
       "      <td>5.316667</td>\n",
       "      <td>January</td>\n",
       "      <td>22</td>\n",
       "      <td>POINT (-73.77631378 40.64545441)</td>\n",
       "      <td>202.0</td>\n",
       "      <td>11430</td>\n",
       "      <td>36081</td>\n",
       "      <td>NaN</td>\n",
       "    </tr>\n",
       "    <tr>\n",
       "      <th>4</th>\n",
       "      <td>5</td>\n",
       "      <td>id2892749</td>\n",
       "      <td>1</td>\n",
       "      <td>2016-01-18 15:24:00</td>\n",
       "      <td>2016-01-18 15:28:00</td>\n",
       "      <td>5</td>\n",
       "      <td>-73.954666</td>\n",
       "      <td>40.821003</td>\n",
       "      <td>-73.954666</td>\n",
       "      <td>40.821003</td>\n",
       "      <td>...</td>\n",
       "      <td>Monday</td>\n",
       "      <td>15</td>\n",
       "      <td>10.156667</td>\n",
       "      <td>January</td>\n",
       "      <td>18</td>\n",
       "      <td>POINT (-73.95466614 40.82100296)</td>\n",
       "      <td>34.0</td>\n",
       "      <td>10031</td>\n",
       "      <td>36061</td>\n",
       "      <td>NaN</td>\n",
       "    </tr>\n",
       "  </tbody>\n",
       "</table>\n",
       "<p>5 rows × 30 columns</p>\n",
       "</div>"
      ],
      "text/plain": [
       "   Unnamed: 0         id  vendor_id      pickup_datetime     dropoff_datetime  \\\n",
       "0           0  id3487442          2  2016-02-29 18:39:00  2016-02-29 18:42:00   \n",
       "1           1  id1145809          2  2016-05-16 23:15:00  2016-05-16 23:31:00   \n",
       "2           2  id3499387          1  2016-01-25 19:45:00  2016-01-25 19:54:00   \n",
       "3           4  id2134482          1  2016-01-22 16:13:00  2016-01-22 16:13:00   \n",
       "4           5  id2892749          1  2016-01-18 15:24:00  2016-01-18 15:28:00   \n",
       "\n",
       "   passenger_count  pickup_longitude  pickup_latitude  dropoff_longitude  \\\n",
       "0                1        -73.981819        40.768963         -73.981819   \n",
       "1                6        -73.808487        40.687336         -73.808487   \n",
       "2                1        -73.786720        40.647041         -73.786720   \n",
       "3                1        -73.776314        40.645454         -73.776314   \n",
       "4                5        -73.954666        40.821003         -73.954666   \n",
       "\n",
       "   dropoff_latitude  ...  day_name  hour      price  month_name  day  \\\n",
       "0         40.768963  ...    Monday    18   8.783333    February   29   \n",
       "1         40.687336  ...    Monday    23  22.861667         May   16   \n",
       "2         40.647041  ...    Monday    19  14.666667     January   25   \n",
       "3         40.645454  ...    Friday    16   5.316667     January   22   \n",
       "4         40.821003  ...    Monday    15  10.156667     January   18   \n",
       "\n",
       "                                 geometry  index_right   zcta  bcode  note  \n",
       "0  POINT (-73.98181915000001 40.76896286)         23.0  10023  36061   NaN  \n",
       "1  POINT (-73.80848693999999 40.68733597)        191.0  11419  36081   NaN  \n",
       "2        POINT (-73.78672028 40.64704132)        202.0  11430  36081   NaN  \n",
       "3        POINT (-73.77631378 40.64545441)        202.0  11430  36081   NaN  \n",
       "4        POINT (-73.95466614 40.82100296)         34.0  10031  36061   NaN  \n",
       "\n",
       "[5 rows x 30 columns]"
      ]
     },
     "execution_count": 41,
     "metadata": {},
     "output_type": "execute_result"
    }
   ],
   "source": [
    "print(inp_df.info())\n",
    "inp_df.head(5)\n"
   ]
  },
  {
   "cell_type": "code",
   "execution_count": 58,
   "id": "b0f0401d",
   "metadata": {},
   "outputs": [
    {
     "data": {
      "text/html": [
       "<div>\n",
       "<style scoped>\n",
       "    .dataframe tbody tr th:only-of-type {\n",
       "        vertical-align: middle;\n",
       "    }\n",
       "\n",
       "    .dataframe tbody tr th {\n",
       "        vertical-align: top;\n",
       "    }\n",
       "\n",
       "    .dataframe thead th {\n",
       "        text-align: right;\n",
       "    }\n",
       "</style>\n",
       "<table border=\"1\" class=\"dataframe\">\n",
       "  <thead>\n",
       "    <tr style=\"text-align: right;\">\n",
       "      <th></th>\n",
       "      <th>count</th>\n",
       "      <th>mean</th>\n",
       "      <th>std</th>\n",
       "      <th>min</th>\n",
       "      <th>25%</th>\n",
       "      <th>50%</th>\n",
       "      <th>75%</th>\n",
       "      <th>max</th>\n",
       "    </tr>\n",
       "  </thead>\n",
       "  <tbody>\n",
       "    <tr>\n",
       "      <th>duration</th>\n",
       "      <td>1032162.00000</td>\n",
       "      <td>962.94024</td>\n",
       "      <td>5882.81570</td>\n",
       "      <td>1.00000</td>\n",
       "      <td>397.00000</td>\n",
       "      <td>663.00000</td>\n",
       "      <td>1076.00000</td>\n",
       "      <td>3526282.00000</td>\n",
       "    </tr>\n",
       "    <tr>\n",
       "      <th>duration_hours</th>\n",
       "      <td>1032162.00000</td>\n",
       "      <td>0.26748</td>\n",
       "      <td>1.63412</td>\n",
       "      <td>0.00028</td>\n",
       "      <td>0.11028</td>\n",
       "      <td>0.18417</td>\n",
       "      <td>0.29889</td>\n",
       "      <td>979.52278</td>\n",
       "    </tr>\n",
       "    <tr>\n",
       "      <th>passenger_count</th>\n",
       "      <td>1032162.00000</td>\n",
       "      <td>1.66333</td>\n",
       "      <td>1.31349</td>\n",
       "      <td>0.00000</td>\n",
       "      <td>1.00000</td>\n",
       "      <td>1.00000</td>\n",
       "      <td>2.00000</td>\n",
       "      <td>8.00000</td>\n",
       "    </tr>\n",
       "    <tr>\n",
       "      <th>price</th>\n",
       "      <td>1032162.00000</td>\n",
       "      <td>26.17917</td>\n",
       "      <td>100.70145</td>\n",
       "      <td>0.09032</td>\n",
       "      <td>10.14404</td>\n",
       "      <td>17.28064</td>\n",
       "      <td>29.68508</td>\n",
       "      <td>58832.16996</td>\n",
       "    </tr>\n",
       "    <tr>\n",
       "      <th>distance</th>\n",
       "      <td>1032162.00000</td>\n",
       "      <td>3.45235</td>\n",
       "      <td>4.11956</td>\n",
       "      <td>0.00000</td>\n",
       "      <td>1.23304</td>\n",
       "      <td>2.09923</td>\n",
       "      <td>3.89337</td>\n",
       "      <td>578.84282</td>\n",
       "    </tr>\n",
       "    <tr>\n",
       "      <th>manhattan_dist</th>\n",
       "      <td>1032162.00000</td>\n",
       "      <td>4.49181</td>\n",
       "      <td>5.80874</td>\n",
       "      <td>0.00000</td>\n",
       "      <td>1.55894</td>\n",
       "      <td>2.63217</td>\n",
       "      <td>4.79259</td>\n",
       "      <td>872.88696</td>\n",
       "    </tr>\n",
       "    <tr>\n",
       "      <th>speed_kmph_m</th>\n",
       "      <td>1032162.00000</td>\n",
       "      <td>18.44746</td>\n",
       "      <td>15.32728</td>\n",
       "      <td>0.00000</td>\n",
       "      <td>11.39293</td>\n",
       "      <td>16.11273</td>\n",
       "      <td>22.76501</td>\n",
       "      <td>8191.34609</td>\n",
       "    </tr>\n",
       "  </tbody>\n",
       "</table>\n",
       "</div>"
      ],
      "text/plain": [
       "                        count      mean        std     min       25%  \\\n",
       "duration        1032162.00000 962.94024 5882.81570 1.00000 397.00000   \n",
       "duration_hours  1032162.00000   0.26748    1.63412 0.00028   0.11028   \n",
       "passenger_count 1032162.00000   1.66333    1.31349 0.00000   1.00000   \n",
       "price           1032162.00000  26.17917  100.70145 0.09032  10.14404   \n",
       "distance        1032162.00000   3.45235    4.11956 0.00000   1.23304   \n",
       "manhattan_dist  1032162.00000   4.49181    5.80874 0.00000   1.55894   \n",
       "speed_kmph_m    1032162.00000  18.44746   15.32728 0.00000  11.39293   \n",
       "\n",
       "                      50%        75%           max  \n",
       "duration        663.00000 1076.00000 3526282.00000  \n",
       "duration_hours    0.18417    0.29889     979.52278  \n",
       "passenger_count   1.00000    2.00000       8.00000  \n",
       "price            17.28064   29.68508   58832.16996  \n",
       "distance          2.09923    3.89337     578.84282  \n",
       "manhattan_dist    2.63217    4.79259     872.88696  \n",
       "speed_kmph_m     16.11273   22.76501    8191.34609  "
      ]
     },
     "execution_count": 58,
     "metadata": {},
     "output_type": "execute_result"
    }
   ],
   "source": [
    "inp_df[['duration','duration_hours','passenger_count','price','distance','manhattan_dist','speed_kmph_m']].describe().T\n"
   ]
  },
  {
   "cell_type": "code",
   "execution_count": 65,
   "id": "21f7f5be",
   "metadata": {},
   "outputs": [
    {
     "data": {
      "text/html": [
       "<style  type=\"text/css\" >\n",
       "#T_e5726_row0_col0,#T_e5726_row0_col1,#T_e5726_row1_col0,#T_e5726_row1_col1,#T_e5726_row2_col2,#T_e5726_row3_col3,#T_e5726_row4_col4,#T_e5726_row5_col5,#T_e5726_row6_col6{\n",
       "            background-color:  #081d58;\n",
       "            color:  #f1f1f1;\n",
       "        }#T_e5726_row0_col2,#T_e5726_row1_col2{\n",
       "            background-color:  #fcfed1;\n",
       "            color:  #000000;\n",
       "        }#T_e5726_row0_col3,#T_e5726_row1_col3,#T_e5726_row3_col0,#T_e5726_row3_col1,#T_e5726_row4_col5,#T_e5726_row5_col4{\n",
       "            background-color:  #0a1e5c;\n",
       "            color:  #f1f1f1;\n",
       "        }#T_e5726_row0_col4,#T_e5726_row0_col5,#T_e5726_row1_col4,#T_e5726_row1_col5{\n",
       "            background-color:  #f0f9b8;\n",
       "            color:  #000000;\n",
       "        }#T_e5726_row0_col6,#T_e5726_row1_col6,#T_e5726_row2_col6,#T_e5726_row3_col2,#T_e5726_row4_col2,#T_e5726_row5_col2,#T_e5726_row6_col0,#T_e5726_row6_col1{\n",
       "            background-color:  #ffffd9;\n",
       "            color:  #000000;\n",
       "        }#T_e5726_row2_col0,#T_e5726_row2_col1{\n",
       "            background-color:  #feffd6;\n",
       "            color:  #000000;\n",
       "        }#T_e5726_row2_col3{\n",
       "            background-color:  #fdfed4;\n",
       "            color:  #000000;\n",
       "        }#T_e5726_row2_col4,#T_e5726_row2_col5,#T_e5726_row6_col2{\n",
       "            background-color:  #fdfed5;\n",
       "            color:  #000000;\n",
       "        }#T_e5726_row3_col4{\n",
       "            background-color:  #d6efb3;\n",
       "            color:  #000000;\n",
       "        }#T_e5726_row3_col5{\n",
       "            background-color:  #d7efb3;\n",
       "            color:  #000000;\n",
       "        }#T_e5726_row3_col6{\n",
       "            background-color:  #fafdcf;\n",
       "            color:  #000000;\n",
       "        }#T_e5726_row4_col0,#T_e5726_row4_col1,#T_e5726_row5_col0,#T_e5726_row5_col1{\n",
       "            background-color:  #f4fbc0;\n",
       "            color:  #000000;\n",
       "        }#T_e5726_row4_col3,#T_e5726_row5_col3{\n",
       "            background-color:  #d5efb3;\n",
       "            color:  #000000;\n",
       "        }#T_e5726_row4_col6{\n",
       "            background-color:  #37acc3;\n",
       "            color:  #000000;\n",
       "        }#T_e5726_row5_col6{\n",
       "            background-color:  #3aaec3;\n",
       "            color:  #000000;\n",
       "        }#T_e5726_row6_col3{\n",
       "            background-color:  #f5fbc4;\n",
       "            color:  #000000;\n",
       "        }#T_e5726_row6_col4{\n",
       "            background-color:  #33a7c2;\n",
       "            color:  #000000;\n",
       "        }#T_e5726_row6_col5{\n",
       "            background-color:  #35aac3;\n",
       "            color:  #000000;\n",
       "        }</style><table id=\"T_e5726_\" ><thead>    <tr>        <th class=\"blank level0\" ></th>        <th class=\"col_heading level0 col0\" >duration</th>        <th class=\"col_heading level0 col1\" >duration_hours</th>        <th class=\"col_heading level0 col2\" >passenger_count</th>        <th class=\"col_heading level0 col3\" >price</th>        <th class=\"col_heading level0 col4\" >distance</th>        <th class=\"col_heading level0 col5\" >manhattan_dist</th>        <th class=\"col_heading level0 col6\" >speed_kmph_m</th>    </tr></thead><tbody>\n",
       "                <tr>\n",
       "                        <th id=\"T_e5726_level0_row0\" class=\"row_heading level0 row0\" >duration</th>\n",
       "                        <td id=\"T_e5726_row0_col0\" class=\"data row0 col0\" >1.0</td>\n",
       "                        <td id=\"T_e5726_row0_col1\" class=\"data row0 col1\" >1.0</td>\n",
       "                        <td id=\"T_e5726_row0_col2\" class=\"data row0 col2\" >0.0072</td>\n",
       "                        <td id=\"T_e5726_row0_col3\" class=\"data row0 col3\" >0.99</td>\n",
       "                        <td id=\"T_e5726_row0_col4\" class=\"data row0 col4\" >0.089</td>\n",
       "                        <td id=\"T_e5726_row0_col5\" class=\"data row0 col5\" >0.089</td>\n",
       "                        <td id=\"T_e5726_row0_col6\" class=\"data row0 col6\" >-0.018</td>\n",
       "            </tr>\n",
       "            <tr>\n",
       "                        <th id=\"T_e5726_level0_row1\" class=\"row_heading level0 row1\" >duration_hours</th>\n",
       "                        <td id=\"T_e5726_row1_col0\" class=\"data row1 col0\" >1.0</td>\n",
       "                        <td id=\"T_e5726_row1_col1\" class=\"data row1 col1\" >1.0</td>\n",
       "                        <td id=\"T_e5726_row1_col2\" class=\"data row1 col2\" >0.0072</td>\n",
       "                        <td id=\"T_e5726_row1_col3\" class=\"data row1 col3\" >0.99</td>\n",
       "                        <td id=\"T_e5726_row1_col4\" class=\"data row1 col4\" >0.089</td>\n",
       "                        <td id=\"T_e5726_row1_col5\" class=\"data row1 col5\" >0.089</td>\n",
       "                        <td id=\"T_e5726_row1_col6\" class=\"data row1 col6\" >-0.018</td>\n",
       "            </tr>\n",
       "            <tr>\n",
       "                        <th id=\"T_e5726_level0_row2\" class=\"row_heading level0 row2\" >passenger_count</th>\n",
       "                        <td id=\"T_e5726_row2_col0\" class=\"data row2 col0\" >0.0072</td>\n",
       "                        <td id=\"T_e5726_row2_col1\" class=\"data row2 col1\" >0.0072</td>\n",
       "                        <td id=\"T_e5726_row2_col2\" class=\"data row2 col2\" >1.0</td>\n",
       "                        <td id=\"T_e5726_row2_col3\" class=\"data row2 col3\" >0.017</td>\n",
       "                        <td id=\"T_e5726_row2_col4\" class=\"data row2 col4\" >0.0098</td>\n",
       "                        <td id=\"T_e5726_row2_col5\" class=\"data row2 col5\" >0.01</td>\n",
       "                        <td id=\"T_e5726_row2_col6\" class=\"data row2 col6\" >-0.0026</td>\n",
       "            </tr>\n",
       "            <tr>\n",
       "                        <th id=\"T_e5726_level0_row3\" class=\"row_heading level0 row3\" >price</th>\n",
       "                        <td id=\"T_e5726_row3_col0\" class=\"data row3 col0\" >0.99</td>\n",
       "                        <td id=\"T_e5726_row3_col1\" class=\"data row3 col1\" >0.99</td>\n",
       "                        <td id=\"T_e5726_row3_col2\" class=\"data row3 col2\" >0.017</td>\n",
       "                        <td id=\"T_e5726_row3_col3\" class=\"data row3 col3\" >1.0</td>\n",
       "                        <td id=\"T_e5726_row3_col4\" class=\"data row3 col4\" >0.21</td>\n",
       "                        <td id=\"T_e5726_row3_col5\" class=\"data row3 col5\" >0.21</td>\n",
       "                        <td id=\"T_e5726_row3_col6\" class=\"data row3 col6\" >0.051</td>\n",
       "            </tr>\n",
       "            <tr>\n",
       "                        <th id=\"T_e5726_level0_row4\" class=\"row_heading level0 row4\" >distance</th>\n",
       "                        <td id=\"T_e5726_row4_col0\" class=\"data row4 col0\" >0.089</td>\n",
       "                        <td id=\"T_e5726_row4_col1\" class=\"data row4 col1\" >0.089</td>\n",
       "                        <td id=\"T_e5726_row4_col2\" class=\"data row4 col2\" >0.0098</td>\n",
       "                        <td id=\"T_e5726_row4_col3\" class=\"data row4 col3\" >0.21</td>\n",
       "                        <td id=\"T_e5726_row4_col4\" class=\"data row4 col4\" >1.0</td>\n",
       "                        <td id=\"T_e5726_row4_col5\" class=\"data row4 col5\" >0.99</td>\n",
       "                        <td id=\"T_e5726_row4_col6\" class=\"data row4 col6\" >0.54</td>\n",
       "            </tr>\n",
       "            <tr>\n",
       "                        <th id=\"T_e5726_level0_row5\" class=\"row_heading level0 row5\" >manhattan_dist</th>\n",
       "                        <td id=\"T_e5726_row5_col0\" class=\"data row5 col0\" >0.089</td>\n",
       "                        <td id=\"T_e5726_row5_col1\" class=\"data row5 col1\" >0.089</td>\n",
       "                        <td id=\"T_e5726_row5_col2\" class=\"data row5 col2\" >0.01</td>\n",
       "                        <td id=\"T_e5726_row5_col3\" class=\"data row5 col3\" >0.21</td>\n",
       "                        <td id=\"T_e5726_row5_col4\" class=\"data row5 col4\" >0.99</td>\n",
       "                        <td id=\"T_e5726_row5_col5\" class=\"data row5 col5\" >1.0</td>\n",
       "                        <td id=\"T_e5726_row5_col6\" class=\"data row5 col6\" >0.53</td>\n",
       "            </tr>\n",
       "            <tr>\n",
       "                        <th id=\"T_e5726_level0_row6\" class=\"row_heading level0 row6\" >speed_kmph_m</th>\n",
       "                        <td id=\"T_e5726_row6_col0\" class=\"data row6 col0\" >-0.018</td>\n",
       "                        <td id=\"T_e5726_row6_col1\" class=\"data row6 col1\" >-0.018</td>\n",
       "                        <td id=\"T_e5726_row6_col2\" class=\"data row6 col2\" >-0.0026</td>\n",
       "                        <td id=\"T_e5726_row6_col3\" class=\"data row6 col3\" >0.051</td>\n",
       "                        <td id=\"T_e5726_row6_col4\" class=\"data row6 col4\" >0.54</td>\n",
       "                        <td id=\"T_e5726_row6_col5\" class=\"data row6 col5\" >0.53</td>\n",
       "                        <td id=\"T_e5726_row6_col6\" class=\"data row6 col6\" >1.0</td>\n",
       "            </tr>\n",
       "    </tbody></table>"
      ],
      "text/plain": [
       "<pandas.io.formats.style.Styler at 0x7fdd6ce009d0>"
      ]
     },
     "execution_count": 65,
     "metadata": {},
     "output_type": "execute_result"
    }
   ],
   "source": [
    "inp_df[['duration','duration_hours','passenger_count','price','distance','manhattan_dist','speed_kmph_m']].corr().style.format(\"{:.2}\").background_gradient(cmap=plt.get_cmap('YlGnBu'),axis=1)"
   ]
  },
  {
   "cell_type": "code",
   "execution_count": 67,
   "id": "7a523796",
   "metadata": {},
   "outputs": [
    {
     "data": {
      "image/png": "[encoded data removed]",
      "text/plain": [
       "<Figure size 1152x576 with 2 Axes>"
      ]
     },
     "metadata": {},
     "output_type": "display_data"
    }
   ],
   "source": [
    "fig = plt.figure(figsize=(16,8))\n",
    "\n",
    "# Plot 1\n",
    "ax1 = plt.subplot(121)\n",
    "\n",
    "plt.xlabel('Distance (KM)', fontsize=14)\n",
    "plt.ylabel('Counts', fontsize=14, weight='bold')\n",
    "plt.tick_params(labelsize=14)\n",
    "plt.title('Distribution of Trip `Distance`', color='navy', fontsize=16,  weight='bold')\n",
    "\n",
    "plt.xlim([-1,30])\n",
    "ax1= sns.histplot(data= inp_df, x='manhattan_dist', kde=True)\n",
    "\n",
    "# ax1.set_xticks(range(-1,30))\n",
    "\n",
    "# Plot 2\n",
    "ax2 = plt.subplot(122)\n",
    "\n",
    "plt.xlabel('Duration (seconds)', fontsize=14)\n",
    "plt.ylabel('Counts',fontsize=14, weight='bold')\n",
    "plt.tick_params(labelsize=14)\n",
    "plt.title('Distribution of Trip `Duration`', color='navy', fontsize=16,  weight='bold')\n",
    "\n",
    "plt.xlim([0,6200])\n",
    "ax2= sns.histplot(data=inp_df, x='duration', kde=True)"
   ]
  },
  {
   "cell_type": "code",
   "execution_count": 68,
   "id": "d88119e9",
   "metadata": {},
   "outputs": [
    {
     "data": {
      "text/plain": [
       "<AxesSubplot:title={'center':'Trip Duration and Distance plot per pickup-dropoff pair'}, xlabel='manhattan_dist', ylabel='duration'>"
      ]
     },
     "execution_count": 68,
     "metadata": {},
     "output_type": "execute_result"
    },
    {
     "data": {
      "image/png": "[encoded data removed]",
      "text/plain": [
       "<Figure size 1440x720 with 1 Axes>"
      ]
     },
     "metadata": {},
     "output_type": "display_data"
    }
   ],
   "source": [
    "fig,ax = plt.subplots(1, figsize=(20,10))\n",
    "\n",
    "ax.set_xlabel('hour')\n",
    "ax.set_title('Trip Duration and Distance plot per pickup-dropoff pair',fontsize=16,  weight='bold' )\n",
    "\n",
    "sns.regplot(x=\"manhattan_dist\", y=\"duration\", data=inp_df, ax=ax)"
   ]
  },
  {
   "cell_type": "markdown",
   "id": "57236e69",
   "metadata": {},
   "source": [
    "### Distance and Duration viz - outliers\n",
    "Output loaded from the geographical analysis of pickup points - book 2"
   ]
  },
  {
   "cell_type": "code",
   "execution_count": 69,
   "id": "98840ae8",
   "metadata": {},
   "outputs": [],
   "source": [
    "outp_df = pd.read_csv('./data/joined_outliers_p.csv')"
   ]
  },
  {
   "cell_type": "code",
   "execution_count": 70,
   "id": "ecd25de0",
   "metadata": {},
   "outputs": [
    {
     "name": "stdout",
     "output_type": "stream",
     "text": [
      "<class 'pandas.core.frame.DataFrame'>\n",
      "RangeIndex: 16306 entries, 0 to 16305\n",
      "Data columns (total 30 columns):\n",
      " #   Column              Non-Null Count  Dtype  \n",
      "---  ------              --------------  -----  \n",
      " 0   Unnamed: 0          16306 non-null  int64  \n",
      " 1   id                  16306 non-null  object \n",
      " 2   vendor_id           16306 non-null  int64  \n",
      " 3   pickup_datetime     16306 non-null  object \n",
      " 4   dropoff_datetime    16306 non-null  object \n",
      " 5   passenger_count     16306 non-null  int64  \n",
      " 6   pickup_longitude    16306 non-null  float64\n",
      " 7   pickup_latitude     16306 non-null  float64\n",
      " 8   dropoff_longitude   16306 non-null  float64\n",
      " 9   dropoff_latitude    16306 non-null  float64\n",
      " 10  store_and_fwd_flag  16306 non-null  bool   \n",
      " 11  duration            16306 non-null  int64  \n",
      " 12  distance            16306 non-null  float64\n",
      " 13  manhattan_dist      16306 non-null  float64\n",
      " 14  duration_hours      16306 non-null  float64\n",
      " 15  duration_min        16306 non-null  float64\n",
      " 16  dur_to_dist         16306 non-null  float64\n",
      " 17  dur_to_dist_m       16306 non-null  float64\n",
      " 18  speed_kmph          16306 non-null  float64\n",
      " 19  speed_kmph_m        16306 non-null  float64\n",
      " 20  day_name            16306 non-null  object \n",
      " 21  hour                16306 non-null  int64  \n",
      " 22  price               16306 non-null  float64\n",
      " 23  month_name          16306 non-null  object \n",
      " 24  day                 16306 non-null  int64  \n",
      " 25  geometry            16306 non-null  object \n",
      " 26  index_right         0 non-null      float64\n",
      " 27  zcta                0 non-null      float64\n",
      " 28  bcode               0 non-null      float64\n",
      " 29  note                0 non-null      float64\n",
      "dtypes: bool(1), float64(17), int64(6), object(6)\n",
      "memory usage: 3.6+ MB\n",
      "None\n"
     ]
    },
    {
     "data": {
      "text/html": [
       "<div>\n",
       "<style scoped>\n",
       "    .dataframe tbody tr th:only-of-type {\n",
       "        vertical-align: middle;\n",
       "    }\n",
       "\n",
       "    .dataframe tbody tr th {\n",
       "        vertical-align: top;\n",
       "    }\n",
       "\n",
       "    .dataframe thead th {\n",
       "        text-align: right;\n",
       "    }\n",
       "</style>\n",
       "<table border=\"1\" class=\"dataframe\">\n",
       "  <thead>\n",
       "    <tr style=\"text-align: right;\">\n",
       "      <th></th>\n",
       "      <th>Unnamed: 0</th>\n",
       "      <th>id</th>\n",
       "      <th>vendor_id</th>\n",
       "      <th>pickup_datetime</th>\n",
       "      <th>dropoff_datetime</th>\n",
       "      <th>passenger_count</th>\n",
       "      <th>pickup_longitude</th>\n",
       "      <th>pickup_latitude</th>\n",
       "      <th>dropoff_longitude</th>\n",
       "      <th>dropoff_latitude</th>\n",
       "      <th>...</th>\n",
       "      <th>day_name</th>\n",
       "      <th>hour</th>\n",
       "      <th>price</th>\n",
       "      <th>month_name</th>\n",
       "      <th>day</th>\n",
       "      <th>geometry</th>\n",
       "      <th>index_right</th>\n",
       "      <th>zcta</th>\n",
       "      <th>bcode</th>\n",
       "      <th>note</th>\n",
       "    </tr>\n",
       "  </thead>\n",
       "  <tbody>\n",
       "    <tr>\n",
       "      <th>0</th>\n",
       "      <td>3</td>\n",
       "      <td>id0753277</td>\n",
       "      <td>1</td>\n",
       "      <td>2016-01-27 22:29:00</td>\n",
       "      <td>2016-01-27 22:29:00</td>\n",
       "      <td>1</td>\n",
       "      <td>-74.20985</td>\n",
       "      <td>40.81685</td>\n",
       "      <td>-74.20985</td>\n",
       "      <td>40.81685</td>\n",
       "      <td>...</td>\n",
       "      <td>Wednesday</td>\n",
       "      <td>22</td>\n",
       "      <td>5.45000</td>\n",
       "      <td>January</td>\n",
       "      <td>27</td>\n",
       "      <td>POINT (-74.20985413 40.81685257)</td>\n",
       "      <td>NaN</td>\n",
       "      <td>NaN</td>\n",
       "      <td>NaN</td>\n",
       "      <td>NaN</td>\n",
       "    </tr>\n",
       "    <tr>\n",
       "      <th>1</th>\n",
       "      <td>12</td>\n",
       "      <td>id1606138</td>\n",
       "      <td>2</td>\n",
       "      <td>2016-04-27 15:14:00</td>\n",
       "      <td>2016-04-27 15:15:00</td>\n",
       "      <td>2</td>\n",
       "      <td>-74.17778</td>\n",
       "      <td>40.69028</td>\n",
       "      <td>-74.17778</td>\n",
       "      <td>40.69028</td>\n",
       "      <td>...</td>\n",
       "      <td>Wednesday</td>\n",
       "      <td>15</td>\n",
       "      <td>5.11667</td>\n",
       "      <td>April</td>\n",
       "      <td>27</td>\n",
       "      <td>POINT (-74.17778015 40.69028091)</td>\n",
       "      <td>NaN</td>\n",
       "      <td>NaN</td>\n",
       "      <td>NaN</td>\n",
       "      <td>NaN</td>\n",
       "    </tr>\n",
       "    <tr>\n",
       "      <th>2</th>\n",
       "      <td>21</td>\n",
       "      <td>id0688948</td>\n",
       "      <td>1</td>\n",
       "      <td>2016-04-14 20:13:00</td>\n",
       "      <td>2016-04-14 20:13:00</td>\n",
       "      <td>1</td>\n",
       "      <td>-74.16180</td>\n",
       "      <td>40.83649</td>\n",
       "      <td>-74.16180</td>\n",
       "      <td>40.83649</td>\n",
       "      <td>...</td>\n",
       "      <td>Thursday</td>\n",
       "      <td>20</td>\n",
       "      <td>5.25000</td>\n",
       "      <td>April</td>\n",
       "      <td>14</td>\n",
       "      <td>POINT (-74.16180420000001 40.83649445)</td>\n",
       "      <td>NaN</td>\n",
       "      <td>NaN</td>\n",
       "      <td>NaN</td>\n",
       "      <td>NaN</td>\n",
       "    </tr>\n",
       "    <tr>\n",
       "      <th>3</th>\n",
       "      <td>36</td>\n",
       "      <td>id3535158</td>\n",
       "      <td>1</td>\n",
       "      <td>2016-02-11 18:57:00</td>\n",
       "      <td>2016-02-11 19:14:00</td>\n",
       "      <td>1</td>\n",
       "      <td>-73.73524</td>\n",
       "      <td>40.82271</td>\n",
       "      <td>-73.73524</td>\n",
       "      <td>40.82271</td>\n",
       "      <td>...</td>\n",
       "      <td>Thursday</td>\n",
       "      <td>18</td>\n",
       "      <td>21.66667</td>\n",
       "      <td>February</td>\n",
       "      <td>11</td>\n",
       "      <td>POINT (-73.73523711999999 40.82271194)</td>\n",
       "      <td>NaN</td>\n",
       "      <td>NaN</td>\n",
       "      <td>NaN</td>\n",
       "      <td>NaN</td>\n",
       "    </tr>\n",
       "    <tr>\n",
       "      <th>4</th>\n",
       "      <td>50</td>\n",
       "      <td>id1436954</td>\n",
       "      <td>2</td>\n",
       "      <td>2016-04-25 13:18:00</td>\n",
       "      <td>2016-04-25 13:26:00</td>\n",
       "      <td>1</td>\n",
       "      <td>-73.96654</td>\n",
       "      <td>40.78409</td>\n",
       "      <td>-73.96654</td>\n",
       "      <td>40.78409</td>\n",
       "      <td>...</td>\n",
       "      <td>Monday</td>\n",
       "      <td>13</td>\n",
       "      <td>12.26667</td>\n",
       "      <td>April</td>\n",
       "      <td>25</td>\n",
       "      <td>POINT (-73.96653748 40.78409195)</td>\n",
       "      <td>NaN</td>\n",
       "      <td>NaN</td>\n",
       "      <td>NaN</td>\n",
       "      <td>NaN</td>\n",
       "    </tr>\n",
       "  </tbody>\n",
       "</table>\n",
       "<p>5 rows × 30 columns</p>\n",
       "</div>"
      ],
      "text/plain": [
       "   Unnamed: 0         id  vendor_id      pickup_datetime     dropoff_datetime  \\\n",
       "0           3  id0753277          1  2016-01-27 22:29:00  2016-01-27 22:29:00   \n",
       "1          12  id1606138          2  2016-04-27 15:14:00  2016-04-27 15:15:00   \n",
       "2          21  id0688948          1  2016-04-14 20:13:00  2016-04-14 20:13:00   \n",
       "3          36  id3535158          1  2016-02-11 18:57:00  2016-02-11 19:14:00   \n",
       "4          50  id1436954          2  2016-04-25 13:18:00  2016-04-25 13:26:00   \n",
       "\n",
       "   passenger_count  pickup_longitude  pickup_latitude  dropoff_longitude  \\\n",
       "0                1         -74.20985         40.81685          -74.20985   \n",
       "1                2         -74.17778         40.69028          -74.17778   \n",
       "2                1         -74.16180         40.83649          -74.16180   \n",
       "3                1         -73.73524         40.82271          -73.73524   \n",
       "4                1         -73.96654         40.78409          -73.96654   \n",
       "\n",
       "   dropoff_latitude  ...   day_name  hour    price  month_name  day  \\\n",
       "0          40.81685  ...  Wednesday    22  5.45000     January   27   \n",
       "1          40.69028  ...  Wednesday    15  5.11667       April   27   \n",
       "2          40.83649  ...   Thursday    20  5.25000       April   14   \n",
       "3          40.82271  ...   Thursday    18 21.66667    February   11   \n",
       "4          40.78409  ...     Monday    13 12.26667       April   25   \n",
       "\n",
       "                                 geometry  index_right  zcta  bcode  note  \n",
       "0        POINT (-74.20985413 40.81685257)          NaN   NaN    NaN   NaN  \n",
       "1        POINT (-74.17778015 40.69028091)          NaN   NaN    NaN   NaN  \n",
       "2  POINT (-74.16180420000001 40.83649445)          NaN   NaN    NaN   NaN  \n",
       "3  POINT (-73.73523711999999 40.82271194)          NaN   NaN    NaN   NaN  \n",
       "4        POINT (-73.96653748 40.78409195)          NaN   NaN    NaN   NaN  \n",
       "\n",
       "[5 rows x 30 columns]"
      ]
     },
     "execution_count": 70,
     "metadata": {},
     "output_type": "execute_result"
    }
   ],
   "source": [
    "print(outp_df.info())\n",
    "outp_df.head(5)\n"
   ]
  },
  {
   "cell_type": "code",
   "execution_count": 71,
   "id": "9b887047",
   "metadata": {},
   "outputs": [
    {
     "data": {
      "text/html": [
       "<div>\n",
       "<style scoped>\n",
       "    .dataframe tbody tr th:only-of-type {\n",
       "        vertical-align: middle;\n",
       "    }\n",
       "\n",
       "    .dataframe tbody tr th {\n",
       "        vertical-align: top;\n",
       "    }\n",
       "\n",
       "    .dataframe thead th {\n",
       "        text-align: right;\n",
       "    }\n",
       "</style>\n",
       "<table border=\"1\" class=\"dataframe\">\n",
       "  <thead>\n",
       "    <tr style=\"text-align: right;\">\n",
       "      <th></th>\n",
       "      <th>count</th>\n",
       "      <th>mean</th>\n",
       "      <th>std</th>\n",
       "      <th>min</th>\n",
       "      <th>25%</th>\n",
       "      <th>50%</th>\n",
       "      <th>75%</th>\n",
       "      <th>max</th>\n",
       "    </tr>\n",
       "  </thead>\n",
       "  <tbody>\n",
       "    <tr>\n",
       "      <th>duration</th>\n",
       "      <td>16306.00000</td>\n",
       "      <td>915.06219</td>\n",
       "      <td>3511.45797</td>\n",
       "      <td>2.00000</td>\n",
       "      <td>385.00000</td>\n",
       "      <td>624.00000</td>\n",
       "      <td>1009.00000</td>\n",
       "      <td>86351.00000</td>\n",
       "    </tr>\n",
       "    <tr>\n",
       "      <th>duration_hours</th>\n",
       "      <td>16306.00000</td>\n",
       "      <td>0.25418</td>\n",
       "      <td>0.97540</td>\n",
       "      <td>0.00056</td>\n",
       "      <td>0.10694</td>\n",
       "      <td>0.17333</td>\n",
       "      <td>0.28028</td>\n",
       "      <td>23.98639</td>\n",
       "    </tr>\n",
       "    <tr>\n",
       "      <th>passenger_count</th>\n",
       "      <td>16306.00000</td>\n",
       "      <td>1.73034</td>\n",
       "      <td>1.35972</td>\n",
       "      <td>0.00000</td>\n",
       "      <td>1.00000</td>\n",
       "      <td>1.00000</td>\n",
       "      <td>2.00000</td>\n",
       "      <td>9.00000</td>\n",
       "    </tr>\n",
       "    <tr>\n",
       "      <th>price</th>\n",
       "      <td>16306.00000</td>\n",
       "      <td>23.61241</td>\n",
       "      <td>73.05641</td>\n",
       "      <td>0.37030</td>\n",
       "      <td>9.82637</td>\n",
       "      <td>15.87771</td>\n",
       "      <td>25.56325</td>\n",
       "      <td>3865.95366</td>\n",
       "    </tr>\n",
       "    <tr>\n",
       "      <th>distance</th>\n",
       "      <td>16306.00000</td>\n",
       "      <td>2.80470</td>\n",
       "      <td>12.65177</td>\n",
       "      <td>0.00000</td>\n",
       "      <td>1.18096</td>\n",
       "      <td>1.87421</td>\n",
       "      <td>3.01807</td>\n",
       "      <td>1240.90868</td>\n",
       "    </tr>\n",
       "    <tr>\n",
       "      <th>manhattan_dist</th>\n",
       "      <td>16306.00000</td>\n",
       "      <td>3.56735</td>\n",
       "      <td>16.12400</td>\n",
       "      <td>0.00000</td>\n",
       "      <td>1.52753</td>\n",
       "      <td>2.37140</td>\n",
       "      <td>3.67169</td>\n",
       "      <td>1485.25957</td>\n",
       "    </tr>\n",
       "    <tr>\n",
       "      <th>speed_kmph_m</th>\n",
       "      <td>16306.00000</td>\n",
       "      <td>17.36888</td>\n",
       "      <td>83.10048</td>\n",
       "      <td>0.00000</td>\n",
       "      <td>10.26550</td>\n",
       "      <td>14.54535</td>\n",
       "      <td>19.83092</td>\n",
       "      <td>7524.00878</td>\n",
       "    </tr>\n",
       "  </tbody>\n",
       "</table>\n",
       "</div>"
      ],
      "text/plain": [
       "                      count      mean        std     min       25%       50%  \\\n",
       "duration        16306.00000 915.06219 3511.45797 2.00000 385.00000 624.00000   \n",
       "duration_hours  16306.00000   0.25418    0.97540 0.00056   0.10694   0.17333   \n",
       "passenger_count 16306.00000   1.73034    1.35972 0.00000   1.00000   1.00000   \n",
       "price           16306.00000  23.61241   73.05641 0.37030   9.82637  15.87771   \n",
       "distance        16306.00000   2.80470   12.65177 0.00000   1.18096   1.87421   \n",
       "manhattan_dist  16306.00000   3.56735   16.12400 0.00000   1.52753   2.37140   \n",
       "speed_kmph_m    16306.00000  17.36888   83.10048 0.00000  10.26550  14.54535   \n",
       "\n",
       "                       75%         max  \n",
       "duration        1009.00000 86351.00000  \n",
       "duration_hours     0.28028    23.98639  \n",
       "passenger_count    2.00000     9.00000  \n",
       "price             25.56325  3865.95366  \n",
       "distance           3.01807  1240.90868  \n",
       "manhattan_dist     3.67169  1485.25957  \n",
       "speed_kmph_m      19.83092  7524.00878  "
      ]
     },
     "execution_count": 71,
     "metadata": {},
     "output_type": "execute_result"
    }
   ],
   "source": [
    "outp_df[['duration','duration_hours','passenger_count','price','distance','manhattan_dist','speed_kmph_m']].describe().T\n"
   ]
  },
  {
   "cell_type": "code",
   "execution_count": 72,
   "id": "0ba45017",
   "metadata": {},
   "outputs": [
    {
     "data": {
      "text/html": [
       "<style  type=\"text/css\" >\n",
       "#T_f4870_row0_col0,#T_f4870_row0_col1,#T_f4870_row1_col0,#T_f4870_row1_col1,#T_f4870_row2_col2,#T_f4870_row3_col3,#T_f4870_row4_col4,#T_f4870_row5_col5,#T_f4870_row6_col6{\n",
       "            background-color:  #081d58;\n",
       "            color:  #f1f1f1;\n",
       "        }#T_f4870_row0_col2,#T_f4870_row1_col2,#T_f4870_row2_col3,#T_f4870_row4_col0,#T_f4870_row4_col1,#T_f4870_row5_col0,#T_f4870_row5_col1{\n",
       "            background-color:  #fdfed4;\n",
       "            color:  #000000;\n",
       "        }#T_f4870_row0_col3,#T_f4870_row1_col3{\n",
       "            background-color:  #24439b;\n",
       "            color:  #f1f1f1;\n",
       "        }#T_f4870_row0_col4,#T_f4870_row0_col5,#T_f4870_row1_col4,#T_f4870_row1_col5{\n",
       "            background-color:  #f9fdcb;\n",
       "            color:  #000000;\n",
       "        }#T_f4870_row0_col6,#T_f4870_row1_col6,#T_f4870_row2_col0,#T_f4870_row2_col1,#T_f4870_row3_col2,#T_f4870_row4_col2,#T_f4870_row5_col2,#T_f4870_row6_col0,#T_f4870_row6_col1{\n",
       "            background-color:  #ffffd9;\n",
       "            color:  #000000;\n",
       "        }#T_f4870_row2_col4,#T_f4870_row2_col5{\n",
       "            background-color:  #feffd6;\n",
       "            color:  #000000;\n",
       "        }#T_f4870_row2_col6{\n",
       "            background-color:  #feffd8;\n",
       "            color:  #000000;\n",
       "        }#T_f4870_row3_col0,#T_f4870_row3_col1{\n",
       "            background-color:  #24449c;\n",
       "            color:  #f1f1f1;\n",
       "        }#T_f4870_row3_col4,#T_f4870_row3_col5{\n",
       "            background-color:  #2ca1c2;\n",
       "            color:  #000000;\n",
       "        }#T_f4870_row3_col6{\n",
       "            background-color:  #42b6c4;\n",
       "            color:  #000000;\n",
       "        }#T_f4870_row4_col3,#T_f4870_row5_col3{\n",
       "            background-color:  #2b9fc2;\n",
       "            color:  #000000;\n",
       "        }#T_f4870_row4_col5,#T_f4870_row5_col4{\n",
       "            background-color:  #091e5a;\n",
       "            color:  #f1f1f1;\n",
       "        }#T_f4870_row4_col6{\n",
       "            background-color:  #192b7c;\n",
       "            color:  #f1f1f1;\n",
       "        }#T_f4870_row5_col6,#T_f4870_row6_col5{\n",
       "            background-color:  #152772;\n",
       "            color:  #f1f1f1;\n",
       "        }#T_f4870_row6_col2{\n",
       "            background-color:  #fcfed3;\n",
       "            color:  #000000;\n",
       "        }#T_f4870_row6_col3{\n",
       "            background-color:  #3cb1c3;\n",
       "            color:  #000000;\n",
       "        }#T_f4870_row6_col4{\n",
       "            background-color:  #182a7a;\n",
       "            color:  #f1f1f1;\n",
       "        }</style><table id=\"T_f4870_\" ><thead>    <tr>        <th class=\"blank level0\" ></th>        <th class=\"col_heading level0 col0\" >duration</th>        <th class=\"col_heading level0 col1\" >duration_hours</th>        <th class=\"col_heading level0 col2\" >passenger_count</th>        <th class=\"col_heading level0 col3\" >price</th>        <th class=\"col_heading level0 col4\" >distance</th>        <th class=\"col_heading level0 col5\" >manhattan_dist</th>        <th class=\"col_heading level0 col6\" >speed_kmph_m</th>    </tr></thead><tbody>\n",
       "                <tr>\n",
       "                        <th id=\"T_f4870_level0_row0\" class=\"row_heading level0 row0\" >duration</th>\n",
       "                        <td id=\"T_f4870_row0_col0\" class=\"data row0 col0\" >1.0</td>\n",
       "                        <td id=\"T_f4870_row0_col1\" class=\"data row0 col1\" >1.0</td>\n",
       "                        <td id=\"T_f4870_row0_col2\" class=\"data row0 col2\" >0.0066</td>\n",
       "                        <td id=\"T_f4870_row0_col3\" class=\"data row0 col3\" >0.83</td>\n",
       "                        <td id=\"T_f4870_row0_col4\" class=\"data row0 col4\" >0.033</td>\n",
       "                        <td id=\"T_f4870_row0_col5\" class=\"data row0 col5\" >0.033</td>\n",
       "                        <td id=\"T_f4870_row0_col6\" class=\"data row0 col6\" >-0.01</td>\n",
       "            </tr>\n",
       "            <tr>\n",
       "                        <th id=\"T_f4870_level0_row1\" class=\"row_heading level0 row1\" >duration_hours</th>\n",
       "                        <td id=\"T_f4870_row1_col0\" class=\"data row1 col0\" >1.0</td>\n",
       "                        <td id=\"T_f4870_row1_col1\" class=\"data row1 col1\" >1.0</td>\n",
       "                        <td id=\"T_f4870_row1_col2\" class=\"data row1 col2\" >0.0066</td>\n",
       "                        <td id=\"T_f4870_row1_col3\" class=\"data row1 col3\" >0.83</td>\n",
       "                        <td id=\"T_f4870_row1_col4\" class=\"data row1 col4\" >0.033</td>\n",
       "                        <td id=\"T_f4870_row1_col5\" class=\"data row1 col5\" >0.033</td>\n",
       "                        <td id=\"T_f4870_row1_col6\" class=\"data row1 col6\" >-0.01</td>\n",
       "            </tr>\n",
       "            <tr>\n",
       "                        <th id=\"T_f4870_level0_row2\" class=\"row_heading level0 row2\" >passenger_count</th>\n",
       "                        <td id=\"T_f4870_row2_col0\" class=\"data row2 col0\" >0.0066</td>\n",
       "                        <td id=\"T_f4870_row2_col1\" class=\"data row2 col1\" >0.0066</td>\n",
       "                        <td id=\"T_f4870_row2_col2\" class=\"data row2 col2\" >1.0</td>\n",
       "                        <td id=\"T_f4870_row2_col3\" class=\"data row2 col3\" >0.024</td>\n",
       "                        <td id=\"T_f4870_row2_col4\" class=\"data row2 col4\" >0.014</td>\n",
       "                        <td id=\"T_f4870_row2_col5\" class=\"data row2 col5\" >0.015</td>\n",
       "                        <td id=\"T_f4870_row2_col6\" class=\"data row2 col6\" >0.013</td>\n",
       "            </tr>\n",
       "            <tr>\n",
       "                        <th id=\"T_f4870_level0_row3\" class=\"row_heading level0 row3\" >price</th>\n",
       "                        <td id=\"T_f4870_row3_col0\" class=\"data row3 col0\" >0.83</td>\n",
       "                        <td id=\"T_f4870_row3_col1\" class=\"data row3 col1\" >0.83</td>\n",
       "                        <td id=\"T_f4870_row3_col2\" class=\"data row3 col2\" >0.024</td>\n",
       "                        <td id=\"T_f4870_row3_col3\" class=\"data row3 col3\" >1.0</td>\n",
       "                        <td id=\"T_f4870_row3_col4\" class=\"data row3 col4\" >0.58</td>\n",
       "                        <td id=\"T_f4870_row3_col5\" class=\"data row3 col5\" >0.58</td>\n",
       "                        <td id=\"T_f4870_row3_col6\" class=\"data row3 col6\" >0.51</td>\n",
       "            </tr>\n",
       "            <tr>\n",
       "                        <th id=\"T_f4870_level0_row4\" class=\"row_heading level0 row4\" >distance</th>\n",
       "                        <td id=\"T_f4870_row4_col0\" class=\"data row4 col0\" >0.033</td>\n",
       "                        <td id=\"T_f4870_row4_col1\" class=\"data row4 col1\" >0.033</td>\n",
       "                        <td id=\"T_f4870_row4_col2\" class=\"data row4 col2\" >0.014</td>\n",
       "                        <td id=\"T_f4870_row4_col3\" class=\"data row4 col3\" >0.58</td>\n",
       "                        <td id=\"T_f4870_row4_col4\" class=\"data row4 col4\" >1.0</td>\n",
       "                        <td id=\"T_f4870_row4_col5\" class=\"data row4 col5\" >0.99</td>\n",
       "                        <td id=\"T_f4870_row4_col6\" class=\"data row4 col6\" >0.93</td>\n",
       "            </tr>\n",
       "            <tr>\n",
       "                        <th id=\"T_f4870_level0_row5\" class=\"row_heading level0 row5\" >manhattan_dist</th>\n",
       "                        <td id=\"T_f4870_row5_col0\" class=\"data row5 col0\" >0.033</td>\n",
       "                        <td id=\"T_f4870_row5_col1\" class=\"data row5 col1\" >0.033</td>\n",
       "                        <td id=\"T_f4870_row5_col2\" class=\"data row5 col2\" >0.015</td>\n",
       "                        <td id=\"T_f4870_row5_col3\" class=\"data row5 col3\" >0.58</td>\n",
       "                        <td id=\"T_f4870_row5_col4\" class=\"data row5 col4\" >0.99</td>\n",
       "                        <td id=\"T_f4870_row5_col5\" class=\"data row5 col5\" >1.0</td>\n",
       "                        <td id=\"T_f4870_row5_col6\" class=\"data row5 col6\" >0.94</td>\n",
       "            </tr>\n",
       "            <tr>\n",
       "                        <th id=\"T_f4870_level0_row6\" class=\"row_heading level0 row6\" >speed_kmph_m</th>\n",
       "                        <td id=\"T_f4870_row6_col0\" class=\"data row6 col0\" >-0.01</td>\n",
       "                        <td id=\"T_f4870_row6_col1\" class=\"data row6 col1\" >-0.01</td>\n",
       "                        <td id=\"T_f4870_row6_col2\" class=\"data row6 col2\" >0.013</td>\n",
       "                        <td id=\"T_f4870_row6_col3\" class=\"data row6 col3\" >0.51</td>\n",
       "                        <td id=\"T_f4870_row6_col4\" class=\"data row6 col4\" >0.93</td>\n",
       "                        <td id=\"T_f4870_row6_col5\" class=\"data row6 col5\" >0.94</td>\n",
       "                        <td id=\"T_f4870_row6_col6\" class=\"data row6 col6\" >1.0</td>\n",
       "            </tr>\n",
       "    </tbody></table>"
      ],
      "text/plain": [
       "<pandas.io.formats.style.Styler at 0x7fdd75a65b50>"
      ]
     },
     "execution_count": 72,
     "metadata": {},
     "output_type": "execute_result"
    }
   ],
   "source": [
    "outp_df[['duration','duration_hours','passenger_count','price','distance','manhattan_dist','speed_kmph_m']].corr().style.format(\"{:.2}\").background_gradient(cmap=plt.get_cmap('YlGnBu'),axis=1)"
   ]
  },
  {
   "cell_type": "code",
   "execution_count": 73,
   "id": "1c77a524",
   "metadata": {},
   "outputs": [
    {
     "data": {
      "text/plain": [
       "<AxesSubplot:title={'center':'Trip Duration and Distance plot per pickup-dropoff pair'}, xlabel='manhattan_dist', ylabel='duration'>"
      ]
     },
     "execution_count": 73,
     "metadata": {},
     "output_type": "execute_result"
    },
    {
     "data": {
      "image/png": "[encoded data removed]",
      "text/plain": [
       "<Figure size 1440x720 with 1 Axes>"
      ]
     },
     "metadata": {},
     "output_type": "display_data"
    }
   ],
   "source": [
    "fig,ax = plt.subplots(1, figsize=(20,10))\n",
    "\n",
    "ax.set_xlabel('hour')\n",
    "ax.set_title('Trip Duration and Distance plot per pickup-dropoff pair')\n",
    "\n",
    "sns.regplot(x=\"manhattan_dist\", y=\"duration\", data=outp_df, ax=ax)"
   ]
  },
  {
   "cell_type": "code",
   "execution_count": 74,
   "id": "b82590e9",
   "metadata": {},
   "outputs": [],
   "source": [
    "inp_df_manhattan = inp_df.query('bcode == 36061')\n"
   ]
  },
  {
   "cell_type": "code",
   "execution_count": 75,
   "id": "25961533",
   "metadata": {},
   "outputs": [
    {
     "data": {
      "text/plain": [
       "zcta\n",
       "10001    52313\n",
       "10002    19528\n",
       "10003    54568\n",
       "10004     5777\n",
       "10005     4781\n",
       "         ...  \n",
       "10271       49\n",
       "10278      239\n",
       "10279      341\n",
       "10280     5601\n",
       "10282     4155\n",
       "Name: id, Length: 69, dtype: int64"
      ]
     },
     "execution_count": 75,
     "metadata": {},
     "output_type": "execute_result"
    }
   ],
   "source": [
    "inp_df_manhattan.groupby(['zcta'])['id'].count()"
   ]
  },
  {
   "cell_type": "code",
   "execution_count": null,
   "id": "f130f3fa",
   "metadata": {},
   "outputs": [],
   "source": []
  },
  {
   "cell_type": "markdown",
   "id": "de351868",
   "metadata": {},
   "source": [
    "-------------------"
   ]
  },
  {
   "cell_type": "code",
   "execution_count": null,
   "id": "a1de3691",
   "metadata": {},
   "outputs": [],
   "source": []
  }
 ],
 "metadata": {
  "kernelspec": {
   "display_name": "newenv",
   "language": "python",
   "name": "newenv"
  },
  "language_info": {
   "codemirror_mode": {
    "name": "ipython",
    "version": 3
   },
   "file_extension": ".py",
   "mimetype": "text/x-python",
   "name": "python",
   "nbconvert_exporter": "python",
   "pygments_lexer": "ipython3",
   "version": "3.7.7"
  }
 },
 "nbformat": 4,
 "nbformat_minor": 5
}
