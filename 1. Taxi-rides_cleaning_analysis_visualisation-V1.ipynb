{
 "cells": [
  {
   "cell_type": "markdown",
   "id": "938e4a1e",
   "metadata": {},
   "source": [
    "# Flyber - Midterm - Data Exploration"
   ]
  },
  {
   "cell_type": "code",
   "execution_count": 1,
   "id": "192c9b4e",
   "metadata": {},
   "outputs": [
    {
     "name": "stdout",
     "output_type": "stream",
     "text": [
      "3.7.7 (default, Mar 23 2020, 17:31:31) \n",
      "[Clang 4.0.1 (tags/RELEASE_401/final)]\n",
      "Numpy version: 1.19.2\n",
      "Pandas version: 1.2.4\n",
      "Matplotlib version: 3.3.4\n",
      "Seaborn version: 0.11.1\n"
     ]
    }
   ],
   "source": [
    "import sys\n",
    "print(sys.version)\n",
    "\n",
    "#array and vector processing \n",
    "import numpy as np\n",
    "print(f'Numpy version:', np.__version__)\n",
    "\n",
    "import pandas as pd\n",
    "print(f'Pandas version:', pd.__version__)\n",
    "\n",
    "# Visualisation\n",
    "import matplotlib as mpl\n",
    "import matplotlib.pyplot as plt\n",
    "print(f'Matplotlib version:', mpl.__version__)\n",
    "%matplotlib inline\n",
    "\n",
    "import seaborn as sns\n",
    "print(f'Seaborn version:', sns.__version__)\n",
    "\n",
    "#using the datetime object properties in pandas\n",
    "import datetime as dt\n",
    "from datetime import timedelta"
   ]
  },
  {
   "cell_type": "markdown",
   "id": "9fd3de99",
   "metadata": {},
   "source": [
    "# Data Preprocessing\n",
    "### Reading the data"
   ]
  },
  {
   "cell_type": "code",
   "execution_count": 2,
   "id": "4733d2e5",
   "metadata": {},
   "outputs": [],
   "source": [
    "# Loading the taxi_rides data into the pandas Dataframe\n",
    "df = pd.read_csv('../taxi-rides.csv')"
   ]
  },
  {
   "cell_type": "code",
   "execution_count": 3,
   "id": "7a16280a",
   "metadata": {},
   "outputs": [
    {
     "name": "stdout",
     "output_type": "stream",
     "text": [
      "Unnamed: 12\n",
      "Unnamed: 13\n",
      "Unnamed: 14\n",
      "distance\n",
      "dropoff_datetime\n",
      "dropoff_latitude\n",
      "dropoff_longitude\n",
      "duration\n",
      "id\n",
      "passenger_count\n",
      "pickup_datetime\n",
      "pickup_latitude\n",
      "pickup_longitude\n",
      "store_and_fwd_flag\n",
      "vendor_id\n"
     ]
    }
   ],
   "source": [
    "#listing the columns pertaining to the rides table:\n",
    "for col in sorted(df.columns):\n",
    "    print(col)"
   ]
  },
  {
   "cell_type": "markdown",
   "id": "540298bc",
   "metadata": {},
   "source": [
    "### Removing the empty columns"
   ]
  },
  {
   "cell_type": "code",
   "execution_count": 4,
   "id": "f11a2e12",
   "metadata": {},
   "outputs": [],
   "source": [
    "df = df.drop(columns=[col for col in df.columns if 'Unnamed' in col])"
   ]
  },
  {
   "cell_type": "code",
   "execution_count": 5,
   "id": "a353ade3",
   "metadata": {},
   "outputs": [
    {
     "name": "stdout",
     "output_type": "stream",
     "text": [
      "<class 'pandas.core.frame.DataFrame'>\n",
      "RangeIndex: 1048468 entries, 0 to 1048467\n",
      "Data columns (total 12 columns):\n",
      " #   Column              Non-Null Count    Dtype  \n",
      "---  ------              --------------    -----  \n",
      " 0   id                  1048468 non-null  object \n",
      " 1   vendor_id           1048468 non-null  int64  \n",
      " 2   pickup_datetime     1048468 non-null  object \n",
      " 3   dropoff_datetime    1048468 non-null  object \n",
      " 4   passenger_count     1048468 non-null  int64  \n",
      " 5   pickup_longitude    1048468 non-null  float64\n",
      " 6   pickup_latitude     1048468 non-null  float64\n",
      " 7   dropoff_longitude   1048468 non-null  float64\n",
      " 8   dropoff_latitude    1048468 non-null  float64\n",
      " 9   store_and_fwd_flag  1048468 non-null  object \n",
      " 10  duration            1048468 non-null  int64  \n",
      " 11  distance            1048468 non-null  float64\n",
      "dtypes: float64(5), int64(3), object(4)\n",
      "memory usage: 96.0+ MB\n"
     ]
    }
   ],
   "source": [
    "df.info() # 1.05 Million observations."
   ]
  },
  {
   "cell_type": "markdown",
   "id": "9e7e087c",
   "metadata": {},
   "source": [
    "### Converting columns to the right datatypes"
   ]
  },
  {
   "cell_type": "code",
   "execution_count": 6,
   "id": "0fcb8ee6",
   "metadata": {},
   "outputs": [],
   "source": [
    "# Converting the data type for `pickup and dropoff` columns to datetimeIndex\n",
    "\n",
    "df['pickup_datetime']= pd.to_datetime(df['pickup_datetime'])\n",
    "df['dropoff_datetime']= pd.to_datetime(df['dropoff_datetime'])\n",
    "\n",
    "#converting vendor_id to type category\n",
    "df['vendor_id'] = df['vendor_id'].astype('category') \n",
    "\n",
    "#converting object to boolean for the 'store_and_fwd_flag'\n",
    "df['store_and_fwd_flag'] = df['store_and_fwd_flag'].map({'N': False, 'Y': True})"
   ]
  },
  {
   "cell_type": "code",
   "execution_count": 7,
   "id": "b25155b3",
   "metadata": {},
   "outputs": [
    {
     "data": {
      "text/plain": [
       "id                            object\n",
       "vendor_id                   category\n",
       "pickup_datetime       datetime64[ns]\n",
       "dropoff_datetime      datetime64[ns]\n",
       "passenger_count                int64\n",
       "pickup_longitude             float64\n",
       "pickup_latitude              float64\n",
       "dropoff_longitude            float64\n",
       "dropoff_latitude             float64\n",
       "store_and_fwd_flag              bool\n",
       "duration                       int64\n",
       "distance                     float64\n",
       "dtype: object"
      ]
     },
     "execution_count": 7,
     "metadata": {},
     "output_type": "execute_result"
    }
   ],
   "source": [
    "#verifying the datatypes for each column\n",
    "df.dtypes"
   ]
  },
  {
   "cell_type": "markdown",
   "id": "a2b86cc5",
   "metadata": {},
   "source": [
    "### Checking for missing values"
   ]
  },
  {
   "cell_type": "code",
   "execution_count": 8,
   "id": "296f78ed",
   "metadata": {},
   "outputs": [
    {
     "data": {
      "text/plain": [
       "id                    0\n",
       "vendor_id             0\n",
       "pickup_datetime       0\n",
       "dropoff_datetime      0\n",
       "passenger_count       0\n",
       "pickup_longitude      0\n",
       "pickup_latitude       0\n",
       "dropoff_longitude     0\n",
       "dropoff_latitude      0\n",
       "store_and_fwd_flag    0\n",
       "duration              0\n",
       "distance              0\n",
       "dtype: int64"
      ]
     },
     "execution_count": 8,
     "metadata": {},
     "output_type": "execute_result"
    }
   ],
   "source": [
    "df.isnull().sum()"
   ]
  },
  {
   "cell_type": "code",
   "execution_count": 9,
   "id": "a8ed41b0",
   "metadata": {},
   "outputs": [
    {
     "data": {
      "text/html": [
       "<div>\n",
       "<style scoped>\n",
       "    .dataframe tbody tr th:only-of-type {\n",
       "        vertical-align: middle;\n",
       "    }\n",
       "\n",
       "    .dataframe tbody tr th {\n",
       "        vertical-align: top;\n",
       "    }\n",
       "\n",
       "    .dataframe thead th {\n",
       "        text-align: right;\n",
       "    }\n",
       "</style>\n",
       "<table border=\"1\" class=\"dataframe\">\n",
       "  <thead>\n",
       "    <tr style=\"text-align: right;\">\n",
       "      <th></th>\n",
       "      <th>id</th>\n",
       "      <th>vendor_id</th>\n",
       "      <th>pickup_datetime</th>\n",
       "      <th>dropoff_datetime</th>\n",
       "      <th>passenger_count</th>\n",
       "      <th>pickup_longitude</th>\n",
       "      <th>pickup_latitude</th>\n",
       "      <th>dropoff_longitude</th>\n",
       "      <th>dropoff_latitude</th>\n",
       "      <th>store_and_fwd_flag</th>\n",
       "      <th>duration</th>\n",
       "      <th>distance</th>\n",
       "    </tr>\n",
       "  </thead>\n",
       "  <tbody>\n",
       "    <tr>\n",
       "      <th>0</th>\n",
       "      <td>id3487442</td>\n",
       "      <td>2</td>\n",
       "      <td>2016-02-29 18:39:00</td>\n",
       "      <td>2016-02-29 18:42:00</td>\n",
       "      <td>1</td>\n",
       "      <td>-73.981819</td>\n",
       "      <td>40.768963</td>\n",
       "      <td>-73.981819</td>\n",
       "      <td>40.768963</td>\n",
       "      <td>False</td>\n",
       "      <td>227</td>\n",
       "      <td>0.0</td>\n",
       "    </tr>\n",
       "    <tr>\n",
       "      <th>1</th>\n",
       "      <td>id1145809</td>\n",
       "      <td>2</td>\n",
       "      <td>2016-05-16 23:15:00</td>\n",
       "      <td>2016-05-16 23:31:00</td>\n",
       "      <td>6</td>\n",
       "      <td>-73.808487</td>\n",
       "      <td>40.687336</td>\n",
       "      <td>-73.808487</td>\n",
       "      <td>40.687336</td>\n",
       "      <td>False</td>\n",
       "      <td>947</td>\n",
       "      <td>0.0</td>\n",
       "    </tr>\n",
       "    <tr>\n",
       "      <th>2</th>\n",
       "      <td>id3499387</td>\n",
       "      <td>1</td>\n",
       "      <td>2016-01-25 19:45:00</td>\n",
       "      <td>2016-01-25 19:54:00</td>\n",
       "      <td>1</td>\n",
       "      <td>-73.786720</td>\n",
       "      <td>40.647041</td>\n",
       "      <td>-73.786720</td>\n",
       "      <td>40.647041</td>\n",
       "      <td>False</td>\n",
       "      <td>580</td>\n",
       "      <td>0.0</td>\n",
       "    </tr>\n",
       "    <tr>\n",
       "      <th>3</th>\n",
       "      <td>id0753277</td>\n",
       "      <td>1</td>\n",
       "      <td>2016-01-27 22:29:00</td>\n",
       "      <td>2016-01-27 22:29:00</td>\n",
       "      <td>1</td>\n",
       "      <td>-74.209854</td>\n",
       "      <td>40.816853</td>\n",
       "      <td>-74.209854</td>\n",
       "      <td>40.816853</td>\n",
       "      <td>False</td>\n",
       "      <td>27</td>\n",
       "      <td>0.0</td>\n",
       "    </tr>\n",
       "    <tr>\n",
       "      <th>4</th>\n",
       "      <td>id2134482</td>\n",
       "      <td>1</td>\n",
       "      <td>2016-01-22 16:13:00</td>\n",
       "      <td>2016-01-22 16:13:00</td>\n",
       "      <td>1</td>\n",
       "      <td>-73.776314</td>\n",
       "      <td>40.645454</td>\n",
       "      <td>-73.776314</td>\n",
       "      <td>40.645454</td>\n",
       "      <td>False</td>\n",
       "      <td>19</td>\n",
       "      <td>0.0</td>\n",
       "    </tr>\n",
       "  </tbody>\n",
       "</table>\n",
       "</div>"
      ],
      "text/plain": [
       "          id vendor_id     pickup_datetime    dropoff_datetime  \\\n",
       "0  id3487442         2 2016-02-29 18:39:00 2016-02-29 18:42:00   \n",
       "1  id1145809         2 2016-05-16 23:15:00 2016-05-16 23:31:00   \n",
       "2  id3499387         1 2016-01-25 19:45:00 2016-01-25 19:54:00   \n",
       "3  id0753277         1 2016-01-27 22:29:00 2016-01-27 22:29:00   \n",
       "4  id2134482         1 2016-01-22 16:13:00 2016-01-22 16:13:00   \n",
       "\n",
       "   passenger_count  pickup_longitude  pickup_latitude  dropoff_longitude  \\\n",
       "0                1        -73.981819        40.768963         -73.981819   \n",
       "1                6        -73.808487        40.687336         -73.808487   \n",
       "2                1        -73.786720        40.647041         -73.786720   \n",
       "3                1        -74.209854        40.816853         -74.209854   \n",
       "4                1        -73.776314        40.645454         -73.776314   \n",
       "\n",
       "   dropoff_latitude  store_and_fwd_flag  duration  distance  \n",
       "0         40.768963               False       227       0.0  \n",
       "1         40.687336               False       947       0.0  \n",
       "2         40.647041               False       580       0.0  \n",
       "3         40.816853               False        27       0.0  \n",
       "4         40.645454               False        19       0.0  "
      ]
     },
     "execution_count": 9,
     "metadata": {},
     "output_type": "execute_result"
    }
   ],
   "source": [
    "df.head()"
   ]
  },
  {
   "cell_type": "markdown",
   "id": "6784f8a5",
   "metadata": {},
   "source": [
    "### Saving the dataset"
   ]
  },
  {
   "cell_type": "code",
   "execution_count": 10,
   "id": "744c3061",
   "metadata": {},
   "outputs": [],
   "source": [
    "### Saving the dataframe \n",
    "\n",
    "df.to_csv('./data/1_preprocessed_set.csv')"
   ]
  },
  {
   "cell_type": "markdown",
   "id": "6fff9ace",
   "metadata": {},
   "source": [
    "# Exploring the Data "
   ]
  },
  {
   "cell_type": "markdown",
   "id": "4da186d2",
   "metadata": {},
   "source": [
    "##  High-level understanding of the granularity and scope of the dataset.\n",
    "\n",
    "### Q1. How many records are in the dataset?\n"
   ]
  },
  {
   "cell_type": "code",
   "execution_count": 11,
   "id": "054c7046",
   "metadata": {},
   "outputs": [
    {
     "data": {
      "text/plain": [
       "(1048468, 12)"
      ]
     },
     "execution_count": 11,
     "metadata": {},
     "output_type": "execute_result"
    }
   ],
   "source": [
    "df.shape"
   ]
  },
  {
   "cell_type": "markdown",
   "id": "79816d25",
   "metadata": {},
   "source": [
    "### Q2. What does each record represent?\n",
    "\n",
    "1. `id` = Trip ID allocated to each complete taxi ride\n",
    "    \n",
    "2. `vendor_id` = This field corresponds to two categories of taxi services in NYC. Yello taxi and Private taxi or FHV.\n",
    "    \n",
    "3. `pickup_datetime` = This is the timestamp of the pickup time for the associated trip id.\n",
    "    \n",
    "4. `dropoff_datetime` = This is the timestamp of the dropoff time for the associated trip id.\n",
    "\n",
    "5. `passenger_count` = This corresponds to the number of passengers taking the taxiride for correponding trip id.\n",
    "\n",
    "6. `pickup_latitude` = This is the GPS coordinates in DMS(Degrees, Minutes and Seconds unit system) corresponding to the pickup_latitude.\n",
    "\n",
    "7. `pickup_longitude` = This is the GPS coordinates in DMS(Degrees, Minutes and Seconds unit system) corresponding to the pickup_longitude.\n",
    "\n",
    "8. `dropoff_latitude` = This is the GPS coordinates in DMS(Degrees, Minutes and Seconds unit system) corresponding to the dropoff_latitude.\n",
    "\n",
    "9. `dropoff_longitude` = This is the GPS coordinates in DMS(Degrees, Minutes and Seconds unit system) corresponding to the dropoff_longitude.\n",
    "\n",
    "10. `store_and_fwd_flag` = \n",
    "\n",
    "11. `duration` = This column presents the duration of each trip in seconds.\n",
    "\n",
    "12. `distance` = This column presents the distance in km travelled on each of the trips. The unit of this dimension is confirmed by verifying with computed 'great circle' and manhattan distance' to confirm the units of measure.\n"
   ]
  },
  {
   "cell_type": "markdown",
   "id": "3a466d1d",
   "metadata": {},
   "source": [
    "### 3. What is the primary key?\n",
    "\n",
    "The `id` column is the primary key for this dataframe. Let's verify"
   ]
  },
  {
   "cell_type": "code",
   "execution_count": 12,
   "id": "72cd3668",
   "metadata": {},
   "outputs": [
    {
     "name": "stdout",
     "output_type": "stream",
     "text": [
      "<class 'pandas.core.frame.DataFrame'>\n",
      "RangeIndex: 1048468 entries, 0 to 1048467\n",
      "Data columns (total 12 columns):\n",
      " #   Column              Non-Null Count    Dtype         \n",
      "---  ------              --------------    -----         \n",
      " 0   id                  1048468 non-null  object        \n",
      " 1   vendor_id           1048468 non-null  category      \n",
      " 2   pickup_datetime     1048468 non-null  datetime64[ns]\n",
      " 3   dropoff_datetime    1048468 non-null  datetime64[ns]\n",
      " 4   passenger_count     1048468 non-null  int64         \n",
      " 5   pickup_longitude    1048468 non-null  float64       \n",
      " 6   pickup_latitude     1048468 non-null  float64       \n",
      " 7   dropoff_longitude   1048468 non-null  float64       \n",
      " 8   dropoff_latitude    1048468 non-null  float64       \n",
      " 9   store_and_fwd_flag  1048468 non-null  bool          \n",
      " 10  duration            1048468 non-null  int64         \n",
      " 11  distance            1048468 non-null  float64       \n",
      "dtypes: bool(1), category(1), datetime64[ns](2), float64(5), int64(2), object(1)\n",
      "memory usage: 82.0+ MB\n"
     ]
    }
   ],
   "source": [
    "df.info() # the count of observations correspond to 1048468."
   ]
  },
  {
   "cell_type": "code",
   "execution_count": 13,
   "id": "51b1e8ca",
   "metadata": {},
   "outputs": [
    {
     "data": {
      "text/plain": [
       "id                    1048468\n",
       "vendor_id                   2\n",
       "pickup_datetime        237124\n",
       "dropoff_datetime       237437\n",
       "passenger_count            10\n",
       "pickup_longitude        21368\n",
       "pickup_latitude         42575\n",
       "dropoff_longitude       30913\n",
       "dropoff_latitude        58283\n",
       "store_and_fwd_flag          2\n",
       "duration                 6883\n",
       "distance              1042359\n",
       "dtype: int64"
      ]
     },
     "execution_count": 13,
     "metadata": {},
     "output_type": "execute_result"
    }
   ],
   "source": [
    "df.nunique() # the unique count of id's is 1048468 and is the primary key for our dataset"
   ]
  },
  {
   "cell_type": "markdown",
   "id": "7ac5d596",
   "metadata": {},
   "source": [
    "### 4. What date range is your dataset bound to?"
   ]
  },
  {
   "cell_type": "code",
   "execution_count": 14,
   "id": "eb47ff29",
   "metadata": {},
   "outputs": [
    {
     "name": "stdout",
     "output_type": "stream",
     "text": [
      "2016-01-01 00:00:00 , 2016-07-01 23:02:00 , 182 days 23:02:00\n"
     ]
    }
   ],
   "source": [
    "start = df.pickup_datetime.min()\n",
    "end = df.dropoff_datetime.max()\n",
    "print(start,\",\", end,\",\", end-start)"
   ]
  },
  {
   "cell_type": "markdown",
   "id": "2bf128a3",
   "metadata": {},
   "source": [
    "The range of observations start at 1st January 2016 to midnight of 1st July 2016\n",
    "The total time window constitutes 182 days and 23 hours and 2 minutes."
   ]
  },
  {
   "cell_type": "markdown",
   "id": "541e1f57",
   "metadata": {},
   "source": [
    "### 5. What are the geographical bounds of this dataset? Is it limited to Manhattan, or is Brooklyn, Queens, Staten Island, the Bronx, and New Jersey included? Where are most of the data points centralized at? Are there outliers?"
   ]
  },
  {
   "cell_type": "markdown",
   "id": "9e576464",
   "metadata": {},
   "source": [
    "This details of this question are in the Map Analysis notebook."
   ]
  },
  {
   "cell_type": "markdown",
   "id": "379826f2",
   "metadata": {},
   "source": [
    "--------------------"
   ]
  },
  {
   "cell_type": "markdown",
   "id": "a5a492c6",
   "metadata": {},
   "source": [
    "# Dealing with Outliers "
   ]
  },
  {
   "cell_type": "markdown",
   "id": "d412c1e5",
   "metadata": {},
   "source": [
    "\n",
    "For getting hang of the data distributions -\n",
    "\n",
    "1. Plot visuals for the outliers existing in two key features. \n",
    "    a. duration\n",
    "    b. distance\n",
    "\n",
    "2. Either perform a algorithmic method of removing outliers or imputing the outliers with a certain value.\n",
    "\n"
   ]
  },
  {
   "cell_type": "code",
   "execution_count": 15,
   "id": "7e7cf929",
   "metadata": {},
   "outputs": [
    {
     "data": {
      "text/plain": [
       "{'whiskers': [<matplotlib.lines.Line2D at 0x7fc19509a950>,\n",
       "  <matplotlib.lines.Line2D at 0x7fc19509a350>],\n",
       " 'caps': [<matplotlib.lines.Line2D at 0x7fc19592edd0>,\n",
       "  <matplotlib.lines.Line2D at 0x7fc19592e990>],\n",
       " 'boxes': [<matplotlib.lines.Line2D at 0x7fc19509af50>],\n",
       " 'medians': [<matplotlib.lines.Line2D at 0x7fc19592e510>],\n",
       " 'fliers': [<matplotlib.lines.Line2D at 0x7fc19592e0d0>],\n",
       " 'means': []}"
      ]
     },
     "execution_count": 15,
     "metadata": {},
     "output_type": "execute_result"
    },
    {
     "data": {
      "image/png": "[encoded data removed]",
      "text/plain": [
       "<Figure size 1008x432 with 2 Axes>"
      ]
     },
     "metadata": {
      "needs_background": "light"
     },
     "output_type": "display_data"
    }
   ],
   "source": [
    "fig = plt.figure(figsize=(14,6), linewidth=2)\n",
    "\n",
    "ax1=fig.add_subplot(121)\n",
    "ax2=fig.add_subplot(122)\n",
    "\n",
    "ax1.boxplot(df['duration'])\n",
    "ax2.boxplot(df['distance'])\n"
   ]
  },
  {
   "cell_type": "code",
   "execution_count": 16,
   "id": "07a425fc",
   "metadata": {},
   "outputs": [
    {
     "name": "stdout",
     "output_type": "stream",
     "text": [
      "Duration skewness:\n",
      "340.46235747285215\n",
      " \n",
      "Distance skewness:\n",
      "39.62091024380734\n"
     ]
    }
   ],
   "source": [
    "print('Duration skewness:')\n",
    "print(df['duration'].skew())\n",
    "print(' ')\n",
    "print('Distance skewness:')\n",
    "print(df['distance'].skew())"
   ]
  },
  {
   "cell_type": "markdown",
   "id": "a22bc78d",
   "metadata": {},
   "source": [
    "Here we note that the skew values tell us that: Each of the features of `Distance` and `Duration` are highly skewed and each have a long right tailed distribution. "
   ]
  },
  {
   "cell_type": "markdown",
   "id": "b244af80",
   "metadata": {},
   "source": [
    "## Removing outliers from `Duration` column "
   ]
  },
  {
   "cell_type": "markdown",
   "id": "3ce632f5",
   "metadata": {},
   "source": [
    "Let us first work on the duration column. \n",
    "We will remove all rows that have `duration` < 60 seconds and `duration` >86300 seconds to include rides that fall within 1day time window.\n"
   ]
  },
  {
   "cell_type": "code",
   "execution_count": 17,
   "id": "72067059",
   "metadata": {},
   "outputs": [
    {
     "name": "stdout",
     "output_type": "stream",
     "text": [
      "51.0\n",
      "5552.065999999992\n"
     ]
    }
   ],
   "source": [
    "print(df['duration'].quantile(0.005))\n",
    "print(df['duration'].quantile(0.998))\n"
   ]
  },
  {
   "cell_type": "code",
   "execution_count": 18,
   "id": "8f968bde",
   "metadata": {},
   "outputs": [
    {
     "name": "stdout",
     "output_type": "stream",
     "text": [
      "40.31850480037796\n"
     ]
    },
    {
     "data": {
      "text/plain": [
       "0            (87.999, 404.0]\n",
       "1            (668.0, 1079.0]\n",
       "2             (404.0, 668.0]\n",
       "5            (87.999, 404.0]\n",
       "6            (87.999, 404.0]\n",
       "                 ...        \n",
       "1048463    (1079.0, 85186.0]\n",
       "1048464    (1079.0, 85186.0]\n",
       "1048465      (87.999, 404.0]\n",
       "1048466       (404.0, 668.0]\n",
       "1048467      (668.0, 1079.0]\n",
       "Name: duration, Length: 1036817, dtype: category\n",
       "Categories (4, interval[float64]): [(87.999, 404.0] < (404.0, 668.0] < (668.0, 1079.0] < (1079.0, 85186.0]]"
      ]
     },
     "execution_count": 18,
     "metadata": {},
     "output_type": "execute_result"
    }
   ],
   "source": [
    "#creating the required criterion for above outlier removal and passing it to the df and getting the resulting shape and info.\n",
    "# proceeding with copying the resulting dataframe into df.\n",
    "\n",
    "c1 = (df['duration'] < 85188 ) & (df['duration'] > 87)\n",
    "df = df.loc[c1]\n",
    "print(df['duration'].skew())\n",
    "pd.qcut(df['duration'],4)\n"
   ]
  },
  {
   "cell_type": "code",
   "execution_count": 19,
   "id": "47c28198",
   "metadata": {},
   "outputs": [],
   "source": [
    "# going with removing the outliers. - below can be used for other kind of computations to replace values.\n",
    "# df[\"duration\"] = np.where(df[\"duration\"] <110.0, 110.0,df['duration'])\n",
    "# df[\"duration\"] = np.where(df[\"duration\"] >3443.0, 3443.0,df['duration'])\n",
    "# print(df['duration'].skew())"
   ]
  },
  {
   "cell_type": "code",
   "execution_count": 20,
   "id": "125cbe2d",
   "metadata": {},
   "outputs": [
    {
     "name": "stdout",
     "output_type": "stream",
     "text": [
      "<class 'pandas.core.frame.DataFrame'>\n",
      "Int64Index: 1036817 entries, 0 to 1048467\n",
      "Data columns (total 12 columns):\n",
      " #   Column              Non-Null Count    Dtype         \n",
      "---  ------              --------------    -----         \n",
      " 0   id                  1036817 non-null  object        \n",
      " 1   vendor_id           1036817 non-null  category      \n",
      " 2   pickup_datetime     1036817 non-null  datetime64[ns]\n",
      " 3   dropoff_datetime    1036817 non-null  datetime64[ns]\n",
      " 4   passenger_count     1036817 non-null  int64         \n",
      " 5   pickup_longitude    1036817 non-null  float64       \n",
      " 6   pickup_latitude     1036817 non-null  float64       \n",
      " 7   dropoff_longitude   1036817 non-null  float64       \n",
      " 8   dropoff_latitude    1036817 non-null  float64       \n",
      " 9   store_and_fwd_flag  1036817 non-null  bool          \n",
      " 10  duration            1036817 non-null  int64         \n",
      " 11  distance            1036817 non-null  float64       \n",
      "dtypes: bool(1), category(1), datetime64[ns](2), float64(5), int64(2), object(1)\n",
      "memory usage: 89.0+ MB\n",
      "None\n"
     ]
    },
    {
     "data": {
      "text/plain": [
       "count   1036817.000\n",
       "mean        876.448\n",
       "std        1702.909\n",
       "min          88.000\n",
       "25%         404.000\n",
       "50%         668.000\n",
       "75%        1079.000\n",
       "max       85186.000\n",
       "Name: duration, dtype: float64"
      ]
     },
     "execution_count": 20,
     "metadata": {},
     "output_type": "execute_result"
    }
   ],
   "source": [
    "pd.options.display.float_format = '{:.3f}'.format\n",
    "print(df.info())\n",
    "(df['duration']).describe()"
   ]
  },
  {
   "cell_type": "markdown",
   "id": "977709f8",
   "metadata": {},
   "source": [
    "1st std deviation is 3185 seconds and \n",
    "2nd std deviation is 6370 seconds\n"
   ]
  },
  {
   "cell_type": "markdown",
   "id": "a1ac4956",
   "metadata": {},
   "source": [
    "## Removing outliers from `Distance` column"
   ]
  },
  {
   "cell_type": "markdown",
   "id": "077dcd2b",
   "metadata": {},
   "source": [
    "### Computing Manhattan distance. \n",
    "\n",
    "After much research and even working on computing distance from the geodesic-circle functions available on geopandas library. I figured to make use of the Manhattan distance to perform the computation. I used this open-source-code available at this location to compute the 'manhattan' distance as the computation procedure aptly applies to manhattan location area owing to the perpendicular street ways. \n",
    "\n",
    "Ref: https://medium.com/@simplyjk/why-manhattan-distance-formula-doesnt-apply-to-manhattan-7db0ebb1c5f6"
   ]
  },
  {
   "cell_type": "code",
   "execution_count": 21,
   "id": "949c9896",
   "metadata": {},
   "outputs": [],
   "source": [
    "def haversine(lat1, lon1, lat2, lon2):     \n",
    "    # R = 3958.76 # Earth radius in miles    \n",
    "    R = 6371 # Earth radisu in KM\n",
    "    dLat, dLon, lat1, lat2 = np.radians(lat2 - lat1), np.radians(lon2 - lon1), np.radians(lat1), np.radians(lat2)     \n",
    "    \n",
    "    a =  np.sin(dLat/2) ** 2 + np.cos(lat1) * np.cos(lat2) * np.sin(dLon/2) ** 2     \n",
    "\n",
    "    c = 2 * np.arcsin(np.sqrt(a))          \n",
    "    \n",
    "    return R * c\n",
    "  \n",
    "def manhattan_dist(lat1, lon1, lat2, lon2):\n",
    "    \n",
    "    # Pickup coordinates\n",
    "    p = np.stack([lat1, lon1], axis = 1)\n",
    "    \n",
    "    # Dropoff coordinates\n",
    "    d = np.stack([lat2, lon2], axis = 1)\n",
    "    \n",
    "    theta1 = np.radians(-28.904)\n",
    "    theta2 = np.radians(28.904)\n",
    "    \n",
    "    ## Rotation matrix\n",
    "    R1 = np.array([[np.cos(theta1), np.sin(theta1)], \n",
    "                   [-np.sin(theta1), np.cos(theta1)]]\n",
    "                 )\n",
    "    R2 = np.array([[np.cos(theta2), np.sin(theta2)], \n",
    "                   [-np.sin(theta2), np.cos(theta2)]]\n",
    "                 )\n",
    "    \n",
    "    # Rotate Pickup and Dropoff coordinates by -29 degress in World2\n",
    "    pT = R1 @ p.T  \n",
    "    dT = R1 @ d.T  \n",
    "    \n",
    "    # Coordinates of Hinge point in the rotated world \n",
    "    vT = np.stack((pT[0,:], dT[1,:]))\n",
    "    # Coordinates of Hinge point in the real world \n",
    "    v = R2 @ vT\n",
    "\n",
    "    \n",
    "    return (haversine(p.T[0], p.T[1], v[0], v[1]) + \n",
    "            haversine(v[0], v[1], d.T[0], d.T[1])\n",
    "           )\n",
    "  "
   ]
  },
  {
   "cell_type": "code",
   "execution_count": 22,
   "id": "f166a066",
   "metadata": {},
   "outputs": [],
   "source": [
    "#passing the parameters to the manhattan_dist function defined in the above cell\n",
    "\n",
    "df[\"manhattan_dist\"] = manhattan_dist(df[\"pickup_latitude\"], df[\"pickup_longitude\"], df[\"dropoff_latitude\"], df[\"dropoff_longitude\"] )\n",
    "\n"
   ]
  },
  {
   "cell_type": "code",
   "execution_count": 23,
   "id": "f414a861-9cc0-4c5e-a5fb-7993365ff188",
   "metadata": {},
   "outputs": [],
   "source": [
    "c2 = (df['manhattan_dist'] >0.010 ) & (df['manhattan_dist'] < 1000)\n",
    "df1 = df.loc[c2]\n",
    "df = df1"
   ]
  },
  {
   "cell_type": "code",
   "execution_count": 24,
   "id": "f783b98f",
   "metadata": {},
   "outputs": [
    {
     "data": {
      "text/html": [
       "<div>\n",
       "<style scoped>\n",
       "    .dataframe tbody tr th:only-of-type {\n",
       "        vertical-align: middle;\n",
       "    }\n",
       "\n",
       "    .dataframe tbody tr th {\n",
       "        vertical-align: top;\n",
       "    }\n",
       "\n",
       "    .dataframe thead th {\n",
       "        text-align: right;\n",
       "    }\n",
       "</style>\n",
       "<table border=\"1\" class=\"dataframe\">\n",
       "  <thead>\n",
       "    <tr style=\"text-align: right;\">\n",
       "      <th></th>\n",
       "      <th>manhattan_dist</th>\n",
       "      <th>distance</th>\n",
       "    </tr>\n",
       "  </thead>\n",
       "  <tbody>\n",
       "    <tr>\n",
       "      <th>count</th>\n",
       "      <td>1033660.000</td>\n",
       "      <td>1033660.000</td>\n",
       "    </tr>\n",
       "    <tr>\n",
       "      <th>mean</th>\n",
       "      <td>4.531</td>\n",
       "      <td>3.483</td>\n",
       "    </tr>\n",
       "    <tr>\n",
       "      <th>std</th>\n",
       "      <td>5.818</td>\n",
       "      <td>4.132</td>\n",
       "    </tr>\n",
       "    <tr>\n",
       "      <th>min</th>\n",
       "      <td>0.010</td>\n",
       "      <td>0.007</td>\n",
       "    </tr>\n",
       "    <tr>\n",
       "      <th>25%</th>\n",
       "      <td>1.594</td>\n",
       "      <td>1.261</td>\n",
       "    </tr>\n",
       "    <tr>\n",
       "      <th>50%</th>\n",
       "      <td>2.661</td>\n",
       "      <td>2.123</td>\n",
       "    </tr>\n",
       "    <tr>\n",
       "      <th>75%</th>\n",
       "      <td>4.823</td>\n",
       "      <td>3.919</td>\n",
       "    </tr>\n",
       "    <tr>\n",
       "      <th>max</th>\n",
       "      <td>872.887</td>\n",
       "      <td>578.843</td>\n",
       "    </tr>\n",
       "  </tbody>\n",
       "</table>\n",
       "</div>"
      ],
      "text/plain": [
       "       manhattan_dist    distance\n",
       "count     1033660.000 1033660.000\n",
       "mean            4.531       3.483\n",
       "std             5.818       4.132\n",
       "min             0.010       0.007\n",
       "25%             1.594       1.261\n",
       "50%             2.661       2.123\n",
       "75%             4.823       3.919\n",
       "max           872.887     578.843"
      ]
     },
     "execution_count": 24,
     "metadata": {},
     "output_type": "execute_result"
    }
   ],
   "source": [
    "df[[\"manhattan_dist\", \"distance\"]].describe()"
   ]
  },
  {
   "cell_type": "markdown",
   "id": "457fd525",
   "metadata": {},
   "source": [
    "1st std deviation is 5.81 Km and and the 2nd std deviation is 11.62 Km\n",
    "\n",
    "(To revert back the display use # pd.reset_option('^display.', silent=True) ) \n"
   ]
  },
  {
   "cell_type": "markdown",
   "id": "8d591703",
   "metadata": {},
   "source": [
    "**Note:**\n",
    "\n",
    "The computed distance based on all reasoning above, has been able to reduce the 'errors' in analysis and reporting and a **75% reduction** in zeros. This output is helps us deal with the outliers in `manhattan_distance` with much less overall deviation.\n"
   ]
  },
  {
   "cell_type": "markdown",
   "id": "0210406d",
   "metadata": {},
   "source": [
    "## Deriving additional columns - `dur_to_dist`"
   ]
  },
  {
   "cell_type": "code",
   "execution_count": 25,
   "id": "972dc51d",
   "metadata": {},
   "outputs": [],
   "source": [
    "#converting duration to hours \n",
    "\n",
    "df = df.copy()\n",
    "\n",
    "df['duration_hours'] = (df.loc[:,['duration']])/3600\n",
    "df['duration_min'] = (df.loc[:,['duration']])/60\n",
    "\n",
    "# computing additional duration to distance column \n",
    "\n",
    "df['dur_to_dist_m_hpkm'] = df.loc[:,'duration_hours']/df['manhattan_dist']\n",
    "df['dur_to_dist_m_spkm'] = df.loc[:,'duration']/df['manhattan_dist']\n",
    "\n",
    "# computing additional distance to duration column \n",
    "\n",
    "df['speed_kmph_m'] = df['manhattan_dist'] /df['duration_hours']"
   ]
  },
  {
   "cell_type": "markdown",
   "id": "8144de09",
   "metadata": {},
   "source": [
    "## Deriving Additional columns - `price`"
   ]
  },
  {
   "cell_type": "markdown",
   "id": "6ce3687c",
   "metadata": {},
   "source": [
    "As the taxt ride price is a 'derived column' I am using the inputs available on the NYC webpage to arrive at the price for each of the 1m+ rides present in the dataset. Firstly, planning out the conditional criterion that help derive the price function are presented and grouped below.\n",
    "\n",
    "\n",
    "### Fare formula calculation is derived from here: \n",
    "\n",
    "https://www.numbeo.com/taxi-fare/in/New-York\n",
    "https://www.estimate.taxi/rates/united-states/new-york and review notes\n",
    "\n",
    "`Price` is computed as below:\n",
    "\n",
    "C1. Base price is **$3.50** \n",
    "\n",
    "    Additional price for every **1km** is **$1.56**\n",
    "\n",
    "\n",
    "C2. Waiting time is **$30.00/hour**\n",
    "\n",
    "\n",
    "C3. Additional Peak rate for (**16:00 - 19:59** on Monday, Tuesday, Wednesday, Thursday, Friday only) of **$1.00**\n",
    "\n",
    "\n",
    "       Additional night fee of **$0.50**\n",
    "\n",
    "\n",
    "C4. Including another criterion to passenger count. If passenger count is > 2, price billed is 1.3 times the price computed based on all criterion put together\n",
    "\n",
    "\n",
    "C5. Further, taxi rates go the highest peak To/From JFK and any location in Manhattan. **$52.00** plus tolls + many surcharges...( this isn't taken )\n",
    "\n"
   ]
  },
  {
   "cell_type": "markdown",
   "id": "8e596cf1",
   "metadata": {},
   "source": [
    "##  Defining  `price` function per above criterion and values"
   ]
  },
  {
   "cell_type": "code",
   "execution_count": 26,
   "id": "d0a3eabe",
   "metadata": {},
   "outputs": [],
   "source": [
    "# C1:  writing a function based on the distance feature. - Distance travelled\n",
    "\n",
    "    \n",
    "df['criterion_1'] = np.where(df['manhattan_dist']<0.322, 3.5, 3.5 + (1.56 *(df['manhattan_dist']-0.322)/0.322))\n",
    "     \n",
    "# C2: writing a function based on the duration feature. - Waiting time \n",
    "\n",
    "    \n",
    "df['criterion_2'] = np.where(df['store_and_fwd_flag'], 30*df['duration_min']/60, 0)\n",
    "\n",
    "\n",
    "# C3: obtaining columns of hour and day_name for calculating peak hour time rates. - Peak times\n",
    "\n",
    "df[\"day_name\"] = df['pickup_datetime'].dt.day_name()\n",
    "df[\"hour\"] = df['pickup_datetime'].dt.hour\n",
    "\n",
    "def criterion_3(df):\n",
    "    if df['hour'] > 16 and df ['hour'] <= 20 and df['day_name'] in ['Monday', 'Tuesday', 'Wednesday', 'Thursday', 'Friday']:\n",
    "        return 1\n",
    "    elif df['hour'] > 20 and df['hour'] < 6: \n",
    "        return 0.5\n",
    "    else: \n",
    "        return 0\n",
    "    \n",
    "df['criterion_3'] = df.apply(criterion_3, axis=1) \n",
    "\n"
   ]
  },
  {
   "cell_type": "code",
   "execution_count": 27,
   "id": "1c4d9668",
   "metadata": {},
   "outputs": [],
   "source": [
    "df['price']= df['criterion_1']+df['criterion_2']+df['criterion_3']"
   ]
  },
  {
   "cell_type": "code",
   "execution_count": 28,
   "id": "9c26f5c1",
   "metadata": {},
   "outputs": [],
   "source": [
    "# C4: writing a function for the price associated with passenger_count.\n",
    "\n",
    "\n",
    "df['criterion_4'] = np.where((df['passenger_count'] > 2), df['price'] * 1.3, df['price'] * 1)\n",
    "\n"
   ]
  },
  {
   "cell_type": "code",
   "execution_count": 29,
   "id": "538df2c0",
   "metadata": {},
   "outputs": [
    {
     "data": {
      "text/html": [
       "<div>\n",
       "<style scoped>\n",
       "    .dataframe tbody tr th:only-of-type {\n",
       "        vertical-align: middle;\n",
       "    }\n",
       "\n",
       "    .dataframe tbody tr th {\n",
       "        vertical-align: top;\n",
       "    }\n",
       "\n",
       "    .dataframe thead th {\n",
       "        text-align: right;\n",
       "    }\n",
       "</style>\n",
       "<table border=\"1\" class=\"dataframe\">\n",
       "  <thead>\n",
       "    <tr style=\"text-align: right;\">\n",
       "      <th></th>\n",
       "      <th>count</th>\n",
       "      <th>mean</th>\n",
       "      <th>std</th>\n",
       "      <th>min</th>\n",
       "      <th>25%</th>\n",
       "      <th>50%</th>\n",
       "      <th>75%</th>\n",
       "      <th>max</th>\n",
       "    </tr>\n",
       "  </thead>\n",
       "  <tbody>\n",
       "    <tr>\n",
       "      <th>price</th>\n",
       "      <td>1033660.000</td>\n",
       "      <td>25.197</td>\n",
       "      <td>29.762</td>\n",
       "      <td>3.500</td>\n",
       "      <td>10.205</td>\n",
       "      <td>15.669</td>\n",
       "      <td>26.738</td>\n",
       "      <td>4230.833</td>\n",
       "    </tr>\n",
       "    <tr>\n",
       "      <th>criterion_1</th>\n",
       "      <td>1033660.000</td>\n",
       "      <td>23.893</td>\n",
       "      <td>28.183</td>\n",
       "      <td>3.500</td>\n",
       "      <td>9.663</td>\n",
       "      <td>14.833</td>\n",
       "      <td>25.307</td>\n",
       "      <td>4230.833</td>\n",
       "    </tr>\n",
       "    <tr>\n",
       "      <th>criterion_2</th>\n",
       "      <td>1033660.000</td>\n",
       "      <td>0.050</td>\n",
       "      <td>0.878</td>\n",
       "      <td>0.000</td>\n",
       "      <td>0.000</td>\n",
       "      <td>0.000</td>\n",
       "      <td>0.000</td>\n",
       "      <td>65.200</td>\n",
       "    </tr>\n",
       "    <tr>\n",
       "      <th>criterion_3</th>\n",
       "      <td>1033660.000</td>\n",
       "      <td>0.173</td>\n",
       "      <td>0.378</td>\n",
       "      <td>0.000</td>\n",
       "      <td>0.000</td>\n",
       "      <td>0.000</td>\n",
       "      <td>0.000</td>\n",
       "      <td>1.000</td>\n",
       "    </tr>\n",
       "  </tbody>\n",
       "</table>\n",
       "</div>"
      ],
      "text/plain": [
       "                  count   mean    std   min    25%    50%    75%      max\n",
       "price       1033660.000 25.197 29.762 3.500 10.205 15.669 26.738 4230.833\n",
       "criterion_1 1033660.000 23.893 28.183 3.500  9.663 14.833 25.307 4230.833\n",
       "criterion_2 1033660.000  0.050  0.878 0.000  0.000  0.000  0.000   65.200\n",
       "criterion_3 1033660.000  0.173  0.378 0.000  0.000  0.000  0.000    1.000"
      ]
     },
     "execution_count": 29,
     "metadata": {},
     "output_type": "execute_result"
    }
   ],
   "source": [
    "df['price'] = df['criterion_4']\n",
    "df[['price','criterion_1','criterion_2','criterion_3']].describe().T"
   ]
  },
  {
   "cell_type": "markdown",
   "id": "f2af386a",
   "metadata": {},
   "source": [
    "Mean price is $25.2.\n",
    "\n",
    "First standard deviation is $29.76.\n",
    "\n",
    "Second standard deviation is $59.52 per KM across rides in the dataset."
   ]
  },
  {
   "cell_type": "markdown",
   "id": "11409d15",
   "metadata": {},
   "source": [
    "The Dataset above has all of data points, which are falling outside of the bounds of NYC. A better estimate would be to group datasets into within NYC and outside NYC bounds."
   ]
  },
  {
   "cell_type": "markdown",
   "id": "9b61e7d0",
   "metadata": {},
   "source": [
    "## Parsing datetime column "
   ]
  },
  {
   "cell_type": "code",
   "execution_count": 30,
   "id": "987ffe04",
   "metadata": {},
   "outputs": [],
   "source": [
    "# categories as default are unordered, setting the order of category for month and day names\n",
    "from pandas.api.types import CategoricalDtype\n",
    "\n",
    "month_cat = CategoricalDtype(categories=[\"January\", \"February\",\"March\",\"April\",\"May\",\"June\"], ordered = True)\n",
    "day_cat = CategoricalDtype(categories=[\"Monday\",\"Tuesday\",\"Wednesday\",\"Thursday\",\"Friday\",\"Saturday\",\"Sunday\"], ordered = True)\n"
   ]
  },
  {
   "cell_type": "code",
   "execution_count": 31,
   "id": "0a53ac8f",
   "metadata": {},
   "outputs": [],
   "source": [
    "# additional columns being parsed.\n",
    "df[\"day_name\"] = df['pickup_datetime'].dt.day_name().astype(day_cat)\n",
    "df[\"month_name\"] = df['pickup_datetime'].dt.month_name().astype(month_cat)\n",
    "df[\"day\"] = df['pickup_datetime'].dt.day"
   ]
  },
  {
   "cell_type": "code",
   "execution_count": 32,
   "id": "70482f61",
   "metadata": {},
   "outputs": [
    {
     "data": {
      "text/plain": [
       "pandas.core.indexes.numeric.Int64Index"
      ]
     },
     "execution_count": 32,
     "metadata": {},
     "output_type": "execute_result"
    }
   ],
   "source": [
    "type(df.index)"
   ]
  },
  {
   "cell_type": "code",
   "execution_count": 33,
   "id": "cdd2a6ef",
   "metadata": {},
   "outputs": [
    {
     "name": "stdout",
     "output_type": "stream",
     "text": [
      "<class 'pandas.core.frame.DataFrame'>\n",
      "Int64Index: 1033660 entries, 5853 to 1048465\n",
      "Data columns (total 27 columns):\n",
      " #   Column              Non-Null Count    Dtype         \n",
      "---  ------              --------------    -----         \n",
      " 0   id                  1033660 non-null  object        \n",
      " 1   vendor_id           1033660 non-null  category      \n",
      " 2   pickup_datetime     1033660 non-null  datetime64[ns]\n",
      " 3   dropoff_datetime    1033660 non-null  datetime64[ns]\n",
      " 4   passenger_count     1033660 non-null  int64         \n",
      " 5   pickup_longitude    1033660 non-null  float64       \n",
      " 6   pickup_latitude     1033660 non-null  float64       \n",
      " 7   dropoff_longitude   1033660 non-null  float64       \n",
      " 8   dropoff_latitude    1033660 non-null  float64       \n",
      " 9   store_and_fwd_flag  1033660 non-null  bool          \n",
      " 10  duration            1033660 non-null  int64         \n",
      " 11  distance            1033660 non-null  float64       \n",
      " 12  manhattan_dist      1033660 non-null  float64       \n",
      " 13  duration_hours      1033660 non-null  float64       \n",
      " 14  duration_min        1033660 non-null  float64       \n",
      " 15  dur_to_dist_m_hpkm  1033660 non-null  float64       \n",
      " 16  dur_to_dist_m_spkm  1033660 non-null  float64       \n",
      " 17  speed_kmph_m        1033660 non-null  float64       \n",
      " 18  criterion_1         1033660 non-null  float64       \n",
      " 19  criterion_2         1033660 non-null  float64       \n",
      " 20  day_name            1033660 non-null  category      \n",
      " 21  hour                1033660 non-null  int64         \n",
      " 22  criterion_3         1033660 non-null  int64         \n",
      " 23  price               1033660 non-null  float64       \n",
      " 24  criterion_4         1033660 non-null  float64       \n",
      " 25  month_name          1033660 non-null  category      \n",
      " 26  day                 1033660 non-null  int64         \n",
      "dtypes: bool(1), category(3), datetime64[ns](2), float64(15), int64(5), object(1)\n",
      "memory usage: 193.2+ MB\n"
     ]
    }
   ],
   "source": [
    "df.info() # 1.03366  Million observations "
   ]
  },
  {
   "cell_type": "markdown",
   "id": "fbb3ca4e",
   "metadata": {},
   "source": [
    "## Saving the new dataset  with additional features and outliers removed"
   ]
  },
  {
   "cell_type": "code",
   "execution_count": 34,
   "id": "1db88095",
   "metadata": {},
   "outputs": [
    {
     "name": "stdout",
     "output_type": "stream",
     "text": [
      "(1033660, 23)\n",
      "<class 'pandas.core.frame.DataFrame'>\n",
      "Int64Index: 1033660 entries, 5853 to 1048465\n",
      "Data columns (total 23 columns):\n",
      " #   Column              Non-Null Count    Dtype         \n",
      "---  ------              --------------    -----         \n",
      " 0   id                  1033660 non-null  object        \n",
      " 1   vendor_id           1033660 non-null  category      \n",
      " 2   pickup_datetime     1033660 non-null  datetime64[ns]\n",
      " 3   dropoff_datetime    1033660 non-null  datetime64[ns]\n",
      " 4   passenger_count     1033660 non-null  int64         \n",
      " 5   pickup_longitude    1033660 non-null  float64       \n",
      " 6   pickup_latitude     1033660 non-null  float64       \n",
      " 7   dropoff_longitude   1033660 non-null  float64       \n",
      " 8   dropoff_latitude    1033660 non-null  float64       \n",
      " 9   store_and_fwd_flag  1033660 non-null  bool          \n",
      " 10  duration            1033660 non-null  int64         \n",
      " 11  distance            1033660 non-null  float64       \n",
      " 12  manhattan_dist      1033660 non-null  float64       \n",
      " 13  duration_hours      1033660 non-null  float64       \n",
      " 14  duration_min        1033660 non-null  float64       \n",
      " 15  dur_to_dist_m_hpkm  1033660 non-null  float64       \n",
      " 16  dur_to_dist_m_spkm  1033660 non-null  float64       \n",
      " 17  speed_kmph_m        1033660 non-null  float64       \n",
      " 18  day_name            1033660 non-null  category      \n",
      " 19  hour                1033660 non-null  int64         \n",
      " 20  price               1033660 non-null  float64       \n",
      " 21  month_name          1033660 non-null  category      \n",
      " 22  day                 1033660 non-null  int64         \n",
      "dtypes: bool(1), category(3), datetime64[ns](2), float64(12), int64(4), object(1)\n",
      "memory usage: 161.7+ MB\n",
      "None\n"
     ]
    }
   ],
   "source": [
    "df = df.drop(columns=[col for col in df.columns if 'criterion' in col])\n",
    "print(df.shape)\n",
    "print(df.info())"
   ]
  },
  {
   "cell_type": "code",
   "execution_count": 35,
   "id": "3d756fb7",
   "metadata": {},
   "outputs": [],
   "source": [
    "### Saving the dataframe \n",
    "df = df.reset_index()\n",
    "df.to_csv('./data/2_new_features_outliers_removed.csv')"
   ]
  },
  {
   "cell_type": "markdown",
   "id": "6a2baa3b",
   "metadata": {},
   "source": [
    "--------------------"
   ]
  },
  {
   "cell_type": "markdown",
   "id": "8b405c00",
   "metadata": {},
   "source": [
    "# Descriptive Statistics\n"
   ]
  },
  {
   "cell_type": "markdown",
   "id": "1c9f54f6",
   "metadata": {},
   "source": [
    "##  Let’s understand the scope and distribution various dimensions within the dataset. \n",
    "\n",
    "Calculate the average, median, and the first & second standard deviation of the mean for the following measures:\n",
    "1. duration\n",
    "2. distance ",
    "\n",
    "3. passenger counts ",
    "\n",
    "4. duration-to-distance ratio ",
    "\n",
    "5. price\n"
   ]
  },
  {
   "cell_type": "code",
   "execution_count": 36,
   "id": "3686f6f0",
   "metadata": {},
   "outputs": [],
   "source": [
    "# Loading the taxi_rides data into the pandas Dataframe\n",
    "\n",
    "df = pd.read_csv('./data/2_new_features_outliers_removed.csv')"
   ]
  },
  {
   "cell_type": "code",
   "execution_count": 37,
   "id": "24b7e077",
   "metadata": {},
   "outputs": [
    {
     "data": {
      "text/html": [
       "<div>\n",
       "<style scoped>\n",
       "    .dataframe tbody tr th:only-of-type {\n",
       "        vertical-align: middle;\n",
       "    }\n",
       "\n",
       "    .dataframe tbody tr th {\n",
       "        vertical-align: top;\n",
       "    }\n",
       "\n",
       "    .dataframe thead th {\n",
       "        text-align: right;\n",
       "    }\n",
       "</style>\n",
       "<table border=\"1\" class=\"dataframe\">\n",
       "  <thead>\n",
       "    <tr style=\"text-align: right;\">\n",
       "      <th></th>\n",
       "      <th>count</th>\n",
       "      <th>mean</th>\n",
       "      <th>std</th>\n",
       "      <th>min</th>\n",
       "      <th>25%</th>\n",
       "      <th>50%</th>\n",
       "      <th>75%</th>\n",
       "      <th>max</th>\n",
       "    </tr>\n",
       "  </thead>\n",
       "  <tbody>\n",
       "    <tr>\n",
       "      <th>duration</th>\n",
       "      <td>1033660.00</td>\n",
       "      <td>876.79</td>\n",
       "      <td>1699.74</td>\n",
       "      <td>88.00</td>\n",
       "      <td>404.00</td>\n",
       "      <td>668.00</td>\n",
       "      <td>1080.00</td>\n",
       "      <td>85186.00</td>\n",
       "    </tr>\n",
       "    <tr>\n",
       "      <th>duration_hours</th>\n",
       "      <td>1033660.00</td>\n",
       "      <td>0.24</td>\n",
       "      <td>0.47</td>\n",
       "      <td>0.02</td>\n",
       "      <td>0.11</td>\n",
       "      <td>0.19</td>\n",
       "      <td>0.30</td>\n",
       "      <td>23.66</td>\n",
       "    </tr>\n",
       "    <tr>\n",
       "      <th>passenger_count</th>\n",
       "      <td>1033660.00</td>\n",
       "      <td>1.67</td>\n",
       "      <td>1.31</td>\n",
       "      <td>0.00</td>\n",
       "      <td>1.00</td>\n",
       "      <td>1.00</td>\n",
       "      <td>2.00</td>\n",
       "      <td>8.00</td>\n",
       "    </tr>\n",
       "    <tr>\n",
       "      <th>price</th>\n",
       "      <td>1033660.00</td>\n",
       "      <td>25.20</td>\n",
       "      <td>29.76</td>\n",
       "      <td>3.50</td>\n",
       "      <td>10.21</td>\n",
       "      <td>15.67</td>\n",
       "      <td>26.74</td>\n",
       "      <td>4230.83</td>\n",
       "    </tr>\n",
       "    <tr>\n",
       "      <th>manhattan_dist</th>\n",
       "      <td>1033660.00</td>\n",
       "      <td>4.53</td>\n",
       "      <td>5.82</td>\n",
       "      <td>0.01</td>\n",
       "      <td>1.59</td>\n",
       "      <td>2.66</td>\n",
       "      <td>4.82</td>\n",
       "      <td>872.89</td>\n",
       "    </tr>\n",
       "    <tr>\n",
       "      <th>dur_to_dist_m_hpkm</th>\n",
       "      <td>1033660.00</td>\n",
       "      <td>0.09</td>\n",
       "      <td>0.60</td>\n",
       "      <td>0.00</td>\n",
       "      <td>0.04</td>\n",
       "      <td>0.06</td>\n",
       "      <td>0.09</td>\n",
       "      <td>258.04</td>\n",
       "    </tr>\n",
       "    <tr>\n",
       "      <th>dur_to_dist_m_spkm</th>\n",
       "      <td>1033660.00</td>\n",
       "      <td>314.06</td>\n",
       "      <td>2157.11</td>\n",
       "      <td>0.44</td>\n",
       "      <td>158.78</td>\n",
       "      <td>223.38</td>\n",
       "      <td>314.23</td>\n",
       "      <td>928938.22</td>\n",
       "    </tr>\n",
       "  </tbody>\n",
       "</table>\n",
       "</div>"
      ],
      "text/plain": [
       "                        count   mean     std   min    25%    50%     75%  \\\n",
       "duration           1033660.00 876.79 1699.74 88.00 404.00 668.00 1080.00   \n",
       "duration_hours     1033660.00   0.24    0.47  0.02   0.11   0.19    0.30   \n",
       "passenger_count    1033660.00   1.67    1.31  0.00   1.00   1.00    2.00   \n",
       "price              1033660.00  25.20   29.76  3.50  10.21  15.67   26.74   \n",
       "manhattan_dist     1033660.00   4.53    5.82  0.01   1.59   2.66    4.82   \n",
       "dur_to_dist_m_hpkm 1033660.00   0.09    0.60  0.00   0.04   0.06    0.09   \n",
       "dur_to_dist_m_spkm 1033660.00 314.06 2157.11  0.44 158.78 223.38  314.23   \n",
       "\n",
       "                         max  \n",
       "duration            85186.00  \n",
       "duration_hours         23.66  \n",
       "passenger_count         8.00  \n",
       "price                4230.83  \n",
       "manhattan_dist        872.89  \n",
       "dur_to_dist_m_hpkm    258.04  \n",
       "dur_to_dist_m_spkm 928938.22  "
      ]
     },
     "execution_count": 37,
     "metadata": {},
     "output_type": "execute_result"
    }
   ],
   "source": [
    "#creating a dataframe for purposes of figuring the data statistics\n",
    "\n",
    "pd.options.display.float_format = '{:.2f}'.format\n",
    "\n",
    "df[[\"duration\",\"duration_hours\", \"passenger_count\",'price','manhattan_dist','dur_to_dist_m_hpkm', 'dur_to_dist_m_spkm']].describe().T\n"
   ]
  },
  {
   "cell_type": "code",
   "execution_count": 38,
   "id": "d98f4f7a",
   "metadata": {},
   "outputs": [
    {
     "data": {
      "text/plain": [
       "<AxesSubplot:xlabel='passenger_count', ylabel='count'>"
      ]
     },
     "execution_count": 38,
     "metadata": {},
     "output_type": "execute_result"
    },
    {
     "data": {
      "image/png": "[encoded data removed]",
      "text/plain": [
       "<Figure size 576x432 with 1 Axes>"
      ]
     },
     "metadata": {
      "needs_background": "light"
     },
     "output_type": "display_data"
    }
   ],
   "source": [
    "fig,ax = plt.subplots(1,figsize =(8,6))\n",
    "\n",
    "\n",
    "sns.set_style('whitegrid')\n",
    "\n",
    "sns.countplot(ax=ax, data=df, x ='passenger_count' ) #color='C0'\n",
    "\n",
    "# # Iterrating over the bars one-by-one\n",
    "# for bar in count.patches:\n",
    "    \n",
    "#   # Using Matplotlib's annotate function and\n",
    "#   # passing the coordinates where the annotation shall be done\n",
    "#   # x-coordinate: bar.get_x() + bar.get_width() / 2\n",
    "#   # y-coordinate: bar.get_height()\n",
    "#   # free space to be left to make graph pleasing: (0, 8)\n",
    "#   # ha and va stand for the horizontal and vertical alignment\n",
    "#     plt.annotate(format(bar.get_height(), '.2f'), \n",
    "#                    (bar.get_x() + bar.get_width() / 2, \n",
    "#                     bar.get_height()), ha='center', va='center',\n",
    "#                    size=15, xytext=(8, 0),\n",
    "#                    textcoords='offset points')\n"
   ]
  },
  {
   "cell_type": "markdown",
   "id": "2dbee944",
   "metadata": {},
   "source": [
    "Low Volume picks ups that constitute **(1-2 passengers) comprise 85%** of the entire dataset ~ 895K riders.\n"
   ]
  },
  {
   "cell_type": "code",
   "execution_count": 39,
   "id": "7fceedbd",
   "metadata": {},
   "outputs": [
    {
     "name": "stdout",
     "output_type": "stream",
     "text": [
      "(1033660, 25)\n"
     ]
    }
   ],
   "source": [
    "print(df.shape)\n"
   ]
  },
  {
   "cell_type": "code",
   "execution_count": 58,
   "id": "faab7eb7",
   "metadata": {},
   "outputs": [
    {
     "data": {
      "text/html": [
       "<style  type=\"text/css\" >\n",
       "#T_7d68b_row0_col0,#T_7d68b_row0_col1,#T_7d68b_row1_col0,#T_7d68b_row1_col1,#T_7d68b_row2_col2,#T_7d68b_row3_col3,#T_7d68b_row4_col4,#T_7d68b_row5_col5,#T_7d68b_row5_col6,#T_7d68b_row6_col5,#T_7d68b_row6_col6{\n",
       "            background-color:  #081d58;\n",
       "            color:  #f1f1f1;\n",
       "        }#T_7d68b_row0_col2,#T_7d68b_row1_col2,#T_7d68b_row2_col5,#T_7d68b_row2_col6,#T_7d68b_row3_col5,#T_7d68b_row3_col6,#T_7d68b_row4_col5,#T_7d68b_row4_col6,#T_7d68b_row5_col3,#T_7d68b_row5_col4,#T_7d68b_row6_col3,#T_7d68b_row6_col4{\n",
       "            background-color:  #ffffd9;\n",
       "            color:  #000000;\n",
       "        }#T_7d68b_row0_col3,#T_7d68b_row0_col4,#T_7d68b_row1_col3,#T_7d68b_row1_col4{\n",
       "            background-color:  #b4e2b6;\n",
       "            color:  #000000;\n",
       "        }#T_7d68b_row0_col5,#T_7d68b_row0_col6,#T_7d68b_row1_col5,#T_7d68b_row1_col6{\n",
       "            background-color:  #b2e1b6;\n",
       "            color:  #000000;\n",
       "        }#T_7d68b_row2_col0,#T_7d68b_row2_col1{\n",
       "            background-color:  #feffd6;\n",
       "            color:  #000000;\n",
       "        }#T_7d68b_row2_col3{\n",
       "            background-color:  #f3fabf;\n",
       "            color:  #000000;\n",
       "        }#T_7d68b_row2_col4{\n",
       "            background-color:  #feffd8;\n",
       "            color:  #000000;\n",
       "        }#T_7d68b_row3_col0,#T_7d68b_row3_col1,#T_7d68b_row4_col0,#T_7d68b_row4_col1{\n",
       "            background-color:  #9ed9b8;\n",
       "            color:  #000000;\n",
       "        }#T_7d68b_row3_col2{\n",
       "            background-color:  #edf8b2;\n",
       "            color:  #000000;\n",
       "        }#T_7d68b_row3_col4,#T_7d68b_row4_col3{\n",
       "            background-color:  #0a1e5c;\n",
       "            color:  #f1f1f1;\n",
       "        }#T_7d68b_row4_col2{\n",
       "            background-color:  #f8fcc9;\n",
       "            color:  #000000;\n",
       "        }#T_7d68b_row5_col0,#T_7d68b_row5_col1,#T_7d68b_row6_col0,#T_7d68b_row6_col1{\n",
       "            background-color:  #9cd8b8;\n",
       "            color:  #000000;\n",
       "        }#T_7d68b_row5_col2,#T_7d68b_row6_col2{\n",
       "            background-color:  #f9fdcb;\n",
       "            color:  #000000;\n",
       "        }</style><table id=\"T_7d68b_\" ><thead>    <tr>        <th class=\"blank level0\" ></th>        <th class=\"col_heading level0 col0\" >duration</th>        <th class=\"col_heading level0 col1\" >duration_hours</th>        <th class=\"col_heading level0 col2\" >passenger_count</th>        <th class=\"col_heading level0 col3\" >price</th>        <th class=\"col_heading level0 col4\" >manhattan_dist</th>        <th class=\"col_heading level0 col5\" >dur_to_dist_m_hpkm</th>        <th class=\"col_heading level0 col6\" >dur_to_dist_m_spkm</th>    </tr></thead><tbody>\n",
       "                <tr>\n",
       "                        <th id=\"T_7d68b_level0_row0\" class=\"row_heading level0 row0\" >duration</th>\n",
       "                        <td id=\"T_7d68b_row0_col0\" class=\"data row0 col0\" >1.0</td>\n",
       "                        <td id=\"T_7d68b_row0_col1\" class=\"data row0 col1\" >1.0</td>\n",
       "                        <td id=\"T_7d68b_row0_col2\" class=\"data row0 col2\" >0.012</td>\n",
       "                        <td id=\"T_7d68b_row0_col3\" class=\"data row0 col3\" >0.29</td>\n",
       "                        <td id=\"T_7d68b_row0_col4\" class=\"data row0 col4\" >0.29</td>\n",
       "                        <td id=\"T_7d68b_row0_col5\" class=\"data row0 col5\" >0.3</td>\n",
       "                        <td id=\"T_7d68b_row0_col6\" class=\"data row0 col6\" >0.3</td>\n",
       "            </tr>\n",
       "            <tr>\n",
       "                        <th id=\"T_7d68b_level0_row1\" class=\"row_heading level0 row1\" >duration_hours</th>\n",
       "                        <td id=\"T_7d68b_row1_col0\" class=\"data row1 col0\" >1.0</td>\n",
       "                        <td id=\"T_7d68b_row1_col1\" class=\"data row1 col1\" >1.0</td>\n",
       "                        <td id=\"T_7d68b_row1_col2\" class=\"data row1 col2\" >0.012</td>\n",
       "                        <td id=\"T_7d68b_row1_col3\" class=\"data row1 col3\" >0.29</td>\n",
       "                        <td id=\"T_7d68b_row1_col4\" class=\"data row1 col4\" >0.29</td>\n",
       "                        <td id=\"T_7d68b_row1_col5\" class=\"data row1 col5\" >0.3</td>\n",
       "                        <td id=\"T_7d68b_row1_col6\" class=\"data row1 col6\" >0.3</td>\n",
       "            </tr>\n",
       "            <tr>\n",
       "                        <th id=\"T_7d68b_level0_row2\" class=\"row_heading level0 row2\" >passenger_count</th>\n",
       "                        <td id=\"T_7d68b_row2_col0\" class=\"data row2 col0\" >0.012</td>\n",
       "                        <td id=\"T_7d68b_row2_col1\" class=\"data row2 col1\" >0.012</td>\n",
       "                        <td id=\"T_7d68b_row2_col2\" class=\"data row2 col2\" >1.0</td>\n",
       "                        <td id=\"T_7d68b_row2_col3\" class=\"data row2 col3\" >0.087</td>\n",
       "                        <td id=\"T_7d68b_row2_col4\" class=\"data row2 col4\" >0.0096</td>\n",
       "                        <td id=\"T_7d68b_row2_col5\" class=\"data row2 col5\" >0.0032</td>\n",
       "                        <td id=\"T_7d68b_row2_col6\" class=\"data row2 col6\" >0.0032</td>\n",
       "            </tr>\n",
       "            <tr>\n",
       "                        <th id=\"T_7d68b_level0_row3\" class=\"row_heading level0 row3\" >price</th>\n",
       "                        <td id=\"T_7d68b_row3_col0\" class=\"data row3 col0\" >0.29</td>\n",
       "                        <td id=\"T_7d68b_row3_col1\" class=\"data row3 col1\" >0.29</td>\n",
       "                        <td id=\"T_7d68b_row3_col2\" class=\"data row3 col2\" >0.087</td>\n",
       "                        <td id=\"T_7d68b_row3_col3\" class=\"data row3 col3\" >1.0</td>\n",
       "                        <td id=\"T_7d68b_row3_col4\" class=\"data row3 col4\" >0.99</td>\n",
       "                        <td id=\"T_7d68b_row3_col5\" class=\"data row3 col5\" >-0.042</td>\n",
       "                        <td id=\"T_7d68b_row3_col6\" class=\"data row3 col6\" >-0.042</td>\n",
       "            </tr>\n",
       "            <tr>\n",
       "                        <th id=\"T_7d68b_level0_row4\" class=\"row_heading level0 row4\" >manhattan_dist</th>\n",
       "                        <td id=\"T_7d68b_row4_col0\" class=\"data row4 col0\" >0.29</td>\n",
       "                        <td id=\"T_7d68b_row4_col1\" class=\"data row4 col1\" >0.29</td>\n",
       "                        <td id=\"T_7d68b_row4_col2\" class=\"data row4 col2\" >0.0096</td>\n",
       "                        <td id=\"T_7d68b_row4_col3\" class=\"data row4 col3\" >0.99</td>\n",
       "                        <td id=\"T_7d68b_row4_col4\" class=\"data row4 col4\" >1.0</td>\n",
       "                        <td id=\"T_7d68b_row4_col5\" class=\"data row4 col5\" >-0.044</td>\n",
       "                        <td id=\"T_7d68b_row4_col6\" class=\"data row4 col6\" >-0.044</td>\n",
       "            </tr>\n",
       "            <tr>\n",
       "                        <th id=\"T_7d68b_level0_row5\" class=\"row_heading level0 row5\" >dur_to_dist_m_hpkm</th>\n",
       "                        <td id=\"T_7d68b_row5_col0\" class=\"data row5 col0\" >0.3</td>\n",
       "                        <td id=\"T_7d68b_row5_col1\" class=\"data row5 col1\" >0.3</td>\n",
       "                        <td id=\"T_7d68b_row5_col2\" class=\"data row5 col2\" >0.0032</td>\n",
       "                        <td id=\"T_7d68b_row5_col3\" class=\"data row5 col3\" >-0.042</td>\n",
       "                        <td id=\"T_7d68b_row5_col4\" class=\"data row5 col4\" >-0.044</td>\n",
       "                        <td id=\"T_7d68b_row5_col5\" class=\"data row5 col5\" >1.0</td>\n",
       "                        <td id=\"T_7d68b_row5_col6\" class=\"data row5 col6\" >1.0</td>\n",
       "            </tr>\n",
       "            <tr>\n",
       "                        <th id=\"T_7d68b_level0_row6\" class=\"row_heading level0 row6\" >dur_to_dist_m_spkm</th>\n",
       "                        <td id=\"T_7d68b_row6_col0\" class=\"data row6 col0\" >0.3</td>\n",
       "                        <td id=\"T_7d68b_row6_col1\" class=\"data row6 col1\" >0.3</td>\n",
       "                        <td id=\"T_7d68b_row6_col2\" class=\"data row6 col2\" >0.0032</td>\n",
       "                        <td id=\"T_7d68b_row6_col3\" class=\"data row6 col3\" >-0.042</td>\n",
       "                        <td id=\"T_7d68b_row6_col4\" class=\"data row6 col4\" >-0.044</td>\n",
       "                        <td id=\"T_7d68b_row6_col5\" class=\"data row6 col5\" >1.0</td>\n",
       "                        <td id=\"T_7d68b_row6_col6\" class=\"data row6 col6\" >1.0</td>\n",
       "            </tr>\n",
       "    </tbody></table>"
      ],
      "text/plain": [
       "<pandas.io.formats.style.Styler at 0x7fc1aa453a90>"
      ]
     },
     "execution_count": 58,
     "metadata": {},
     "output_type": "execute_result"
    }
   ],
   "source": [
    "df[[\"duration\",\"duration_hours\", \"passenger_count\",'price','manhattan_dist','dur_to_dist_m_hpkm','dur_to_dist_m_spkm']].corr().style.format(\"{:.2}\").background_gradient(cmap=plt.get_cmap('YlGnBu'),axis=1)\n",
    "\n",
    "#this correlation matrix shows a high +ve of price to duration"
   ]
  },
  {
   "cell_type": "markdown",
   "id": "32fe8bd0",
   "metadata": {},
   "source": [
    "***Note:**\n",
    "    \n",
    "    "
   ]
  },
  {
   "cell_type": "markdown",
   "id": "8b086705",
   "metadata": {},
   "source": [
    "## Distribution of `Distance` and `Duration` features"
   ]
  },
  {
   "cell_type": "code",
   "execution_count": 41,
   "id": "b2fb4b9d",
   "metadata": {},
   "outputs": [
    {
     "data": {
      "image/png": "[encoded data removed]",
      "text/plain": [
       "<Figure size 1152x432 with 2 Axes>"
      ]
     },
     "metadata": {},
     "output_type": "display_data"
    }
   ],
   "source": [
    "fig = plt.figure(figsize=(16,6))\n",
    "\n",
    "sns.set_style('whitegrid')\n",
    "sns.set_style(\"ticks\")\n",
    "\n",
    "# Plot 1\n",
    "ax1=fig.add_subplot(121)\n",
    "\n",
    "plt.xlabel('Distance (KM)', fontsize=14)\n",
    "plt.ylabel('Counts', fontsize=14)\n",
    "plt.tick_params(labelsize=14)\n",
    "plt.title('Distribution of Trip `Distance`', color='black', fontsize=16,  weight='bold')\n",
    "\n",
    "ax1 = sns.histplot(data=df,x='manhattan_dist', kde=True)\n",
    "\n",
    "# Plot 2\n",
    "ax2=fig.add_subplot(122)\n",
    "\n",
    "plt.xlabel('Duration (hours)', fontsize=14)\n",
    "plt.ylabel('Counts',fontsize=14)\n",
    "plt.tick_params(labelsize=14)\n",
    "plt.title('Distribution of Trip `Duration`', color='black', fontsize=16,  weight='bold')\n",
    "\n",
    "ax2 = sns.histplot(data = df, x='duration_hours', kde=True)\n"
   ]
  },
  {
   "cell_type": "markdown",
   "id": "86c13285",
   "metadata": {},
   "source": [
    "## Trend line of taxi rides data "
   ]
  },
  {
   "cell_type": "code",
   "execution_count": 42,
   "id": "07347327",
   "metadata": {},
   "outputs": [
    {
     "data": {
      "image/png": "[encoded data removed]",
      "text/plain": [
       "<Figure size 1008x576 with 1 Axes>"
      ]
     },
     "metadata": {},
     "output_type": "display_data"
    }
   ],
   "source": [
    "from matplotlib import style\n",
    "# plt.style.use('ggplot')\n",
    "sns.set_theme(style=\"whitegrid\")\n",
    "\n",
    "\n",
    "\n",
    "fig,ax = plt.subplots(1, figsize=(14,8))\n",
    "\n",
    "\n",
    "ax.set_title('Trip Duration and Distance plot per pickup-dropoff pair', fontsize=19, weight='bold' )\n",
    "\n",
    "sns.regplot(x=\"manhattan_dist\", y=\"duration_hours\", data=df, ax=ax)\n",
    "\n",
    "plt.xlabel('Manhattan_distance in KM', fontsize=14)\n",
    "plt.ylabel('Duration in hours',fontsize=14)\n",
    "plt.tick_params(labelsize=14)\n"
   ]
  },
  {
   "cell_type": "markdown",
   "id": "03e4e3be",
   "metadata": {},
   "source": [
    "---------------------"
   ]
  },
  {
   "cell_type": "markdown",
   "id": "1a469921",
   "metadata": {},
   "source": [
    "### others "
   ]
  },
  {
   "cell_type": "markdown",
   "id": "09f7204e",
   "metadata": {},
   "source": [
    "### Distance and Duration Viz - innyc\n",
    "Output loaded from the geographical analysis of pickup points - book 2"
   ]
  },
  {
   "cell_type": "code",
   "execution_count": 43,
   "id": "084f4142",
   "metadata": {},
   "outputs": [],
   "source": [
    "inp_df = pd.read_csv('./data/joined_innyc_p.csv')"
   ]
  },
  {
   "cell_type": "code",
   "execution_count": 44,
   "id": "c800d597",
   "metadata": {},
   "outputs": [
    {
     "name": "stdout",
     "output_type": "stream",
     "text": [
      "<class 'pandas.core.frame.DataFrame'>\n",
      "RangeIndex: 1018105 entries, 0 to 1018104\n",
      "Data columns (total 29 columns):\n",
      " #   Column              Non-Null Count    Dtype  \n",
      "---  ------              --------------    -----  \n",
      " 0   Unnamed: 0          1018105 non-null  int64  \n",
      " 1   Unnamed: 0.1        1018105 non-null  int64  \n",
      " 2   id                  1018105 non-null  object \n",
      " 3   vendor_id           1018105 non-null  int64  \n",
      " 4   pickup_datetime     1018105 non-null  object \n",
      " 5   dropoff_datetime    1018105 non-null  object \n",
      " 6   passenger_count     1018105 non-null  int64  \n",
      " 7   pickup_longitude    1018105 non-null  float64\n",
      " 8   pickup_latitude     1018105 non-null  float64\n",
      " 9   dropoff_longitude   1018105 non-null  float64\n",
      " 10  dropoff_latitude    1018105 non-null  float64\n",
      " 11  store_and_fwd_flag  1018105 non-null  bool   \n",
      " 12  duration            1018105 non-null  int64  \n",
      " 13  distance            1018105 non-null  float64\n",
      " 14  manhattan_dist      1018105 non-null  float64\n",
      " 15  duration_hours      1018105 non-null  float64\n",
      " 16  duration_min        1018105 non-null  float64\n",
      " 17  dur_to_dist_m_hpkm  1018105 non-null  float64\n",
      " 18  dur_to_dist_m_spkm  1018105 non-null  float64\n",
      " 19  speed_kmph_m        1018105 non-null  float64\n",
      " 20  day_name            1018105 non-null  object \n",
      " 21  hour                1018105 non-null  int64  \n",
      " 22  price               1018105 non-null  float64\n",
      " 23  month_name          1018105 non-null  object \n",
      " 24  day                 1018105 non-null  int64  \n",
      " 25  geometry            1018105 non-null  object \n",
      " 26  index_right         1018105 non-null  float64\n",
      " 27  zcta                1018105 non-null  int64  \n",
      " 28  bcode               1018105 non-null  int64  \n",
      "dtypes: bool(1), float64(13), int64(9), object(6)\n",
      "memory usage: 218.5+ MB\n",
      "None\n"
     ]
    },
    {
     "data": {
      "text/html": [
       "<div>\n",
       "<style scoped>\n",
       "    .dataframe tbody tr th:only-of-type {\n",
       "        vertical-align: middle;\n",
       "    }\n",
       "\n",
       "    .dataframe tbody tr th {\n",
       "        vertical-align: top;\n",
       "    }\n",
       "\n",
       "    .dataframe thead th {\n",
       "        text-align: right;\n",
       "    }\n",
       "</style>\n",
       "<table border=\"1\" class=\"dataframe\">\n",
       "  <thead>\n",
       "    <tr style=\"text-align: right;\">\n",
       "      <th></th>\n",
       "      <th>Unnamed: 0</th>\n",
       "      <th>Unnamed: 0.1</th>\n",
       "      <th>id</th>\n",
       "      <th>vendor_id</th>\n",
       "      <th>pickup_datetime</th>\n",
       "      <th>dropoff_datetime</th>\n",
       "      <th>passenger_count</th>\n",
       "      <th>pickup_longitude</th>\n",
       "      <th>pickup_latitude</th>\n",
       "      <th>dropoff_longitude</th>\n",
       "      <th>...</th>\n",
       "      <th>speed_kmph_m</th>\n",
       "      <th>day_name</th>\n",
       "      <th>hour</th>\n",
       "      <th>price</th>\n",
       "      <th>month_name</th>\n",
       "      <th>day</th>\n",
       "      <th>geometry</th>\n",
       "      <th>index_right</th>\n",
       "      <th>zcta</th>\n",
       "      <th>bcode</th>\n",
       "    </tr>\n",
       "  </thead>\n",
       "  <tbody>\n",
       "    <tr>\n",
       "      <th>0</th>\n",
       "      <td>0</td>\n",
       "      <td>0</td>\n",
       "      <td>id2966204</td>\n",
       "      <td>1</td>\n",
       "      <td>2016-05-01 10:37:00</td>\n",
       "      <td>2016-05-01 10:41:00</td>\n",
       "      <td>1</td>\n",
       "      <td>-73.94</td>\n",
       "      <td>40.81</td>\n",
       "      <td>-73.94</td>\n",
       "      <td>...</td>\n",
       "      <td>0.15</td>\n",
       "      <td>Sunday</td>\n",
       "      <td>10</td>\n",
       "      <td>3.50</td>\n",
       "      <td>May</td>\n",
       "      <td>1</td>\n",
       "      <td>POINT (-73.93926239 40.80500793)</td>\n",
       "      <td>28.00</td>\n",
       "      <td>10035</td>\n",
       "      <td>36061</td>\n",
       "    </tr>\n",
       "    <tr>\n",
       "      <th>1</th>\n",
       "      <td>1</td>\n",
       "      <td>1</td>\n",
       "      <td>id3871388</td>\n",
       "      <td>1</td>\n",
       "      <td>2016-06-13 09:46:00</td>\n",
       "      <td>2016-06-13 09:47:00</td>\n",
       "      <td>1</td>\n",
       "      <td>-73.95</td>\n",
       "      <td>40.75</td>\n",
       "      <td>-73.95</td>\n",
       "      <td>...</td>\n",
       "      <td>0.41</td>\n",
       "      <td>Monday</td>\n",
       "      <td>9</td>\n",
       "      <td>3.50</td>\n",
       "      <td>June</td>\n",
       "      <td>13</td>\n",
       "      <td>POINT (-73.94538879 40.75161743)</td>\n",
       "      <td>111.00</td>\n",
       "      <td>11101</td>\n",
       "      <td>36081</td>\n",
       "    </tr>\n",
       "    <tr>\n",
       "      <th>2</th>\n",
       "      <td>2</td>\n",
       "      <td>2</td>\n",
       "      <td>id2922653</td>\n",
       "      <td>1</td>\n",
       "      <td>2016-05-02 11:27:00</td>\n",
       "      <td>2016-05-02 11:36:00</td>\n",
       "      <td>1</td>\n",
       "      <td>-74.02</td>\n",
       "      <td>40.70</td>\n",
       "      <td>-74.02</td>\n",
       "      <td>...</td>\n",
       "      <td>0.08</td>\n",
       "      <td>Monday</td>\n",
       "      <td>11</td>\n",
       "      <td>3.50</td>\n",
       "      <td>May</td>\n",
       "      <td>2</td>\n",
       "      <td>POINT (-74.01707458 40.70493317)</td>\n",
       "      <td>6.00</td>\n",
       "      <td>10004</td>\n",
       "      <td>36061</td>\n",
       "    </tr>\n",
       "    <tr>\n",
       "      <th>3</th>\n",
       "      <td>3</td>\n",
       "      <td>3</td>\n",
       "      <td>id3882784</td>\n",
       "      <td>1</td>\n",
       "      <td>2016-03-21 08:11:00</td>\n",
       "      <td>2016-03-21 08:14:00</td>\n",
       "      <td>1</td>\n",
       "      <td>-73.90</td>\n",
       "      <td>40.76</td>\n",
       "      <td>-73.90</td>\n",
       "      <td>...</td>\n",
       "      <td>0.21</td>\n",
       "      <td>Monday</td>\n",
       "      <td>8</td>\n",
       "      <td>3.50</td>\n",
       "      <td>March</td>\n",
       "      <td>21</td>\n",
       "      <td>POINT (-73.9021225 40.76398849)</td>\n",
       "      <td>181.00</td>\n",
       "      <td>11377</td>\n",
       "      <td>36081</td>\n",
       "    </tr>\n",
       "    <tr>\n",
       "      <th>4</th>\n",
       "      <td>4</td>\n",
       "      <td>4</td>\n",
       "      <td>id3958254</td>\n",
       "      <td>2</td>\n",
       "      <td>2016-04-19 13:59:00</td>\n",
       "      <td>2016-04-19 14:01:00</td>\n",
       "      <td>1</td>\n",
       "      <td>-73.94</td>\n",
       "      <td>40.76</td>\n",
       "      <td>-73.94</td>\n",
       "      <td>...</td>\n",
       "      <td>0.31</td>\n",
       "      <td>Tuesday</td>\n",
       "      <td>13</td>\n",
       "      <td>3.50</td>\n",
       "      <td>April</td>\n",
       "      <td>19</td>\n",
       "      <td>POINT (-73.93682097999999 40.76457596)</td>\n",
       "      <td>105.00</td>\n",
       "      <td>11106</td>\n",
       "      <td>36081</td>\n",
       "    </tr>\n",
       "  </tbody>\n",
       "</table>\n",
       "<p>5 rows × 29 columns</p>\n",
       "</div>"
      ],
      "text/plain": [
       "   Unnamed: 0  Unnamed: 0.1         id  vendor_id      pickup_datetime  \\\n",
       "0           0             0  id2966204          1  2016-05-01 10:37:00   \n",
       "1           1             1  id3871388          1  2016-06-13 09:46:00   \n",
       "2           2             2  id2922653          1  2016-05-02 11:27:00   \n",
       "3           3             3  id3882784          1  2016-03-21 08:11:00   \n",
       "4           4             4  id3958254          2  2016-04-19 13:59:00   \n",
       "\n",
       "      dropoff_datetime  passenger_count  pickup_longitude  pickup_latitude  \\\n",
       "0  2016-05-01 10:41:00                1            -73.94            40.81   \n",
       "1  2016-06-13 09:47:00                1            -73.95            40.75   \n",
       "2  2016-05-02 11:36:00                1            -74.02            40.70   \n",
       "3  2016-03-21 08:14:00                1            -73.90            40.76   \n",
       "4  2016-04-19 14:01:00                1            -73.94            40.76   \n",
       "\n",
       "   dropoff_longitude  ...  speed_kmph_m  day_name  hour  price  month_name  \\\n",
       "0             -73.94  ...          0.15    Sunday    10   3.50         May   \n",
       "1             -73.95  ...          0.41    Monday     9   3.50        June   \n",
       "2             -74.02  ...          0.08    Monday    11   3.50         May   \n",
       "3             -73.90  ...          0.21    Monday     8   3.50       March   \n",
       "4             -73.94  ...          0.31   Tuesday    13   3.50       April   \n",
       "\n",
       "   day                                geometry  index_right   zcta  bcode  \n",
       "0    1        POINT (-73.93926239 40.80500793)        28.00  10035  36061  \n",
       "1   13        POINT (-73.94538879 40.75161743)       111.00  11101  36081  \n",
       "2    2        POINT (-74.01707458 40.70493317)         6.00  10004  36061  \n",
       "3   21         POINT (-73.9021225 40.76398849)       181.00  11377  36081  \n",
       "4   19  POINT (-73.93682097999999 40.76457596)       105.00  11106  36081  \n",
       "\n",
       "[5 rows x 29 columns]"
      ]
     },
     "execution_count": 44,
     "metadata": {},
     "output_type": "execute_result"
    }
   ],
   "source": [
    "print(inp_df.info())\n",
    "inp_df.head(5)\n"
   ]
  },
  {
   "cell_type": "code",
   "execution_count": 45,
   "id": "b0f0401d",
   "metadata": {},
   "outputs": [
    {
     "data": {
      "text/html": [
       "<div>\n",
       "<style scoped>\n",
       "    .dataframe tbody tr th:only-of-type {\n",
       "        vertical-align: middle;\n",
       "    }\n",
       "\n",
       "    .dataframe tbody tr th {\n",
       "        vertical-align: top;\n",
       "    }\n",
       "\n",
       "    .dataframe thead th {\n",
       "        text-align: right;\n",
       "    }\n",
       "</style>\n",
       "<table border=\"1\" class=\"dataframe\">\n",
       "  <thead>\n",
       "    <tr style=\"text-align: right;\">\n",
       "      <th></th>\n",
       "      <th>count</th>\n",
       "      <th>mean</th>\n",
       "      <th>std</th>\n",
       "      <th>min</th>\n",
       "      <th>25%</th>\n",
       "      <th>50%</th>\n",
       "      <th>75%</th>\n",
       "      <th>max</th>\n",
       "    </tr>\n",
       "  </thead>\n",
       "  <tbody>\n",
       "    <tr>\n",
       "      <th>duration_hours</th>\n",
       "      <td>1018105.00</td>\n",
       "      <td>0.24</td>\n",
       "      <td>0.47</td>\n",
       "      <td>0.02</td>\n",
       "      <td>0.11</td>\n",
       "      <td>0.19</td>\n",
       "      <td>0.30</td>\n",
       "      <td>23.66</td>\n",
       "    </tr>\n",
       "    <tr>\n",
       "      <th>passenger_count</th>\n",
       "      <td>1018105.00</td>\n",
       "      <td>1.66</td>\n",
       "      <td>1.31</td>\n",
       "      <td>0.00</td>\n",
       "      <td>1.00</td>\n",
       "      <td>1.00</td>\n",
       "      <td>2.00</td>\n",
       "      <td>8.00</td>\n",
       "    </tr>\n",
       "    <tr>\n",
       "      <th>price</th>\n",
       "      <td>1018105.00</td>\n",
       "      <td>25.27</td>\n",
       "      <td>29.78</td>\n",
       "      <td>3.50</td>\n",
       "      <td>10.20</td>\n",
       "      <td>15.69</td>\n",
       "      <td>26.84</td>\n",
       "      <td>4230.83</td>\n",
       "    </tr>\n",
       "    <tr>\n",
       "      <th>manhattan_dist</th>\n",
       "      <td>1018105.00</td>\n",
       "      <td>4.55</td>\n",
       "      <td>5.83</td>\n",
       "      <td>0.01</td>\n",
       "      <td>1.59</td>\n",
       "      <td>2.67</td>\n",
       "      <td>4.84</td>\n",
       "      <td>872.89</td>\n",
       "    </tr>\n",
       "    <tr>\n",
       "      <th>dur_to_dist_m_hpkm</th>\n",
       "      <td>1018105.00</td>\n",
       "      <td>0.09</td>\n",
       "      <td>0.60</td>\n",
       "      <td>0.00</td>\n",
       "      <td>0.04</td>\n",
       "      <td>0.06</td>\n",
       "      <td>0.09</td>\n",
       "      <td>258.04</td>\n",
       "    </tr>\n",
       "  </tbody>\n",
       "</table>\n",
       "</div>"
      ],
      "text/plain": [
       "                        count  mean   std  min   25%   50%   75%     max\n",
       "duration_hours     1018105.00  0.24  0.47 0.02  0.11  0.19  0.30   23.66\n",
       "passenger_count    1018105.00  1.66  1.31 0.00  1.00  1.00  2.00    8.00\n",
       "price              1018105.00 25.27 29.78 3.50 10.20 15.69 26.84 4230.83\n",
       "manhattan_dist     1018105.00  4.55  5.83 0.01  1.59  2.67  4.84  872.89\n",
       "dur_to_dist_m_hpkm 1018105.00  0.09  0.60 0.00  0.04  0.06  0.09  258.04"
      ]
     },
     "execution_count": 45,
     "metadata": {},
     "output_type": "execute_result"
    }
   ],
   "source": [
    "inp_df[[\"duration_hours\", \"passenger_count\",'price','manhattan_dist','dur_to_dist_m_hpkm']].describe().T\n"
   ]
  },
  {
   "cell_type": "code",
   "execution_count": null,
   "id": "2c45027e",
   "metadata": {},
   "outputs": [],
   "source": []
  },
  {
   "cell_type": "code",
   "execution_count": 46,
   "id": "21f7f5be",
   "metadata": {},
   "outputs": [
    {
     "data": {
      "text/html": [
       "<style  type=\"text/css\" >\n",
       "#T_334dc_row0_col0,#T_334dc_row1_col1,#T_334dc_row2_col2,#T_334dc_row3_col3,#T_334dc_row4_col4{\n",
       "            background-color:  #081d58;\n",
       "            color:  #f1f1f1;\n",
       "        }#T_334dc_row0_col1,#T_334dc_row1_col4,#T_334dc_row2_col4,#T_334dc_row3_col4,#T_334dc_row4_col2,#T_334dc_row4_col3{\n",
       "            background-color:  #ffffd9;\n",
       "            color:  #000000;\n",
       "        }#T_334dc_row0_col2,#T_334dc_row0_col3{\n",
       "            background-color:  #b4e2b6;\n",
       "            color:  #000000;\n",
       "        }#T_334dc_row0_col4{\n",
       "            background-color:  #b2e1b6;\n",
       "            color:  #000000;\n",
       "        }#T_334dc_row1_col0{\n",
       "            background-color:  #feffd6;\n",
       "            color:  #000000;\n",
       "        }#T_334dc_row1_col2{\n",
       "            background-color:  #f3fabf;\n",
       "            color:  #000000;\n",
       "        }#T_334dc_row1_col3{\n",
       "            background-color:  #feffd8;\n",
       "            color:  #000000;\n",
       "        }#T_334dc_row2_col0,#T_334dc_row3_col0{\n",
       "            background-color:  #9ed9b8;\n",
       "            color:  #000000;\n",
       "        }#T_334dc_row2_col1{\n",
       "            background-color:  #edf8b2;\n",
       "            color:  #000000;\n",
       "        }#T_334dc_row2_col3,#T_334dc_row3_col2{\n",
       "            background-color:  #0a1e5c;\n",
       "            color:  #f1f1f1;\n",
       "        }#T_334dc_row3_col1{\n",
       "            background-color:  #f8fcc9;\n",
       "            color:  #000000;\n",
       "        }#T_334dc_row4_col0{\n",
       "            background-color:  #9cd8b8;\n",
       "            color:  #000000;\n",
       "        }#T_334dc_row4_col1{\n",
       "            background-color:  #f9fdcb;\n",
       "            color:  #000000;\n",
       "        }</style><table id=\"T_334dc_\" ><thead>    <tr>        <th class=\"blank level0\" ></th>        <th class=\"col_heading level0 col0\" >duration_hours</th>        <th class=\"col_heading level0 col1\" >passenger_count</th>        <th class=\"col_heading level0 col2\" >price</th>        <th class=\"col_heading level0 col3\" >manhattan_dist</th>        <th class=\"col_heading level0 col4\" >dur_to_dist_m_hpkm</th>    </tr></thead><tbody>\n",
       "                <tr>\n",
       "                        <th id=\"T_334dc_level0_row0\" class=\"row_heading level0 row0\" >duration_hours</th>\n",
       "                        <td id=\"T_334dc_row0_col0\" class=\"data row0 col0\" >1.0</td>\n",
       "                        <td id=\"T_334dc_row0_col1\" class=\"data row0 col1\" >0.012</td>\n",
       "                        <td id=\"T_334dc_row0_col2\" class=\"data row0 col2\" >0.29</td>\n",
       "                        <td id=\"T_334dc_row0_col3\" class=\"data row0 col3\" >0.29</td>\n",
       "                        <td id=\"T_334dc_row0_col4\" class=\"data row0 col4\" >0.3</td>\n",
       "            </tr>\n",
       "            <tr>\n",
       "                        <th id=\"T_334dc_level0_row1\" class=\"row_heading level0 row1\" >passenger_count</th>\n",
       "                        <td id=\"T_334dc_row1_col0\" class=\"data row1 col0\" >0.012</td>\n",
       "                        <td id=\"T_334dc_row1_col1\" class=\"data row1 col1\" >1.0</td>\n",
       "                        <td id=\"T_334dc_row1_col2\" class=\"data row1 col2\" >0.088</td>\n",
       "                        <td id=\"T_334dc_row1_col3\" class=\"data row1 col3\" >0.0097</td>\n",
       "                        <td id=\"T_334dc_row1_col4\" class=\"data row1 col4\" >0.0031</td>\n",
       "            </tr>\n",
       "            <tr>\n",
       "                        <th id=\"T_334dc_level0_row2\" class=\"row_heading level0 row2\" >price</th>\n",
       "                        <td id=\"T_334dc_row2_col0\" class=\"data row2 col0\" >0.29</td>\n",
       "                        <td id=\"T_334dc_row2_col1\" class=\"data row2 col1\" >0.088</td>\n",
       "                        <td id=\"T_334dc_row2_col2\" class=\"data row2 col2\" >1.0</td>\n",
       "                        <td id=\"T_334dc_row2_col3\" class=\"data row2 col3\" >0.99</td>\n",
       "                        <td id=\"T_334dc_row2_col4\" class=\"data row2 col4\" >-0.042</td>\n",
       "            </tr>\n",
       "            <tr>\n",
       "                        <th id=\"T_334dc_level0_row3\" class=\"row_heading level0 row3\" >manhattan_dist</th>\n",
       "                        <td id=\"T_334dc_row3_col0\" class=\"data row3 col0\" >0.29</td>\n",
       "                        <td id=\"T_334dc_row3_col1\" class=\"data row3 col1\" >0.0097</td>\n",
       "                        <td id=\"T_334dc_row3_col2\" class=\"data row3 col2\" >0.99</td>\n",
       "                        <td id=\"T_334dc_row3_col3\" class=\"data row3 col3\" >1.0</td>\n",
       "                        <td id=\"T_334dc_row3_col4\" class=\"data row3 col4\" >-0.044</td>\n",
       "            </tr>\n",
       "            <tr>\n",
       "                        <th id=\"T_334dc_level0_row4\" class=\"row_heading level0 row4\" >dur_to_dist_m_hpkm</th>\n",
       "                        <td id=\"T_334dc_row4_col0\" class=\"data row4 col0\" >0.3</td>\n",
       "                        <td id=\"T_334dc_row4_col1\" class=\"data row4 col1\" >0.0031</td>\n",
       "                        <td id=\"T_334dc_row4_col2\" class=\"data row4 col2\" >-0.042</td>\n",
       "                        <td id=\"T_334dc_row4_col3\" class=\"data row4 col3\" >-0.044</td>\n",
       "                        <td id=\"T_334dc_row4_col4\" class=\"data row4 col4\" >1.0</td>\n",
       "            </tr>\n",
       "    </tbody></table>"
      ],
      "text/plain": [
       "<pandas.io.formats.style.Styler at 0x7fc130af2410>"
      ]
     },
     "execution_count": 46,
     "metadata": {},
     "output_type": "execute_result"
    }
   ],
   "source": [
    "inp_df[[\"duration_hours\", \"passenger_count\",'price','manhattan_dist','dur_to_dist_m_hpkm']].corr().style.format(\"{:.2}\").background_gradient(cmap=plt.get_cmap('YlGnBu'),axis=1)"
   ]
  },
  {
   "cell_type": "code",
   "execution_count": 47,
   "id": "7a523796",
   "metadata": {},
   "outputs": [
    {
     "data": {
      "image/png": "[encoded data removed]",
      "text/plain": [
       "<Figure size 1152x432 with 2 Axes>"
      ]
     },
     "metadata": {},
     "output_type": "display_data"
    }
   ],
   "source": [
    "fig = plt.figure(figsize=(16,6))\n",
    "\n",
    "# Plot 1\n",
    "ax1 = plt.subplot(121)\n",
    "\n",
    "plt.xlabel('Distance (KM)', fontsize=14)\n",
    "plt.ylabel('Counts', fontsize=14, weight='bold')\n",
    "plt.tick_params(labelsize=14)\n",
    "plt.title('Distribution of Trip `Distance`', color='navy', fontsize=16,  weight='bold')\n",
    "\n",
    "# plt.xlim([-1,30])\n",
    "ax1= sns.histplot(data= inp_df, x='manhattan_dist', kde=True)\n",
    "\n",
    "# ax1.set_xticks(range(-1,30))\n",
    "\n",
    "# Plot 2\n",
    "ax2 = plt.subplot(122)\n",
    "\n",
    "plt.xlabel('Duration (seconds)', fontsize=14)\n",
    "plt.ylabel('Counts',fontsize=14, weight='bold')\n",
    "plt.tick_params(labelsize=14)\n",
    "plt.title('Distribution of Trip `Duration`', color='navy', fontsize=16,  weight='bold')\n",
    "\n",
    "# plt.xlim([0,6200])\n",
    "ax2= sns.histplot(data=inp_df, x='duration_hours', kde=True)"
   ]
  },
  {
   "cell_type": "code",
   "execution_count": 48,
   "id": "d88119e9",
   "metadata": {},
   "outputs": [
    {
     "data": {
      "text/plain": [
       "<AxesSubplot:title={'center':'Trip Duration and Distance plot per pickup-dropoff pair'}, xlabel='manhattan_dist', ylabel='duration_hours'>"
      ]
     },
     "execution_count": 48,
     "metadata": {},
     "output_type": "execute_result"
    },
    {
     "data": {
      "image/png": "[encoded data removed]",
      "text/plain": [
       "<Figure size 1440x720 with 1 Axes>"
      ]
     },
     "metadata": {},
     "output_type": "display_data"
    }
   ],
   "source": [
    "fig,ax = plt.subplots(1, figsize=(20,10))\n",
    "\n",
    "ax.set_xlabel('hour')\n",
    "ax.set_title('Trip Duration and Distance plot per pickup-dropoff pair',fontsize=16,  weight='bold' )\n",
    "\n",
    "sns.regplot(x=\"manhattan_dist\", y=\"duration_hours\", data=inp_df, ax=ax)"
   ]
  },
  {
   "cell_type": "markdown",
   "id": "57236e69",
   "metadata": {},
   "source": [
    "### Distance and Duration viz - outliers\n",
    "Output loaded from the geographical analysis of pickup points - book 2"
   ]
  },
  {
   "cell_type": "code",
   "execution_count": 49,
   "id": "98840ae8",
   "metadata": {},
   "outputs": [],
   "source": [
    "outp_df = pd.read_csv('./data/joined_outnyc_p.csv')"
   ]
  },
  {
   "cell_type": "code",
   "execution_count": 50,
   "id": "ecd25de0",
   "metadata": {},
   "outputs": [
    {
     "name": "stdout",
     "output_type": "stream",
     "text": [
      "<class 'pandas.core.frame.DataFrame'>\n",
      "RangeIndex: 15555 entries, 0 to 15554\n",
      "Data columns (total 29 columns):\n",
      " #   Column              Non-Null Count  Dtype  \n",
      "---  ------              --------------  -----  \n",
      " 0   Unnamed: 0          15555 non-null  int64  \n",
      " 1   Unnamed: 0.1        15555 non-null  int64  \n",
      " 2   id                  15555 non-null  object \n",
      " 3   vendor_id           15555 non-null  int64  \n",
      " 4   pickup_datetime     15555 non-null  object \n",
      " 5   dropoff_datetime    15555 non-null  object \n",
      " 6   passenger_count     15555 non-null  int64  \n",
      " 7   pickup_longitude    15555 non-null  float64\n",
      " 8   pickup_latitude     15555 non-null  float64\n",
      " 9   dropoff_longitude   15555 non-null  float64\n",
      " 10  dropoff_latitude    15555 non-null  float64\n",
      " 11  store_and_fwd_flag  15555 non-null  bool   \n",
      " 12  duration            15555 non-null  int64  \n",
      " 13  distance            15555 non-null  float64\n",
      " 14  manhattan_dist      15555 non-null  float64\n",
      " 15  duration_hours      15555 non-null  float64\n",
      " 16  duration_min        15555 non-null  float64\n",
      " 17  dur_to_dist_m_hpkm  15555 non-null  float64\n",
      " 18  dur_to_dist_m_spkm  15555 non-null  float64\n",
      " 19  speed_kmph_m        15555 non-null  float64\n",
      " 20  day_name            15555 non-null  object \n",
      " 21  hour                15555 non-null  int64  \n",
      " 22  price               15555 non-null  float64\n",
      " 23  month_name          15555 non-null  object \n",
      " 24  day                 15555 non-null  int64  \n",
      " 25  geometry            15555 non-null  object \n",
      " 26  index_right         0 non-null      float64\n",
      " 27  zcta                0 non-null      float64\n",
      " 28  bcode               0 non-null      float64\n",
      "dtypes: bool(1), float64(15), int64(7), object(6)\n",
      "memory usage: 3.3+ MB\n",
      "None\n"
     ]
    },
    {
     "data": {
      "text/html": [
       "<div>\n",
       "<style scoped>\n",
       "    .dataframe tbody tr th:only-of-type {\n",
       "        vertical-align: middle;\n",
       "    }\n",
       "\n",
       "    .dataframe tbody tr th {\n",
       "        vertical-align: top;\n",
       "    }\n",
       "\n",
       "    .dataframe thead th {\n",
       "        text-align: right;\n",
       "    }\n",
       "</style>\n",
       "<table border=\"1\" class=\"dataframe\">\n",
       "  <thead>\n",
       "    <tr style=\"text-align: right;\">\n",
       "      <th></th>\n",
       "      <th>Unnamed: 0</th>\n",
       "      <th>Unnamed: 0.1</th>\n",
       "      <th>id</th>\n",
       "      <th>vendor_id</th>\n",
       "      <th>pickup_datetime</th>\n",
       "      <th>dropoff_datetime</th>\n",
       "      <th>passenger_count</th>\n",
       "      <th>pickup_longitude</th>\n",
       "      <th>pickup_latitude</th>\n",
       "      <th>dropoff_longitude</th>\n",
       "      <th>...</th>\n",
       "      <th>speed_kmph_m</th>\n",
       "      <th>day_name</th>\n",
       "      <th>hour</th>\n",
       "      <th>price</th>\n",
       "      <th>month_name</th>\n",
       "      <th>day</th>\n",
       "      <th>geometry</th>\n",
       "      <th>index_right</th>\n",
       "      <th>zcta</th>\n",
       "      <th>bcode</th>\n",
       "    </tr>\n",
       "  </thead>\n",
       "  <tbody>\n",
       "    <tr>\n",
       "      <th>0</th>\n",
       "      <td>50</td>\n",
       "      <td>50</td>\n",
       "      <td>id2203135</td>\n",
       "      <td>2</td>\n",
       "      <td>2016-01-14 11:08:00</td>\n",
       "      <td>2016-01-14 11:30:00</td>\n",
       "      <td>1</td>\n",
       "      <td>-73.97</td>\n",
       "      <td>40.77</td>\n",
       "      <td>-73.97</td>\n",
       "      <td>...</td>\n",
       "      <td>0.04</td>\n",
       "      <td>Thursday</td>\n",
       "      <td>11</td>\n",
       "      <td>3.50</td>\n",
       "      <td>January</td>\n",
       "      <td>14</td>\n",
       "      <td>POINT (-73.97315979 40.76903152)</td>\n",
       "      <td>NaN</td>\n",
       "      <td>NaN</td>\n",
       "      <td>NaN</td>\n",
       "    </tr>\n",
       "    <tr>\n",
       "      <th>1</th>\n",
       "      <td>52</td>\n",
       "      <td>52</td>\n",
       "      <td>id2714028</td>\n",
       "      <td>1</td>\n",
       "      <td>2016-03-10 03:33:00</td>\n",
       "      <td>2016-03-10 03:42:00</td>\n",
       "      <td>1</td>\n",
       "      <td>-74.03</td>\n",
       "      <td>40.75</td>\n",
       "      <td>-74.03</td>\n",
       "      <td>...</td>\n",
       "      <td>0.11</td>\n",
       "      <td>Thursday</td>\n",
       "      <td>3</td>\n",
       "      <td>3.50</td>\n",
       "      <td>March</td>\n",
       "      <td>10</td>\n",
       "      <td>POINT (-74.03298187 40.74647522)</td>\n",
       "      <td>NaN</td>\n",
       "      <td>NaN</td>\n",
       "      <td>NaN</td>\n",
       "    </tr>\n",
       "    <tr>\n",
       "      <th>2</th>\n",
       "      <td>53</td>\n",
       "      <td>53</td>\n",
       "      <td>id1162751</td>\n",
       "      <td>1</td>\n",
       "      <td>2016-03-02 21:56:00</td>\n",
       "      <td>2016-03-02 21:59:00</td>\n",
       "      <td>1</td>\n",
       "      <td>-74.08</td>\n",
       "      <td>40.23</td>\n",
       "      <td>-74.08</td>\n",
       "      <td>...</td>\n",
       "      <td>0.37</td>\n",
       "      <td>Wednesday</td>\n",
       "      <td>21</td>\n",
       "      <td>3.50</td>\n",
       "      <td>March</td>\n",
       "      <td>2</td>\n",
       "      <td>POINT (-74.07517242 40.22579956)</td>\n",
       "      <td>NaN</td>\n",
       "      <td>NaN</td>\n",
       "      <td>NaN</td>\n",
       "    </tr>\n",
       "    <tr>\n",
       "      <th>3</th>\n",
       "      <td>94</td>\n",
       "      <td>94</td>\n",
       "      <td>id0494126</td>\n",
       "      <td>1</td>\n",
       "      <td>2016-05-17 08:47:00</td>\n",
       "      <td>2016-05-17 09:09:00</td>\n",
       "      <td>1</td>\n",
       "      <td>-73.96</td>\n",
       "      <td>40.78</td>\n",
       "      <td>-73.96</td>\n",
       "      <td>...</td>\n",
       "      <td>0.03</td>\n",
       "      <td>Tuesday</td>\n",
       "      <td>8</td>\n",
       "      <td>3.50</td>\n",
       "      <td>May</td>\n",
       "      <td>17</td>\n",
       "      <td>POINT (-73.96027374000001 40.78171539)</td>\n",
       "      <td>NaN</td>\n",
       "      <td>NaN</td>\n",
       "      <td>NaN</td>\n",
       "    </tr>\n",
       "    <tr>\n",
       "      <th>4</th>\n",
       "      <td>97</td>\n",
       "      <td>97</td>\n",
       "      <td>id1246488</td>\n",
       "      <td>2</td>\n",
       "      <td>2016-03-23 12:14:00</td>\n",
       "      <td>2016-03-23 12:16:00</td>\n",
       "      <td>1</td>\n",
       "      <td>-73.98</td>\n",
       "      <td>40.77</td>\n",
       "      <td>-73.98</td>\n",
       "      <td>...</td>\n",
       "      <td>0.46</td>\n",
       "      <td>Wednesday</td>\n",
       "      <td>12</td>\n",
       "      <td>3.50</td>\n",
       "      <td>March</td>\n",
       "      <td>23</td>\n",
       "      <td>POINT (-73.98154449 40.7677536)</td>\n",
       "      <td>NaN</td>\n",
       "      <td>NaN</td>\n",
       "      <td>NaN</td>\n",
       "    </tr>\n",
       "  </tbody>\n",
       "</table>\n",
       "<p>5 rows × 29 columns</p>\n",
       "</div>"
      ],
      "text/plain": [
       "   Unnamed: 0  Unnamed: 0.1         id  vendor_id      pickup_datetime  \\\n",
       "0          50            50  id2203135          2  2016-01-14 11:08:00   \n",
       "1          52            52  id2714028          1  2016-03-10 03:33:00   \n",
       "2          53            53  id1162751          1  2016-03-02 21:56:00   \n",
       "3          94            94  id0494126          1  2016-05-17 08:47:00   \n",
       "4          97            97  id1246488          2  2016-03-23 12:14:00   \n",
       "\n",
       "      dropoff_datetime  passenger_count  pickup_longitude  pickup_latitude  \\\n",
       "0  2016-01-14 11:30:00                1            -73.97            40.77   \n",
       "1  2016-03-10 03:42:00                1            -74.03            40.75   \n",
       "2  2016-03-02 21:59:00                1            -74.08            40.23   \n",
       "3  2016-05-17 09:09:00                1            -73.96            40.78   \n",
       "4  2016-03-23 12:16:00                1            -73.98            40.77   \n",
       "\n",
       "   dropoff_longitude  ...  speed_kmph_m   day_name  hour  price  month_name  \\\n",
       "0             -73.97  ...          0.04   Thursday    11   3.50     January   \n",
       "1             -74.03  ...          0.11   Thursday     3   3.50       March   \n",
       "2             -74.08  ...          0.37  Wednesday    21   3.50       March   \n",
       "3             -73.96  ...          0.03    Tuesday     8   3.50         May   \n",
       "4             -73.98  ...          0.46  Wednesday    12   3.50       March   \n",
       "\n",
       "   day                                geometry  index_right  zcta  bcode  \n",
       "0   14        POINT (-73.97315979 40.76903152)          NaN   NaN    NaN  \n",
       "1   10        POINT (-74.03298187 40.74647522)          NaN   NaN    NaN  \n",
       "2    2        POINT (-74.07517242 40.22579956)          NaN   NaN    NaN  \n",
       "3   17  POINT (-73.96027374000001 40.78171539)          NaN   NaN    NaN  \n",
       "4   23         POINT (-73.98154449 40.7677536)          NaN   NaN    NaN  \n",
       "\n",
       "[5 rows x 29 columns]"
      ]
     },
     "execution_count": 50,
     "metadata": {},
     "output_type": "execute_result"
    }
   ],
   "source": [
    "print(outp_df.info())\n",
    "outp_df.head(5)\n"
   ]
  },
  {
   "cell_type": "code",
   "execution_count": 51,
   "id": "9b887047",
   "metadata": {},
   "outputs": [
    {
     "data": {
      "text/html": [
       "<div>\n",
       "<style scoped>\n",
       "    .dataframe tbody tr th:only-of-type {\n",
       "        vertical-align: middle;\n",
       "    }\n",
       "\n",
       "    .dataframe tbody tr th {\n",
       "        vertical-align: top;\n",
       "    }\n",
       "\n",
       "    .dataframe thead th {\n",
       "        text-align: right;\n",
       "    }\n",
       "</style>\n",
       "<table border=\"1\" class=\"dataframe\">\n",
       "  <thead>\n",
       "    <tr style=\"text-align: right;\">\n",
       "      <th></th>\n",
       "      <th>count</th>\n",
       "      <th>mean</th>\n",
       "      <th>std</th>\n",
       "      <th>min</th>\n",
       "      <th>25%</th>\n",
       "      <th>50%</th>\n",
       "      <th>75%</th>\n",
       "      <th>max</th>\n",
       "    </tr>\n",
       "  </thead>\n",
       "  <tbody>\n",
       "    <tr>\n",
       "      <th>duration_hours</th>\n",
       "      <td>15555.00</td>\n",
       "      <td>0.23</td>\n",
       "      <td>0.31</td>\n",
       "      <td>0.02</td>\n",
       "      <td>0.11</td>\n",
       "      <td>0.18</td>\n",
       "      <td>0.29</td>\n",
       "      <td>23.57</td>\n",
       "    </tr>\n",
       "    <tr>\n",
       "      <th>passenger_count</th>\n",
       "      <td>15555.00</td>\n",
       "      <td>1.74</td>\n",
       "      <td>1.37</td>\n",
       "      <td>0.00</td>\n",
       "      <td>1.00</td>\n",
       "      <td>1.00</td>\n",
       "      <td>2.00</td>\n",
       "      <td>6.00</td>\n",
       "    </tr>\n",
       "    <tr>\n",
       "      <th>price</th>\n",
       "      <td>15555.00</td>\n",
       "      <td>20.38</td>\n",
       "      <td>28.47</td>\n",
       "      <td>3.50</td>\n",
       "      <td>10.46</td>\n",
       "      <td>14.69</td>\n",
       "      <td>21.61</td>\n",
       "      <td>2058.56</td>\n",
       "    </tr>\n",
       "    <tr>\n",
       "      <th>manhattan_dist</th>\n",
       "      <td>15555.00</td>\n",
       "      <td>3.55</td>\n",
       "      <td>5.15</td>\n",
       "      <td>0.01</td>\n",
       "      <td>1.64</td>\n",
       "      <td>2.45</td>\n",
       "      <td>3.78</td>\n",
       "      <td>326.45</td>\n",
       "    </tr>\n",
       "    <tr>\n",
       "      <th>dur_to_dist_m_hpkm</th>\n",
       "      <td>15555.00</td>\n",
       "      <td>0.10</td>\n",
       "      <td>0.56</td>\n",
       "      <td>0.00</td>\n",
       "      <td>0.05</td>\n",
       "      <td>0.07</td>\n",
       "      <td>0.09</td>\n",
       "      <td>30.09</td>\n",
       "    </tr>\n",
       "  </tbody>\n",
       "</table>\n",
       "</div>"
      ],
      "text/plain": [
       "                      count  mean   std  min   25%   50%   75%     max\n",
       "duration_hours     15555.00  0.23  0.31 0.02  0.11  0.18  0.29   23.57\n",
       "passenger_count    15555.00  1.74  1.37 0.00  1.00  1.00  2.00    6.00\n",
       "price              15555.00 20.38 28.47 3.50 10.46 14.69 21.61 2058.56\n",
       "manhattan_dist     15555.00  3.55  5.15 0.01  1.64  2.45  3.78  326.45\n",
       "dur_to_dist_m_hpkm 15555.00  0.10  0.56 0.00  0.05  0.07  0.09   30.09"
      ]
     },
     "execution_count": 51,
     "metadata": {},
     "output_type": "execute_result"
    }
   ],
   "source": [
    "outp_df[[\"duration_hours\", \"passenger_count\",'price','manhattan_dist','dur_to_dist_m_hpkm']].describe().T\n"
   ]
  },
  {
   "cell_type": "code",
   "execution_count": 52,
   "id": "0ba45017",
   "metadata": {},
   "outputs": [
    {
     "data": {
      "text/html": [
       "<style  type=\"text/css\" >\n",
       "#T_2c7a8_row0_col0,#T_2c7a8_row1_col1,#T_2c7a8_row2_col2,#T_2c7a8_row3_col3,#T_2c7a8_row4_col4{\n",
       "            background-color:  #081d58;\n",
       "            color:  #f1f1f1;\n",
       "        }#T_2c7a8_row0_col1,#T_2c7a8_row1_col0,#T_2c7a8_row1_col4,#T_2c7a8_row2_col4,#T_2c7a8_row3_col4,#T_2c7a8_row4_col3{\n",
       "            background-color:  #ffffd9;\n",
       "            color:  #000000;\n",
       "        }#T_2c7a8_row0_col2{\n",
       "            background-color:  #a5dcb7;\n",
       "            color:  #000000;\n",
       "        }#T_2c7a8_row0_col3{\n",
       "            background-color:  #99d7b8;\n",
       "            color:  #000000;\n",
       "        }#T_2c7a8_row0_col4{\n",
       "            background-color:  #e3f4b2;\n",
       "            color:  #000000;\n",
       "        }#T_2c7a8_row1_col2{\n",
       "            background-color:  #f5fbc2;\n",
       "            color:  #000000;\n",
       "        }#T_2c7a8_row1_col3,#T_2c7a8_row4_col2{\n",
       "            background-color:  #feffd8;\n",
       "            color:  #000000;\n",
       "        }#T_2c7a8_row2_col0{\n",
       "            background-color:  #92d5b9;\n",
       "            color:  #000000;\n",
       "        }#T_2c7a8_row2_col1{\n",
       "            background-color:  #eff9b5;\n",
       "            color:  #000000;\n",
       "        }#T_2c7a8_row2_col3,#T_2c7a8_row3_col2{\n",
       "            background-color:  #0a1e5c;\n",
       "            color:  #f1f1f1;\n",
       "        }#T_2c7a8_row3_col0{\n",
       "            background-color:  #87d0ba;\n",
       "            color:  #000000;\n",
       "        }#T_2c7a8_row3_col1{\n",
       "            background-color:  #f8fcc9;\n",
       "            color:  #000000;\n",
       "        }#T_2c7a8_row4_col0{\n",
       "            background-color:  #d7efb3;\n",
       "            color:  #000000;\n",
       "        }#T_2c7a8_row4_col1{\n",
       "            background-color:  #f8fcca;\n",
       "            color:  #000000;\n",
       "        }</style><table id=\"T_2c7a8_\" ><thead>    <tr>        <th class=\"blank level0\" ></th>        <th class=\"col_heading level0 col0\" >duration_hours</th>        <th class=\"col_heading level0 col1\" >passenger_count</th>        <th class=\"col_heading level0 col2\" >price</th>        <th class=\"col_heading level0 col3\" >manhattan_dist</th>        <th class=\"col_heading level0 col4\" >dur_to_dist_m_hpkm</th>    </tr></thead><tbody>\n",
       "                <tr>\n",
       "                        <th id=\"T_2c7a8_level0_row0\" class=\"row_heading level0 row0\" >duration_hours</th>\n",
       "                        <td id=\"T_2c7a8_row0_col0\" class=\"data row0 col0\" >1.0</td>\n",
       "                        <td id=\"T_2c7a8_row0_col1\" class=\"data row0 col1\" >0.0089</td>\n",
       "                        <td id=\"T_2c7a8_row0_col2\" class=\"data row0 col2\" >0.32</td>\n",
       "                        <td id=\"T_2c7a8_row0_col3\" class=\"data row0 col3\" >0.34</td>\n",
       "                        <td id=\"T_2c7a8_row0_col4\" class=\"data row0 col4\" >0.16</td>\n",
       "            </tr>\n",
       "            <tr>\n",
       "                        <th id=\"T_2c7a8_level0_row1\" class=\"row_heading level0 row1\" >passenger_count</th>\n",
       "                        <td id=\"T_2c7a8_row1_col0\" class=\"data row1 col0\" >0.0089</td>\n",
       "                        <td id=\"T_2c7a8_row1_col1\" class=\"data row1 col1\" >1.0</td>\n",
       "                        <td id=\"T_2c7a8_row1_col2\" class=\"data row1 col2\" >0.082</td>\n",
       "                        <td id=\"T_2c7a8_row1_col3\" class=\"data row1 col3\" >0.014</td>\n",
       "                        <td id=\"T_2c7a8_row1_col4\" class=\"data row1 col4\" >0.009</td>\n",
       "            </tr>\n",
       "            <tr>\n",
       "                        <th id=\"T_2c7a8_level0_row2\" class=\"row_heading level0 row2\" >price</th>\n",
       "                        <td id=\"T_2c7a8_row2_col0\" class=\"data row2 col0\" >0.32</td>\n",
       "                        <td id=\"T_2c7a8_row2_col1\" class=\"data row2 col1\" >0.082</td>\n",
       "                        <td id=\"T_2c7a8_row2_col2\" class=\"data row2 col2\" >1.0</td>\n",
       "                        <td id=\"T_2c7a8_row2_col3\" class=\"data row2 col3\" >0.99</td>\n",
       "                        <td id=\"T_2c7a8_row2_col4\" class=\"data row2 col4\" >-0.037</td>\n",
       "            </tr>\n",
       "            <tr>\n",
       "                        <th id=\"T_2c7a8_level0_row3\" class=\"row_heading level0 row3\" >manhattan_dist</th>\n",
       "                        <td id=\"T_2c7a8_row3_col0\" class=\"data row3 col0\" >0.34</td>\n",
       "                        <td id=\"T_2c7a8_row3_col1\" class=\"data row3 col1\" >0.014</td>\n",
       "                        <td id=\"T_2c7a8_row3_col2\" class=\"data row3 col2\" >0.99</td>\n",
       "                        <td id=\"T_2c7a8_row3_col3\" class=\"data row3 col3\" >1.0</td>\n",
       "                        <td id=\"T_2c7a8_row3_col4\" class=\"data row3 col4\" >-0.042</td>\n",
       "            </tr>\n",
       "            <tr>\n",
       "                        <th id=\"T_2c7a8_level0_row4\" class=\"row_heading level0 row4\" >dur_to_dist_m_hpkm</th>\n",
       "                        <td id=\"T_2c7a8_row4_col0\" class=\"data row4 col0\" >0.16</td>\n",
       "                        <td id=\"T_2c7a8_row4_col1\" class=\"data row4 col1\" >0.009</td>\n",
       "                        <td id=\"T_2c7a8_row4_col2\" class=\"data row4 col2\" >-0.037</td>\n",
       "                        <td id=\"T_2c7a8_row4_col3\" class=\"data row4 col3\" >-0.042</td>\n",
       "                        <td id=\"T_2c7a8_row4_col4\" class=\"data row4 col4\" >1.0</td>\n",
       "            </tr>\n",
       "    </tbody></table>"
      ],
      "text/plain": [
       "<pandas.io.formats.style.Styler at 0x7fc1294a9290>"
      ]
     },
     "execution_count": 52,
     "metadata": {},
     "output_type": "execute_result"
    }
   ],
   "source": [
    "outp_df[[\"duration_hours\", \"passenger_count\",'price','manhattan_dist','dur_to_dist_m_hpkm']].corr().style.format(\"{:.2}\").background_gradient(cmap=plt.get_cmap('YlGnBu'),axis=1)"
   ]
  },
  {
   "cell_type": "code",
   "execution_count": 53,
   "id": "5ab3d491",
   "metadata": {},
   "outputs": [
    {
     "data": {
      "image/png": "[encoded data removed]",
      "text/plain": [
       "<Figure size 1152x432 with 2 Axes>"
      ]
     },
     "metadata": {},
     "output_type": "display_data"
    }
   ],
   "source": [
    "fig = plt.figure(figsize=(16,6))\n",
    "\n",
    "# Plot 1\n",
    "ax1 = plt.subplot(121)\n",
    "\n",
    "plt.xlabel('Distance (KM)', fontsize=14)\n",
    "plt.ylabel('Counts', fontsize=14, weight='bold')\n",
    "plt.tick_params(labelsize=14)\n",
    "plt.title('Distribution of Trip `Distance`', color='navy', fontsize=16,  weight='bold')\n",
    "\n",
    "# plt.xlim([-1,30])\n",
    "ax1= sns.histplot(data= outp_df, x='manhattan_dist', kde=True)\n",
    "\n",
    "# ax1.set_xticks(range(-1,30))\n",
    "\n",
    "# Plot 2\n",
    "ax2 = plt.subplot(122)\n",
    "\n",
    "plt.xlabel('Duration (seconds)', fontsize=14)\n",
    "plt.ylabel('Counts',fontsize=14, weight='bold')\n",
    "plt.tick_params(labelsize=14)\n",
    "plt.title('Distribution of Trip `Duration`', color='navy', fontsize=16,  weight='bold')\n",
    "\n",
    "# plt.xlim([0,6200])\n",
    "ax2= sns.histplot(data=outp_df, x='duration_hours', kde=True)"
   ]
  },
  {
   "cell_type": "code",
   "execution_count": 54,
   "id": "1c77a524",
   "metadata": {},
   "outputs": [
    {
     "data": {
      "text/plain": [
       "<AxesSubplot:title={'center':'Trip Duration and Distance plot per pickup-dropoff pair'}, xlabel='manhattan_dist', ylabel='duration_hours'>"
      ]
     },
     "execution_count": 54,
     "metadata": {},
     "output_type": "execute_result"
    },
    {
     "data": {
      "image/png": "[encoded data removed]",
      "text/plain": [
       "<Figure size 1440x720 with 1 Axes>"
      ]
     },
     "metadata": {},
     "output_type": "display_data"
    }
   ],
   "source": [
    "fig,ax = plt.subplots(1, figsize=(20,10))\n",
    "\n",
    "ax.set_xlabel('hour')\n",
    "ax.set_title('Trip Duration and Distance plot per pickup-dropoff pair')\n",
    "\n",
    "sns.regplot(x=\"manhattan_dist\", y=\"duration_hours\", data=outp_df, ax=ax)"
   ]
  },
  {
   "cell_type": "code",
   "execution_count": 55,
   "id": "b82590e9",
   "metadata": {},
   "outputs": [],
   "source": [
    "inp_df_manhattan = inp_df.query('bcode == 36061')\n"
   ]
  },
  {
   "cell_type": "code",
   "execution_count": 56,
   "id": "25961533",
   "metadata": {},
   "outputs": [
    {
     "data": {
      "text/plain": [
       "10019    66780\n",
       "10022    55759\n",
       "10003    54031\n",
       "10016    53621\n",
       "10011    53268\n",
       "         ...  \n",
       "10034      150\n",
       "10040       87\n",
       "10044       65\n",
       "10271       48\n",
       "10115       10\n",
       "Name: zcta, Length: 69, dtype: int64"
      ]
     },
     "execution_count": 56,
     "metadata": {},
     "output_type": "execute_result"
    }
   ],
   "source": [
    "inp_df_manhattan['zcta'].value_counts()"
   ]
  },
  {
   "cell_type": "code",
   "execution_count": 57,
   "id": "61dedb5a",
   "metadata": {},
   "outputs": [
    {
     "data": {
      "text/plain": [
       "count   939470.00\n",
       "mean       318.61\n",
       "std       1886.19\n",
       "min          0.44\n",
       "25%        167.00\n",
       "50%        231.08\n",
       "75%        322.25\n",
       "max     700912.65\n",
       "Name: dur_to_dist_m_spkm, dtype: float64"
      ]
     },
     "execution_count": 57,
     "metadata": {},
     "output_type": "execute_result"
    }
   ],
   "source": [
    "inp_df_manhattan['dur_to_dist_m_spkm'].describe()"
   ]
  },
  {
   "cell_type": "code",
   "execution_count": null,
   "id": "23b6a0ae",
   "metadata": {},
   "outputs": [],
   "source": []
  }
 ],
 "metadata": {
  "kernelspec": {
   "display_name": "newenv",
   "language": "python",
   "name": "newenv"
  },
  "language_info": {
   "codemirror_mode": {
    "name": "ipython",
    "version": 3
   },
   "file_extension": ".py",
   "mimetype": "text/x-python",
   "name": "python",
   "nbconvert_exporter": "python",
   "pygments_lexer": "ipython3",
   "version": "3.7.7"
  }
 },
 "nbformat": 4,
 "nbformat_minor": 5
}
