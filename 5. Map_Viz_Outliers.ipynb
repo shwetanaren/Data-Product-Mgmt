{
 "cells": [
  {
   "cell_type": "code",
   "execution_count": 1,
   "id": "d8fb2135",
   "metadata": {},
   "outputs": [
    {
     "name": "stdout",
     "output_type": "stream",
     "text": [
      "3.7.7 (default, Mar 23 2020, 17:31:31) \n",
      "[Clang 4.0.1 (tags/RELEASE_401/final)]\n",
      "GeoPandas version: 0.8.1\n"
     ]
    }
   ],
   "source": [
    "import sys\n",
    "print(sys.version)\n",
    "\n",
    "import pandas as pd\n",
    "import numpy as np\n",
    "\n",
    "import geopandas as gpd\n",
    "print(f'GeoPandas version:', gpd.__version__)\n",
    "\n",
    "from shapely.geometry import Point, Polygon # gpd uses this for geometries\n",
    "import pyproj # gpd uses pyproj for projections\n",
    "import descartes #gpd using descartes to build areas with polygons\n",
    "\n",
    "import folium\n",
    "from geopy.geocoders import Nominatim # convert an address into latitude and longitude values"
   ]
  },
  {
   "cell_type": "code",
   "execution_count": 2,
   "id": "829dc0eb",
   "metadata": {},
   "outputs": [],
   "source": [
    "outp = pd.read_csv('./data/joined_outliers_p.csv')"
   ]
  },
  {
   "cell_type": "code",
   "execution_count": 3,
   "id": "e29b9d43",
   "metadata": {},
   "outputs": [
    {
     "name": "stdout",
     "output_type": "stream",
     "text": [
      "(16306, 30)\n"
     ]
    },
    {
     "data": {
      "text/html": [
       "<div>\n",
       "<style scoped>\n",
       "    .dataframe tbody tr th:only-of-type {\n",
       "        vertical-align: middle;\n",
       "    }\n",
       "\n",
       "    .dataframe tbody tr th {\n",
       "        vertical-align: top;\n",
       "    }\n",
       "\n",
       "    .dataframe thead th {\n",
       "        text-align: right;\n",
       "    }\n",
       "</style>\n",
       "<table border=\"1\" class=\"dataframe\">\n",
       "  <thead>\n",
       "    <tr style=\"text-align: right;\">\n",
       "      <th></th>\n",
       "      <th>Unnamed: 0</th>\n",
       "      <th>id</th>\n",
       "      <th>vendor_id</th>\n",
       "      <th>pickup_datetime</th>\n",
       "      <th>dropoff_datetime</th>\n",
       "      <th>passenger_count</th>\n",
       "      <th>pickup_longitude</th>\n",
       "      <th>pickup_latitude</th>\n",
       "      <th>dropoff_longitude</th>\n",
       "      <th>dropoff_latitude</th>\n",
       "      <th>...</th>\n",
       "      <th>day_name</th>\n",
       "      <th>hour</th>\n",
       "      <th>price</th>\n",
       "      <th>month_name</th>\n",
       "      <th>day</th>\n",
       "      <th>geometry</th>\n",
       "      <th>index_right</th>\n",
       "      <th>zcta</th>\n",
       "      <th>bcode</th>\n",
       "      <th>note</th>\n",
       "    </tr>\n",
       "  </thead>\n",
       "  <tbody>\n",
       "    <tr>\n",
       "      <th>0</th>\n",
       "      <td>3</td>\n",
       "      <td>id0753277</td>\n",
       "      <td>1</td>\n",
       "      <td>2016-01-27 22:29:00</td>\n",
       "      <td>2016-01-27 22:29:00</td>\n",
       "      <td>1</td>\n",
       "      <td>-74.209854</td>\n",
       "      <td>40.816853</td>\n",
       "      <td>-74.209854</td>\n",
       "      <td>40.816853</td>\n",
       "      <td>...</td>\n",
       "      <td>Wednesday</td>\n",
       "      <td>22</td>\n",
       "      <td>5.450000</td>\n",
       "      <td>January</td>\n",
       "      <td>27</td>\n",
       "      <td>POINT (-74.20985413 40.81685257)</td>\n",
       "      <td>NaN</td>\n",
       "      <td>NaN</td>\n",
       "      <td>NaN</td>\n",
       "      <td>NaN</td>\n",
       "    </tr>\n",
       "    <tr>\n",
       "      <th>1</th>\n",
       "      <td>12</td>\n",
       "      <td>id1606138</td>\n",
       "      <td>2</td>\n",
       "      <td>2016-04-27 15:14:00</td>\n",
       "      <td>2016-04-27 15:15:00</td>\n",
       "      <td>2</td>\n",
       "      <td>-74.177780</td>\n",
       "      <td>40.690281</td>\n",
       "      <td>-74.177780</td>\n",
       "      <td>40.690281</td>\n",
       "      <td>...</td>\n",
       "      <td>Wednesday</td>\n",
       "      <td>15</td>\n",
       "      <td>5.116667</td>\n",
       "      <td>April</td>\n",
       "      <td>27</td>\n",
       "      <td>POINT (-74.17778015 40.69028091)</td>\n",
       "      <td>NaN</td>\n",
       "      <td>NaN</td>\n",
       "      <td>NaN</td>\n",
       "      <td>NaN</td>\n",
       "    </tr>\n",
       "    <tr>\n",
       "      <th>2</th>\n",
       "      <td>21</td>\n",
       "      <td>id0688948</td>\n",
       "      <td>1</td>\n",
       "      <td>2016-04-14 20:13:00</td>\n",
       "      <td>2016-04-14 20:13:00</td>\n",
       "      <td>1</td>\n",
       "      <td>-74.161804</td>\n",
       "      <td>40.836494</td>\n",
       "      <td>-74.161804</td>\n",
       "      <td>40.836494</td>\n",
       "      <td>...</td>\n",
       "      <td>Thursday</td>\n",
       "      <td>20</td>\n",
       "      <td>5.250000</td>\n",
       "      <td>April</td>\n",
       "      <td>14</td>\n",
       "      <td>POINT (-74.16180420000001 40.83649445)</td>\n",
       "      <td>NaN</td>\n",
       "      <td>NaN</td>\n",
       "      <td>NaN</td>\n",
       "      <td>NaN</td>\n",
       "    </tr>\n",
       "    <tr>\n",
       "      <th>3</th>\n",
       "      <td>36</td>\n",
       "      <td>id3535158</td>\n",
       "      <td>1</td>\n",
       "      <td>2016-02-11 18:57:00</td>\n",
       "      <td>2016-02-11 19:14:00</td>\n",
       "      <td>1</td>\n",
       "      <td>-73.735237</td>\n",
       "      <td>40.822712</td>\n",
       "      <td>-73.735237</td>\n",
       "      <td>40.822712</td>\n",
       "      <td>...</td>\n",
       "      <td>Thursday</td>\n",
       "      <td>18</td>\n",
       "      <td>21.666667</td>\n",
       "      <td>February</td>\n",
       "      <td>11</td>\n",
       "      <td>POINT (-73.73523711999999 40.82271194)</td>\n",
       "      <td>NaN</td>\n",
       "      <td>NaN</td>\n",
       "      <td>NaN</td>\n",
       "      <td>NaN</td>\n",
       "    </tr>\n",
       "    <tr>\n",
       "      <th>4</th>\n",
       "      <td>50</td>\n",
       "      <td>id1436954</td>\n",
       "      <td>2</td>\n",
       "      <td>2016-04-25 13:18:00</td>\n",
       "      <td>2016-04-25 13:26:00</td>\n",
       "      <td>1</td>\n",
       "      <td>-73.966537</td>\n",
       "      <td>40.784092</td>\n",
       "      <td>-73.966537</td>\n",
       "      <td>40.784092</td>\n",
       "      <td>...</td>\n",
       "      <td>Monday</td>\n",
       "      <td>13</td>\n",
       "      <td>12.266667</td>\n",
       "      <td>April</td>\n",
       "      <td>25</td>\n",
       "      <td>POINT (-73.96653748 40.78409195)</td>\n",
       "      <td>NaN</td>\n",
       "      <td>NaN</td>\n",
       "      <td>NaN</td>\n",
       "      <td>NaN</td>\n",
       "    </tr>\n",
       "  </tbody>\n",
       "</table>\n",
       "<p>5 rows × 30 columns</p>\n",
       "</div>"
      ],
      "text/plain": [
       "   Unnamed: 0         id  vendor_id      pickup_datetime     dropoff_datetime  \\\n",
       "0           3  id0753277          1  2016-01-27 22:29:00  2016-01-27 22:29:00   \n",
       "1          12  id1606138          2  2016-04-27 15:14:00  2016-04-27 15:15:00   \n",
       "2          21  id0688948          1  2016-04-14 20:13:00  2016-04-14 20:13:00   \n",
       "3          36  id3535158          1  2016-02-11 18:57:00  2016-02-11 19:14:00   \n",
       "4          50  id1436954          2  2016-04-25 13:18:00  2016-04-25 13:26:00   \n",
       "\n",
       "   passenger_count  pickup_longitude  pickup_latitude  dropoff_longitude  \\\n",
       "0                1        -74.209854        40.816853         -74.209854   \n",
       "1                2        -74.177780        40.690281         -74.177780   \n",
       "2                1        -74.161804        40.836494         -74.161804   \n",
       "3                1        -73.735237        40.822712         -73.735237   \n",
       "4                1        -73.966537        40.784092         -73.966537   \n",
       "\n",
       "   dropoff_latitude  ...   day_name  hour      price  month_name  day  \\\n",
       "0         40.816853  ...  Wednesday    22   5.450000     January   27   \n",
       "1         40.690281  ...  Wednesday    15   5.116667       April   27   \n",
       "2         40.836494  ...   Thursday    20   5.250000       April   14   \n",
       "3         40.822712  ...   Thursday    18  21.666667    February   11   \n",
       "4         40.784092  ...     Monday    13  12.266667       April   25   \n",
       "\n",
       "                                 geometry  index_right  zcta  bcode  note  \n",
       "0        POINT (-74.20985413 40.81685257)          NaN   NaN    NaN   NaN  \n",
       "1        POINT (-74.17778015 40.69028091)          NaN   NaN    NaN   NaN  \n",
       "2  POINT (-74.16180420000001 40.83649445)          NaN   NaN    NaN   NaN  \n",
       "3  POINT (-73.73523711999999 40.82271194)          NaN   NaN    NaN   NaN  \n",
       "4        POINT (-73.96653748 40.78409195)          NaN   NaN    NaN   NaN  \n",
       "\n",
       "[5 rows x 30 columns]"
      ]
     },
     "execution_count": 3,
     "metadata": {},
     "output_type": "execute_result"
    }
   ],
   "source": [
    "print(outp.shape)\n",
    "outp.head()"
   ]
  },
  {
   "cell_type": "markdown",
   "id": "8328df1a",
   "metadata": {},
   "source": [
    "### Using Nominatim library to get the location coordinates of NYC"
   ]
  },
  {
   "cell_type": "code",
   "execution_count": 4,
   "id": "d288aeae",
   "metadata": {},
   "outputs": [
    {
     "name": "stdout",
     "output_type": "stream",
     "text": [
      "The geograpical coordinate of New York City are 40.7127281, -74.0060152.\n"
     ]
    }
   ],
   "source": [
    "#finding the location coordinates of NYC region \n",
    "\n",
    "address = 'New York City, NY'\n",
    "location = None\n",
    "\n",
    "# define an instance of the geocoder -> ny_explorer\n",
    "while location == None:\n",
    "    try:\n",
    "        geolocator = Nominatim(user_agent=\"ny_explorer\")\n",
    "        location = geolocator.geocode(address)\n",
    "        latitude = location.latitude\n",
    "        longitude = location.longitude\n",
    "    except:\n",
    "        pass\n",
    "print('The geograpical coordinate of New York City are {}, {}.'.format(latitude, longitude))"
   ]
  },
  {
   "cell_type": "code",
   "execution_count": 5,
   "id": "6a3ecb00",
   "metadata": {},
   "outputs": [],
   "source": [
    "m = folium.Map(location=[40.7127281, -74.0060152], tiles = 'Stamen Toner', zoom_start = 11)"
   ]
  },
  {
   "cell_type": "code",
   "execution_count": 6,
   "id": "aefcad63",
   "metadata": {},
   "outputs": [
    {
     "data": {
      "text/html": [
       "<div style=\"width:100%;\"><div style=\"position:relative;width:100%;height:0;padding-bottom:60%;\"><span style=\"color:#565656\">Make this Notebook Trusted to load map: File -> Trust Notebook</span><iframe src=\"about:blank\" style=\"position:absolute;width:100%;height:100%;left:0;top:0;border:none !important;\" data-html=%3C%21DOCTYPE%20html%3E%0A%3Chead%3E%20%20%20%20%0A%20%20%20%20%3Cmeta%20http-equiv%3D%22content-type%22%20content%3D%22text/html%3B%20charset%3DUTF-8%22%20/%3E%0A%20%20%20%20%0A%20%20%20%20%20%20%20%20%3Cscript%3E%0A%20%20%20%20%20%20%20%20%20%20%20%20L_NO_TOUCH%20%3D%20false%3B%0A%20%20%20%20%20%20%20%20%20%20%20%20L_DISABLE_3D%20%3D%20false%3B%0A%20%20%20%20%20%20%20%20%3C/script%3E%0A%20%20%20%20%0A%20%20%20%20%3Cstyle%3Ehtml%2C%20body%20%7Bwidth%3A%20100%25%3Bheight%3A%20100%25%3Bmargin%3A%200%3Bpadding%3A%200%3B%7D%3C/style%3E%0A%20%20%20%20%3Cstyle%3E%23map%20%7Bposition%3Aabsolute%3Btop%3A0%3Bbottom%3A0%3Bright%3A0%3Bleft%3A0%3B%7D%3C/style%3E%0A%20%20%20%20%3Cscript%20src%3D%22https%3A//cdn.jsdelivr.net/npm/leaflet%401.6.0/dist/leaflet.js%22%3E%3C/script%3E%0A%20%20%20%20%3Cscript%20src%3D%22https%3A//code.jquery.com/jquery-1.12.4.min.js%22%3E%3C/script%3E%0A%20%20%20%20%3Cscript%20src%3D%22https%3A//maxcdn.bootstrapcdn.com/bootstrap/3.2.0/js/bootstrap.min.js%22%3E%3C/script%3E%0A%20%20%20%20%3Cscript%20src%3D%22https%3A//cdnjs.cloudflare.com/ajax/libs/Leaflet.awesome-markers/2.0.2/leaflet.awesome-markers.js%22%3E%3C/script%3E%0A%20%20%20%20%3Clink%20rel%3D%22stylesheet%22%20href%3D%22https%3A//cdn.jsdelivr.net/npm/leaflet%401.6.0/dist/leaflet.css%22/%3E%0A%20%20%20%20%3Clink%20rel%3D%22stylesheet%22%20href%3D%22https%3A//maxcdn.bootstrapcdn.com/bootstrap/3.2.0/css/bootstrap.min.css%22/%3E%0A%20%20%20%20%3Clink%20rel%3D%22stylesheet%22%20href%3D%22https%3A//maxcdn.bootstrapcdn.com/bootstrap/3.2.0/css/bootstrap-theme.min.css%22/%3E%0A%20%20%20%20%3Clink%20rel%3D%22stylesheet%22%20href%3D%22https%3A//maxcdn.bootstrapcdn.com/font-awesome/4.6.3/css/font-awesome.min.css%22/%3E%0A%20%20%20%20%3Clink%20rel%3D%22stylesheet%22%20href%3D%22https%3A//cdnjs.cloudflare.com/ajax/libs/Leaflet.awesome-markers/2.0.2/leaflet.awesome-markers.css%22/%3E%0A%20%20%20%20%3Clink%20rel%3D%22stylesheet%22%20href%3D%22https%3A//cdn.jsdelivr.net/gh/python-visualization/folium/folium/templates/leaflet.awesome.rotate.min.css%22/%3E%0A%20%20%20%20%0A%20%20%20%20%20%20%20%20%20%20%20%20%3Cmeta%20name%3D%22viewport%22%20content%3D%22width%3Ddevice-width%2C%0A%20%20%20%20%20%20%20%20%20%20%20%20%20%20%20%20initial-scale%3D1.0%2C%20maximum-scale%3D1.0%2C%20user-scalable%3Dno%22%20/%3E%0A%20%20%20%20%20%20%20%20%20%20%20%20%3Cstyle%3E%0A%20%20%20%20%20%20%20%20%20%20%20%20%20%20%20%20%23map_2ad0f22317b045fb998328dc8512bc8f%20%7B%0A%20%20%20%20%20%20%20%20%20%20%20%20%20%20%20%20%20%20%20%20position%3A%20relative%3B%0A%20%20%20%20%20%20%20%20%20%20%20%20%20%20%20%20%20%20%20%20width%3A%20100.0%25%3B%0A%20%20%20%20%20%20%20%20%20%20%20%20%20%20%20%20%20%20%20%20height%3A%20100.0%25%3B%0A%20%20%20%20%20%20%20%20%20%20%20%20%20%20%20%20%20%20%20%20left%3A%200.0%25%3B%0A%20%20%20%20%20%20%20%20%20%20%20%20%20%20%20%20%20%20%20%20top%3A%200.0%25%3B%0A%20%20%20%20%20%20%20%20%20%20%20%20%20%20%20%20%7D%0A%20%20%20%20%20%20%20%20%20%20%20%20%3C/style%3E%0A%20%20%20%20%20%20%20%20%0A%3C/head%3E%0A%3Cbody%3E%20%20%20%20%0A%20%20%20%20%0A%20%20%20%20%20%20%20%20%20%20%20%20%3Cdiv%20class%3D%22folium-map%22%20id%3D%22map_2ad0f22317b045fb998328dc8512bc8f%22%20%3E%3C/div%3E%0A%20%20%20%20%20%20%20%20%0A%3C/body%3E%0A%3Cscript%3E%20%20%20%20%0A%20%20%20%20%0A%20%20%20%20%20%20%20%20%20%20%20%20var%20map_2ad0f22317b045fb998328dc8512bc8f%20%3D%20L.map%28%0A%20%20%20%20%20%20%20%20%20%20%20%20%20%20%20%20%22map_2ad0f22317b045fb998328dc8512bc8f%22%2C%0A%20%20%20%20%20%20%20%20%20%20%20%20%20%20%20%20%7B%0A%20%20%20%20%20%20%20%20%20%20%20%20%20%20%20%20%20%20%20%20center%3A%20%5B40.7127281%2C%20-74.0060152%5D%2C%0A%20%20%20%20%20%20%20%20%20%20%20%20%20%20%20%20%20%20%20%20crs%3A%20L.CRS.EPSG3857%2C%0A%20%20%20%20%20%20%20%20%20%20%20%20%20%20%20%20%20%20%20%20zoom%3A%2011%2C%0A%20%20%20%20%20%20%20%20%20%20%20%20%20%20%20%20%20%20%20%20zoomControl%3A%20true%2C%0A%20%20%20%20%20%20%20%20%20%20%20%20%20%20%20%20%20%20%20%20preferCanvas%3A%20false%2C%0A%20%20%20%20%20%20%20%20%20%20%20%20%20%20%20%20%7D%0A%20%20%20%20%20%20%20%20%20%20%20%20%29%3B%0A%0A%20%20%20%20%20%20%20%20%20%20%20%20%0A%0A%20%20%20%20%20%20%20%20%0A%20%20%20%20%0A%20%20%20%20%20%20%20%20%20%20%20%20var%20tile_layer_183f869e4d4e4032a78b3afe17713fee%20%3D%20L.tileLayer%28%0A%20%20%20%20%20%20%20%20%20%20%20%20%20%20%20%20%22https%3A//stamen-tiles-%7Bs%7D.a.ssl.fastly.net/toner/%7Bz%7D/%7Bx%7D/%7By%7D.png%22%2C%0A%20%20%20%20%20%20%20%20%20%20%20%20%20%20%20%20%7B%22attribution%22%3A%20%22Map%20tiles%20by%20%5Cu003ca%20href%3D%5C%22http%3A//stamen.com%5C%22%5Cu003eStamen%20Design%5Cu003c/a%5Cu003e%2C%20under%20%5Cu003ca%20href%3D%5C%22http%3A//creativecommons.org/licenses/by/3.0%5C%22%5Cu003eCC%20BY%203.0%5Cu003c/a%5Cu003e.%20Data%20by%20%5Cu0026copy%3B%20%5Cu003ca%20href%3D%5C%22http%3A//openstreetmap.org%5C%22%5Cu003eOpenStreetMap%5Cu003c/a%5Cu003e%2C%20under%20%5Cu003ca%20href%3D%5C%22http%3A//www.openstreetmap.org/copyright%5C%22%5Cu003eODbL%5Cu003c/a%5Cu003e.%22%2C%20%22detectRetina%22%3A%20false%2C%20%22maxNativeZoom%22%3A%2018%2C%20%22maxZoom%22%3A%2018%2C%20%22minZoom%22%3A%200%2C%20%22noWrap%22%3A%20false%2C%20%22opacity%22%3A%201%2C%20%22subdomains%22%3A%20%22abc%22%2C%20%22tms%22%3A%20false%7D%0A%20%20%20%20%20%20%20%20%20%20%20%20%29.addTo%28map_2ad0f22317b045fb998328dc8512bc8f%29%3B%0A%20%20%20%20%20%20%20%20%0A%3C/script%3E onload=\"this.contentDocument.open();this.contentDocument.write(    decodeURIComponent(this.getAttribute('data-html')));this.contentDocument.close();\" allowfullscreen webkitallowfullscreen mozallowfullscreen></iframe></div></div>"
      ],
      "text/plain": [
       "<folium.folium.Map at 0x7fcf73c14390>"
      ]
     },
     "execution_count": 6,
     "metadata": {},
     "output_type": "execute_result"
    }
   ],
   "source": [
    "m"
   ]
  },
  {
   "cell_type": "markdown",
   "id": "c5e3df04",
   "metadata": {},
   "source": [
    "### Adding the outliers to the map"
   ]
  },
  {
   "cell_type": "code",
   "execution_count": 7,
   "id": "8a33207c",
   "metadata": {},
   "outputs": [],
   "source": [
    "# for i in range(len(outp)):\n",
    "#     folium.Circle(\n",
    "#         location=[outp.iloc[i]['pickup_latitude'], outp.iloc[i]['pickup_longitude']],\n",
    "#         radius=20,          \n",
    "#     ).add_to(m)"
   ]
  },
  {
   "cell_type": "code",
   "execution_count": 8,
   "id": "3767b309",
   "metadata": {},
   "outputs": [],
   "source": [
    "# m"
   ]
  },
  {
   "cell_type": "code",
   "execution_count": 9,
   "id": "ae7f56bf",
   "metadata": {},
   "outputs": [],
   "source": [
    "# m.save('outliers_pickup.html')"
   ]
  },
  {
   "cell_type": "markdown",
   "id": "64cacb79",
   "metadata": {},
   "source": [
    "### Opening the inliers dataset "
   ]
  },
  {
   "cell_type": "code",
   "execution_count": 10,
   "id": "489809d6",
   "metadata": {},
   "outputs": [],
   "source": [
    "inp = pd.read_csv('./data/joined_inliers_p.csv')"
   ]
  },
  {
   "cell_type": "code",
   "execution_count": 14,
   "id": "eecbd86b",
   "metadata": {},
   "outputs": [
    {
     "name": "stdout",
     "output_type": "stream",
     "text": [
      "(1032162, 30)\n"
     ]
    },
    {
     "data": {
      "text/html": [
       "<div>\n",
       "<style scoped>\n",
       "    .dataframe tbody tr th:only-of-type {\n",
       "        vertical-align: middle;\n",
       "    }\n",
       "\n",
       "    .dataframe tbody tr th {\n",
       "        vertical-align: top;\n",
       "    }\n",
       "\n",
       "    .dataframe thead th {\n",
       "        text-align: right;\n",
       "    }\n",
       "</style>\n",
       "<table border=\"1\" class=\"dataframe\">\n",
       "  <thead>\n",
       "    <tr style=\"text-align: right;\">\n",
       "      <th></th>\n",
       "      <th>Unnamed: 0</th>\n",
       "      <th>id</th>\n",
       "      <th>vendor_id</th>\n",
       "      <th>pickup_datetime</th>\n",
       "      <th>dropoff_datetime</th>\n",
       "      <th>passenger_count</th>\n",
       "      <th>pickup_longitude</th>\n",
       "      <th>pickup_latitude</th>\n",
       "      <th>dropoff_longitude</th>\n",
       "      <th>dropoff_latitude</th>\n",
       "      <th>...</th>\n",
       "      <th>day_name</th>\n",
       "      <th>hour</th>\n",
       "      <th>price</th>\n",
       "      <th>month_name</th>\n",
       "      <th>day</th>\n",
       "      <th>geometry</th>\n",
       "      <th>index_right</th>\n",
       "      <th>zcta</th>\n",
       "      <th>bcode</th>\n",
       "      <th>note</th>\n",
       "    </tr>\n",
       "  </thead>\n",
       "  <tbody>\n",
       "    <tr>\n",
       "      <th>0</th>\n",
       "      <td>0</td>\n",
       "      <td>id3487442</td>\n",
       "      <td>2</td>\n",
       "      <td>2016-02-29 18:39:00</td>\n",
       "      <td>2016-02-29 18:42:00</td>\n",
       "      <td>1</td>\n",
       "      <td>-73.981819</td>\n",
       "      <td>40.768963</td>\n",
       "      <td>-73.981819</td>\n",
       "      <td>40.768963</td>\n",
       "      <td>...</td>\n",
       "      <td>Monday</td>\n",
       "      <td>18</td>\n",
       "      <td>8.783333</td>\n",
       "      <td>February</td>\n",
       "      <td>29</td>\n",
       "      <td>POINT (-73.98181915000001 40.76896286)</td>\n",
       "      <td>23.0</td>\n",
       "      <td>10023</td>\n",
       "      <td>36061</td>\n",
       "      <td>NaN</td>\n",
       "    </tr>\n",
       "    <tr>\n",
       "      <th>1</th>\n",
       "      <td>1</td>\n",
       "      <td>id1145809</td>\n",
       "      <td>2</td>\n",
       "      <td>2016-05-16 23:15:00</td>\n",
       "      <td>2016-05-16 23:31:00</td>\n",
       "      <td>6</td>\n",
       "      <td>-73.808487</td>\n",
       "      <td>40.687336</td>\n",
       "      <td>-73.808487</td>\n",
       "      <td>40.687336</td>\n",
       "      <td>...</td>\n",
       "      <td>Monday</td>\n",
       "      <td>23</td>\n",
       "      <td>22.861667</td>\n",
       "      <td>May</td>\n",
       "      <td>16</td>\n",
       "      <td>POINT (-73.80848693999999 40.68733597)</td>\n",
       "      <td>191.0</td>\n",
       "      <td>11419</td>\n",
       "      <td>36081</td>\n",
       "      <td>NaN</td>\n",
       "    </tr>\n",
       "    <tr>\n",
       "      <th>2</th>\n",
       "      <td>2</td>\n",
       "      <td>id3499387</td>\n",
       "      <td>1</td>\n",
       "      <td>2016-01-25 19:45:00</td>\n",
       "      <td>2016-01-25 19:54:00</td>\n",
       "      <td>1</td>\n",
       "      <td>-73.786720</td>\n",
       "      <td>40.647041</td>\n",
       "      <td>-73.786720</td>\n",
       "      <td>40.647041</td>\n",
       "      <td>...</td>\n",
       "      <td>Monday</td>\n",
       "      <td>19</td>\n",
       "      <td>14.666667</td>\n",
       "      <td>January</td>\n",
       "      <td>25</td>\n",
       "      <td>POINT (-73.78672028 40.64704132)</td>\n",
       "      <td>202.0</td>\n",
       "      <td>11430</td>\n",
       "      <td>36081</td>\n",
       "      <td>NaN</td>\n",
       "    </tr>\n",
       "    <tr>\n",
       "      <th>3</th>\n",
       "      <td>4</td>\n",
       "      <td>id2134482</td>\n",
       "      <td>1</td>\n",
       "      <td>2016-01-22 16:13:00</td>\n",
       "      <td>2016-01-22 16:13:00</td>\n",
       "      <td>1</td>\n",
       "      <td>-73.776314</td>\n",
       "      <td>40.645454</td>\n",
       "      <td>-73.776314</td>\n",
       "      <td>40.645454</td>\n",
       "      <td>...</td>\n",
       "      <td>Friday</td>\n",
       "      <td>16</td>\n",
       "      <td>5.316667</td>\n",
       "      <td>January</td>\n",
       "      <td>22</td>\n",
       "      <td>POINT (-73.77631378 40.64545441)</td>\n",
       "      <td>202.0</td>\n",
       "      <td>11430</td>\n",
       "      <td>36081</td>\n",
       "      <td>NaN</td>\n",
       "    </tr>\n",
       "    <tr>\n",
       "      <th>4</th>\n",
       "      <td>5</td>\n",
       "      <td>id2892749</td>\n",
       "      <td>1</td>\n",
       "      <td>2016-01-18 15:24:00</td>\n",
       "      <td>2016-01-18 15:28:00</td>\n",
       "      <td>5</td>\n",
       "      <td>-73.954666</td>\n",
       "      <td>40.821003</td>\n",
       "      <td>-73.954666</td>\n",
       "      <td>40.821003</td>\n",
       "      <td>...</td>\n",
       "      <td>Monday</td>\n",
       "      <td>15</td>\n",
       "      <td>10.156667</td>\n",
       "      <td>January</td>\n",
       "      <td>18</td>\n",
       "      <td>POINT (-73.95466614 40.82100296)</td>\n",
       "      <td>34.0</td>\n",
       "      <td>10031</td>\n",
       "      <td>36061</td>\n",
       "      <td>NaN</td>\n",
       "    </tr>\n",
       "  </tbody>\n",
       "</table>\n",
       "<p>5 rows × 30 columns</p>\n",
       "</div>"
      ],
      "text/plain": [
       "   Unnamed: 0         id  vendor_id      pickup_datetime     dropoff_datetime  \\\n",
       "0           0  id3487442          2  2016-02-29 18:39:00  2016-02-29 18:42:00   \n",
       "1           1  id1145809          2  2016-05-16 23:15:00  2016-05-16 23:31:00   \n",
       "2           2  id3499387          1  2016-01-25 19:45:00  2016-01-25 19:54:00   \n",
       "3           4  id2134482          1  2016-01-22 16:13:00  2016-01-22 16:13:00   \n",
       "4           5  id2892749          1  2016-01-18 15:24:00  2016-01-18 15:28:00   \n",
       "\n",
       "   passenger_count  pickup_longitude  pickup_latitude  dropoff_longitude  \\\n",
       "0                1        -73.981819        40.768963         -73.981819   \n",
       "1                6        -73.808487        40.687336         -73.808487   \n",
       "2                1        -73.786720        40.647041         -73.786720   \n",
       "3                1        -73.776314        40.645454         -73.776314   \n",
       "4                5        -73.954666        40.821003         -73.954666   \n",
       "\n",
       "   dropoff_latitude  ...  day_name  hour      price  month_name  day  \\\n",
       "0         40.768963  ...    Monday    18   8.783333    February   29   \n",
       "1         40.687336  ...    Monday    23  22.861667         May   16   \n",
       "2         40.647041  ...    Monday    19  14.666667     January   25   \n",
       "3         40.645454  ...    Friday    16   5.316667     January   22   \n",
       "4         40.821003  ...    Monday    15  10.156667     January   18   \n",
       "\n",
       "                                 geometry  index_right   zcta  bcode  note  \n",
       "0  POINT (-73.98181915000001 40.76896286)         23.0  10023  36061   NaN  \n",
       "1  POINT (-73.80848693999999 40.68733597)        191.0  11419  36081   NaN  \n",
       "2        POINT (-73.78672028 40.64704132)        202.0  11430  36081   NaN  \n",
       "3        POINT (-73.77631378 40.64545441)        202.0  11430  36081   NaN  \n",
       "4        POINT (-73.95466614 40.82100296)         34.0  10031  36061   NaN  \n",
       "\n",
       "[5 rows x 30 columns]"
      ]
     },
     "execution_count": 14,
     "metadata": {},
     "output_type": "execute_result"
    }
   ],
   "source": [
    "print(inp.shape)\n",
    "inp.head(5)"
   ]
  },
  {
   "cell_type": "code",
   "execution_count": 15,
   "id": "8b7f5d60",
   "metadata": {},
   "outputs": [],
   "source": [
    "# for i in range(len(inp)):\n",
    "#     folium.Circle(\n",
    "#         location=[inp.iloc[i]['pickup_latitude'], inp.iloc[i]['pickup_longitude']],\n",
    "#         radius=20,  \n",
    "#         fill_color='none'\n",
    "#     ).add_to(m)"
   ]
  },
  {
   "cell_type": "code",
   "execution_count": 16,
   "id": "f2dd7ee9",
   "metadata": {},
   "outputs": [],
   "source": [
    "# m.save('inliers_pickup.html')"
   ]
  },
  {
   "cell_type": "markdown",
   "id": "06f706a4",
   "metadata": {},
   "source": [
    "Saving the dataset in form of HTML."
   ]
  },
  {
   "cell_type": "markdown",
   "id": "34e3c337",
   "metadata": {},
   "source": [
    "### Approach "
   ]
  },
  {
   "cell_type": "markdown",
   "id": "a90104f7",
   "metadata": {},
   "source": [
    "While this operation of plotting 1M+ locations is an expensive operation. I am simplyfying the method to finding the answer. \n",
    "\n",
    "1. I am going to subset the locations that lie within NYC boundary by quereing for the top - zcodes sorted in descending order of this spatial join dataset. \n",
    "\n",
    "\n",
    "2. Performing a reverse geocoding by using the Nominatim - API to map out the location for each of the location ( lat, long). I have done this process outside of this notebook and directly accessing the file here. \n",
    "\n",
    "\n",
    "3. Identifying unique values here and mapping out the top 20% of locations onto the interactive map.\n",
    "\n",
    "\n",
    "\n"
   ]
  },
  {
   "cell_type": "markdown",
   "id": "a38d24b9",
   "metadata": {},
   "source": [
    "### Mapping the subset of high density neighbourhoods using the Folium interactive library. "
   ]
  },
  {
   "cell_type": "code",
   "execution_count": 158,
   "id": "825fdb93",
   "metadata": {},
   "outputs": [],
   "source": [
    "r_geodf = pd.read_csv('./data/5_reverse_geo_nominatim.csv')"
   ]
  },
  {
   "cell_type": "code",
   "execution_count": 159,
   "id": "b4fc1ce8",
   "metadata": {},
   "outputs": [
    {
     "name": "stdout",
     "output_type": "stream",
     "text": [
      "<class 'pandas.core.frame.DataFrame'>\n",
      "RangeIndex: 1048468 entries, 0 to 1048467\n",
      "Data columns (total 20 columns):\n",
      " #   Column             Non-Null Count    Dtype  \n",
      "---  ------             --------------    -----  \n",
      " 0   Unnamed: 0         1048468 non-null  int64  \n",
      " 1   id                 1048468 non-null  object \n",
      " 2   pickup_latitude    1048468 non-null  float64\n",
      " 3   pickup_longitude   1048468 non-null  float64\n",
      " 4   pickup_coordinate  1048468 non-null  object \n",
      " 5   passenger_count    1048468 non-null  int64  \n",
      " 6   pickup_day         1048468 non-null  object \n",
      " 7   pickup_time        1048468 non-null  object \n",
      " 8   dropoff_day        1048468 non-null  object \n",
      " 9   dropoff_time       1048468 non-null  object \n",
      " 10  pickup_hour        1048468 non-null  int64  \n",
      " 11  dropoff_hour       1048468 non-null  int64  \n",
      " 12  geom               1048468 non-null  object \n",
      " 13  pickup_address     1048460 non-null  object \n",
      " 14  pincode            1048459 non-null  object \n",
      " 15  geometry           1048468 non-null  object \n",
      " 16  index_right        1032162 non-null  float64\n",
      " 17  zcta               1032162 non-null  float64\n",
      " 18  bcode              1032162 non-null  float64\n",
      " 19  note               341 non-null      object \n",
      "dtypes: float64(5), int64(4), object(11)\n",
      "memory usage: 160.0+ MB\n",
      "None\n"
     ]
    }
   ],
   "source": [
    "r_geodf.head()\n",
    "print(r_geodf.info())\n",
    "# r_geodf['pickup_address']=r_geodf['pickup_address'].astype('str')"
   ]
  },
  {
   "cell_type": "code",
   "execution_count": null,
   "id": "5664549e",
   "metadata": {},
   "outputs": [],
   "source": [
    "r_geodf=r_geodf[['id','pickup_address','pickup_latitude','pickup_longitude','']]"
   ]
  },
  {
   "cell_type": "code",
   "execution_count": 167,
   "id": "5c0f883a",
   "metadata": {},
   "outputs": [
    {
     "data": {
      "text/plain": [
       "pickup_address    object\n",
       "count              int64\n",
       "dtype: object"
      ]
     },
     "execution_count": 167,
     "metadata": {},
     "output_type": "execute_result"
    }
   ],
   "source": [
    "add_df = r_geodf.groupby('pickup_address')['id'].agg(count='count').sort_values(by='count',ascending=False).reset_index()#by ='id'\n",
    "add_df.dtypes\n",
    "\n",
    "#otherworkings \n",
    "#Follow the above syntax as the below ones are deprecated.\n",
    "# r_geodf = r_geodf.groupby(['pickup_address']).agg({'id':['size'],'pickup_latitude':['mean'],'pickup_longitude':[]'mean'}).sort_values(by='id',ascending=False) #by ='id'\n",
    "# r_geodf_1 = r_geodf.groupby(['pickup_address']).agg(id_count=pd.NamedAgg(column='id',aggfunc='size'),mean_lat=pd.NamedAgg(column='pickup_latitude',aggfunc='mean'),mean_long=pd.NamedAgg(column='pickup_longitude',aggfunc='mean'))\n",
    "                                                                                                                           "
   ]
  },
  {
   "cell_type": "code",
   "execution_count": 174,
   "id": "890c66cc",
   "metadata": {},
   "outputs": [
    {
     "name": "stdout",
     "output_type": "stream",
     "text": [
      "                                      pickup_address  count\n",
      "0  Pennsylvania Station, 9th Avenue, Chelsea, Man...  17758\n",
      "1  LaGuardia Airport, 27th Avenue, East Elmhurst,...  13279\n",
      "2  John F. Kennedy International Airport, Pan Am ...  11723\n",
      "3  Queens, Queens County, New York, 11369, United...   8934\n",
      "4  Grand Central Terminal, Depew Place, Midtown E...   8163\n",
      "5  42nd Street–Times Square–Port Authority Bus Te...   6086\n",
      "6  Queens, Queens County, New York, 11430, United...   4243\n",
      "7  Rockefeller Center, 45, Rockefeller Plaza, Mid...   4225\n",
      "8  34th Street–Herald Square, West 31st Street, K...   3396\n",
      "9  New York University, West 9th Street, Greenwic...   2846\n",
      "<class 'pandas.core.frame.DataFrame'>\n",
      "RangeIndex: 10000 entries, 0 to 9999\n",
      "Data columns (total 2 columns):\n",
      " #   Column          Non-Null Count  Dtype \n",
      "---  ------          --------------  ----- \n",
      " 0   pickup_address  10000 non-null  object\n",
      " 1   count           10000 non-null  int64 \n",
      "dtypes: int64(1), object(1)\n",
      "memory usage: 156.4+ KB\n",
      "None\n",
      "Index(['pickup_address', 'count'], dtype='object')\n"
     ]
    }
   ],
   "source": [
    "print(add_df.head(10))\n",
    "add_df.shape # for \n",
    "print(add_df.info())\n",
    "print(add_df.columns)"
   ]
  },
  {
   "cell_type": "code",
   "execution_count": 189,
   "id": "6760cb15",
   "metadata": {},
   "outputs": [],
   "source": [
    "#subsetting top 5% of this dataset which will come to about ~ 5,000 locations/areas.\n",
    "\n",
    "add_df = add_df.iloc[0:5000]\n",
    "add_df.to_csv('./data/potential_locations.csv', index=False)"
   ]
  },
  {
   "cell_type": "markdown",
   "id": "cb2a956e",
   "metadata": {},
   "source": [
    "### Getting the lat and long coordinates via Nominatim geocode api."
   ]
  },
  {
   "cell_type": "code",
   "execution_count": 176,
   "id": "965cab7e",
   "metadata": {},
   "outputs": [],
   "source": [
    "# combined_add_geo = add_df.join(r_geodf, how='left', on ='pickup_address' )\n",
    "\n",
    "\n",
    "# #.rename(columns = {'Y': 'Yes', 'N': 'No','q9_if_yes':'Price per mile'}, inplace = False)\n",
    "# # print(t_combined.head())\n",
    "# # t_combined.sort_values(by='Price per mile',ascending=False).head(20)\n"
   ]
  },
  {
   "cell_type": "code",
   "execution_count": 177,
   "id": "43b60931",
   "metadata": {},
   "outputs": [],
   "source": [
    "from geopy.geocoders import Nominatim # convert an address into latitude and longitude values"
   ]
  },
  {
   "cell_type": "code",
   "execution_count": 178,
   "id": "6e7e6cb7",
   "metadata": {},
   "outputs": [],
   "source": [
    "#creating a service provider geolocator this time pass timeput to be 10minutes since we have many rows. To \n",
    "#prevent any timeout errors that we might encounter during this process\n",
    "\n",
    "from geopy.extra.rate_limiter import RateLimiter\n",
    "geolocator = Nominatim(user_agent='test_app', timeout=10)\n",
    "geocode = RateLimiter(geolocator.geocode, min_delay_seconds=0.001)"
   ]
  },
  {
   "cell_type": "code",
   "execution_count": 182,
   "id": "3e715768",
   "metadata": {},
   "outputs": [],
   "source": [
    "import tqdm\n",
    "from tqdm.notebook import tqdm_notebook"
   ]
  },
  {
   "cell_type": "code",
   "execution_count": 183,
   "id": "db9f1533",
   "metadata": {},
   "outputs": [
    {
     "data": {
      "application/vnd.jupyter.widget-view+json": {
       "model_id": "1a0e1d9b83fa477a9bed61a40cc662ac",
       "version_major": 2,
       "version_minor": 0
      },
      "text/plain": [
       "my bar!:   0%|          | 0/5000 [00:00<?, ?it/s]"
      ]
     },
     "metadata": {},
     "output_type": "display_data"
    },
    {
     "name": "stderr",
     "output_type": "stream",
     "text": [
      "/usr/local/anaconda3/envs/newenv/lib/python3.7/site-packages/ipykernel_launcher.py:6: SettingWithCopyWarning: \n",
      "A value is trying to be set on a copy of a slice from a DataFrame.\n",
      "Try using .loc[row_indexer,col_indexer] = value instead\n",
      "\n",
      "See the caveats in the documentation: https://pandas.pydata.org/pandas-docs/stable/user_guide/indexing.html#returning-a-view-versus-a-copy\n",
      "  \n"
     ]
    },
    {
     "ename": "AttributeError",
     "evalue": "'NoneType' object has no attribute 'latitude'",
     "output_type": "error",
     "traceback": [
      "\u001b[0;31m---------------------------------------------------------------------------\u001b[0m",
      "\u001b[0;31mAttributeError\u001b[0m                            Traceback (most recent call last)",
      "\u001b[0;32m<ipython-input-183-3a646a244fae>\u001b[0m in \u001b[0;36m<module>\u001b[0;34m\u001b[0m\n\u001b[1;32m      5\u001b[0m \u001b[0mtqdm_notebook\u001b[0m\u001b[0;34m.\u001b[0m\u001b[0mpandas\u001b[0m\u001b[0;34m(\u001b[0m\u001b[0mdesc\u001b[0m\u001b[0;34m=\u001b[0m\u001b[0;34m\"my bar!\"\u001b[0m\u001b[0;34m)\u001b[0m\u001b[0;34m\u001b[0m\u001b[0;34m\u001b[0m\u001b[0m\n\u001b[1;32m      6\u001b[0m \u001b[0madd_df\u001b[0m\u001b[0;34m[\u001b[0m\u001b[0;34m'gcode'\u001b[0m\u001b[0;34m]\u001b[0m \u001b[0;34m=\u001b[0m \u001b[0madd_df\u001b[0m\u001b[0;34m[\u001b[0m\u001b[0;34m'pickup_address'\u001b[0m\u001b[0;34m]\u001b[0m\u001b[0;34m.\u001b[0m\u001b[0mprogress_apply\u001b[0m\u001b[0;34m(\u001b[0m\u001b[0mgeocode\u001b[0m\u001b[0;34m)\u001b[0m\u001b[0;34m\u001b[0m\u001b[0;34m\u001b[0m\u001b[0m\n\u001b[0;32m----> 7\u001b[0;31m \u001b[0madd_df\u001b[0m\u001b[0;34m[\u001b[0m\u001b[0;34m'lat'\u001b[0m\u001b[0;34m]\u001b[0m \u001b[0;34m=\u001b[0m \u001b[0;34m[\u001b[0m\u001b[0mg\u001b[0m\u001b[0;34m.\u001b[0m\u001b[0mlatitude\u001b[0m \u001b[0;32mfor\u001b[0m \u001b[0mg\u001b[0m \u001b[0;32min\u001b[0m \u001b[0madd_df\u001b[0m\u001b[0;34m.\u001b[0m\u001b[0mgcode\u001b[0m\u001b[0;34m]\u001b[0m\u001b[0;34m\u001b[0m\u001b[0;34m\u001b[0m\u001b[0m\n\u001b[0m\u001b[1;32m      8\u001b[0m \u001b[0madd_df\u001b[0m\u001b[0;34m[\u001b[0m\u001b[0;34m'long'\u001b[0m\u001b[0;34m]\u001b[0m \u001b[0;34m=\u001b[0m \u001b[0;34m[\u001b[0m\u001b[0mg\u001b[0m\u001b[0;34m.\u001b[0m\u001b[0mlongitude\u001b[0m \u001b[0;32mfor\u001b[0m \u001b[0mg\u001b[0m \u001b[0;32min\u001b[0m \u001b[0madd_df\u001b[0m\u001b[0;34m.\u001b[0m\u001b[0mgcode\u001b[0m\u001b[0;34m]\u001b[0m\u001b[0;34m\u001b[0m\u001b[0;34m\u001b[0m\u001b[0m\n\u001b[1;32m      9\u001b[0m \u001b[0;34m\u001b[0m\u001b[0m\n",
      "\u001b[0;32m<ipython-input-183-3a646a244fae>\u001b[0m in \u001b[0;36m<listcomp>\u001b[0;34m(.0)\u001b[0m\n\u001b[1;32m      5\u001b[0m \u001b[0mtqdm_notebook\u001b[0m\u001b[0;34m.\u001b[0m\u001b[0mpandas\u001b[0m\u001b[0;34m(\u001b[0m\u001b[0mdesc\u001b[0m\u001b[0;34m=\u001b[0m\u001b[0;34m\"my bar!\"\u001b[0m\u001b[0;34m)\u001b[0m\u001b[0;34m\u001b[0m\u001b[0;34m\u001b[0m\u001b[0m\n\u001b[1;32m      6\u001b[0m \u001b[0madd_df\u001b[0m\u001b[0;34m[\u001b[0m\u001b[0;34m'gcode'\u001b[0m\u001b[0;34m]\u001b[0m \u001b[0;34m=\u001b[0m \u001b[0madd_df\u001b[0m\u001b[0;34m[\u001b[0m\u001b[0;34m'pickup_address'\u001b[0m\u001b[0;34m]\u001b[0m\u001b[0;34m.\u001b[0m\u001b[0mprogress_apply\u001b[0m\u001b[0;34m(\u001b[0m\u001b[0mgeocode\u001b[0m\u001b[0;34m)\u001b[0m\u001b[0;34m\u001b[0m\u001b[0;34m\u001b[0m\u001b[0m\n\u001b[0;32m----> 7\u001b[0;31m \u001b[0madd_df\u001b[0m\u001b[0;34m[\u001b[0m\u001b[0;34m'lat'\u001b[0m\u001b[0;34m]\u001b[0m \u001b[0;34m=\u001b[0m \u001b[0;34m[\u001b[0m\u001b[0mg\u001b[0m\u001b[0;34m.\u001b[0m\u001b[0mlatitude\u001b[0m \u001b[0;32mfor\u001b[0m \u001b[0mg\u001b[0m \u001b[0;32min\u001b[0m \u001b[0madd_df\u001b[0m\u001b[0;34m.\u001b[0m\u001b[0mgcode\u001b[0m\u001b[0;34m]\u001b[0m\u001b[0;34m\u001b[0m\u001b[0;34m\u001b[0m\u001b[0m\n\u001b[0m\u001b[1;32m      8\u001b[0m \u001b[0madd_df\u001b[0m\u001b[0;34m[\u001b[0m\u001b[0;34m'long'\u001b[0m\u001b[0;34m]\u001b[0m \u001b[0;34m=\u001b[0m \u001b[0;34m[\u001b[0m\u001b[0mg\u001b[0m\u001b[0;34m.\u001b[0m\u001b[0mlongitude\u001b[0m \u001b[0;32mfor\u001b[0m \u001b[0mg\u001b[0m \u001b[0;32min\u001b[0m \u001b[0madd_df\u001b[0m\u001b[0;34m.\u001b[0m\u001b[0mgcode\u001b[0m\u001b[0;34m]\u001b[0m\u001b[0;34m\u001b[0m\u001b[0;34m\u001b[0m\u001b[0m\n\u001b[1;32m      9\u001b[0m \u001b[0;34m\u001b[0m\u001b[0m\n",
      "\u001b[0;31mAttributeError\u001b[0m: 'NoneType' object has no attribute 'latitude'"
     ]
    }
   ],
   "source": [
    "# Add a column for the geocodes. Use the geolocator to populate the geocodes for each address.\n",
    "# Extract latitude and longitude to their own columns.\n",
    "#Extract latitude and longitude to their own columns.\n",
    "\n",
    "tqdm_notebook.pandas(desc=\"my bar!\")\n",
    "add_df['gcode'] = add_df['pickup_address'].progress_apply(geocode)\n",
    "add_df['lat'] = [g.latitude for g in add_df.gcode]\n",
    "add_df['long'] = [g.longitude for g in add_df.gcode]\n",
    "\n",
    "df.head()"
   ]
  },
  {
   "cell_type": "markdown",
   "id": "4692a09f",
   "metadata": {},
   "source": [
    "### Mapping the above with cluster markers object on Folium"
   ]
  },
  {
   "cell_type": "code",
   "execution_count": 184,
   "id": "f9874f2f",
   "metadata": {},
   "outputs": [],
   "source": [
    "add_df_new = add_df"
   ]
  },
  {
   "cell_type": "code",
   "execution_count": 187,
   "id": "07b68909",
   "metadata": {},
   "outputs": [
    {
     "data": {
      "text/html": [
       "<div>\n",
       "<style scoped>\n",
       "    .dataframe tbody tr th:only-of-type {\n",
       "        vertical-align: middle;\n",
       "    }\n",
       "\n",
       "    .dataframe tbody tr th {\n",
       "        vertical-align: top;\n",
       "    }\n",
       "\n",
       "    .dataframe thead th {\n",
       "        text-align: right;\n",
       "    }\n",
       "</style>\n",
       "<table border=\"1\" class=\"dataframe\">\n",
       "  <thead>\n",
       "    <tr style=\"text-align: right;\">\n",
       "      <th></th>\n",
       "      <th>pickup_address</th>\n",
       "      <th>count</th>\n",
       "      <th>gcode</th>\n",
       "    </tr>\n",
       "  </thead>\n",
       "  <tbody>\n",
       "    <tr>\n",
       "      <th>0</th>\n",
       "      <td>Pennsylvania Station, 9th Avenue, Chelsea, Man...</td>\n",
       "      <td>17758</td>\n",
       "      <td>None</td>\n",
       "    </tr>\n",
       "    <tr>\n",
       "      <th>1</th>\n",
       "      <td>LaGuardia Airport, 27th Avenue, East Elmhurst,...</td>\n",
       "      <td>13279</td>\n",
       "      <td>(LaGuardia Airport, 27th Avenue, East Elmhurst...</td>\n",
       "    </tr>\n",
       "    <tr>\n",
       "      <th>2</th>\n",
       "      <td>John F. Kennedy International Airport, Pan Am ...</td>\n",
       "      <td>11723</td>\n",
       "      <td>(John F. Kennedy International Airport, Pan Am...</td>\n",
       "    </tr>\n",
       "    <tr>\n",
       "      <th>3</th>\n",
       "      <td>Queens, Queens County, New York, 11369, United...</td>\n",
       "      <td>8934</td>\n",
       "      <td>(Queens, Queens County, New York, United State...</td>\n",
       "    </tr>\n",
       "    <tr>\n",
       "      <th>4</th>\n",
       "      <td>Grand Central Terminal, Depew Place, Midtown E...</td>\n",
       "      <td>8163</td>\n",
       "      <td>(Grand Central Terminal, Depew Place, Manhatta...</td>\n",
       "    </tr>\n",
       "  </tbody>\n",
       "</table>\n",
       "</div>"
      ],
      "text/plain": [
       "                                      pickup_address  count  \\\n",
       "0  Pennsylvania Station, 9th Avenue, Chelsea, Man...  17758   \n",
       "1  LaGuardia Airport, 27th Avenue, East Elmhurst,...  13279   \n",
       "2  John F. Kennedy International Airport, Pan Am ...  11723   \n",
       "3  Queens, Queens County, New York, 11369, United...   8934   \n",
       "4  Grand Central Terminal, Depew Place, Midtown E...   8163   \n",
       "\n",
       "                                               gcode  \n",
       "0                                               None  \n",
       "1  (LaGuardia Airport, 27th Avenue, East Elmhurst...  \n",
       "2  (John F. Kennedy International Airport, Pan Am...  \n",
       "3  (Queens, Queens County, New York, United State...  \n",
       "4  (Grand Central Terminal, Depew Place, Manhatta...  "
      ]
     },
     "execution_count": 187,
     "metadata": {},
     "output_type": "execute_result"
    }
   ],
   "source": [
    "add_df_new.shape\n",
    "add_df_new.head(5)"
   ]
  },
  {
   "cell_type": "markdown",
   "id": "769893a4",
   "metadata": {},
   "source": [
    "## Other approaches to proceed with after solving for the above."
   ]
  },
  {
   "cell_type": "markdown",
   "id": "54cff5f2",
   "metadata": {},
   "source": [
    "# Reference: https://towardsdatascience.com/mapping-messy-addresses-part-2-insights-from-folium-bafd55858faf\n",
    "\n",
    "\n",
    "# define centre of map\n",
    "TOR_COORDINATES = (df['latitude'].mean(), df['longitude'].mean())\n",
    " \n",
    "# subset to match subset of locations\n",
    "MAX_RECORDS = 2500\n",
    "  \n",
    "# create empty map zoomed in on Toronto\n",
    "map_tor = folium.Map(location=TOR_COORDINATES, zoom_start=12)\n",
    "\n",
    "mc = MarkerCluster()\n",
    "\n",
    "# iterate through dataset to create clusters\n",
    "\n",
    "for row in df[0:MAX_RECORDS].itertuples():\n",
    "    mc.add_child(folium.Marker(location=[row.latitude,  row.longitude],\n",
    "                 popup=row.Location))\n",
    "\n",
    "map_tor.add_child(mc)\n",
    "display(map_tor)"
   ]
  },
  {
   "cell_type": "markdown",
   "id": "57f78efe",
   "metadata": {},
   "source": [
    " \n",
    "# subset to match subset of locations\n",
    "MAX_RECORDS = 60000\n",
    "  \n",
    "# define heat map\n",
    "\n",
    "HeatMap(data=df[['latitude', 'longitude', 'Min Delay']].groupby(['latitude', 'longitude']).sum().reset_index().values.tolist(), radius=8, max_zoom=13).add_to(map_tor)\n",
    "\n",
    "\n",
    "display(map_tor)"
   ]
  }
 ],
 "metadata": {
  "kernelspec": {
   "display_name": "newenv",
   "language": "python",
   "name": "newenv"
  },
  "language_info": {
   "codemirror_mode": {
    "name": "ipython",
    "version": 3
   },
   "file_extension": ".py",
   "mimetype": "text/x-python",
   "name": "python",
   "nbconvert_exporter": "python",
   "pygments_lexer": "ipython3",
   "version": "3.7.7"
  }
 },
 "nbformat": 4,
 "nbformat_minor": 5
}
